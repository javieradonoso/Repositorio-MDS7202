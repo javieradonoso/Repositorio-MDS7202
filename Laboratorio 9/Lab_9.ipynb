{
  "cells": [
    {
      "cell_type": "markdown",
      "metadata": {
        "cell_id": "b5c0d2440b3e4995a794ded565213150",
        "deepnote_cell_type": "markdown",
        "id": "_Mql1uRoI5v5"
      },
      "source": [
        "<h1><center>Laboratorio 9: Optimización de modelos 💯</center></h1>\n",
        "\n",
        "<center><strong>MDS7202: Laboratorio de Programación Científica para Ciencia de Datos - Primavera 2024</strong></center>"
      ]
    },
    {
      "cell_type": "markdown",
      "metadata": {
        "cell_id": "bfb94b9656f145ad83e81b75d218cb70",
        "deepnote_cell_type": "markdown",
        "id": "FAPGIlEAI5v8"
      },
      "source": [
        "### **Cuerpo Docente:**\n",
        "\n",
        "- Profesores: Ignacio Meza, Sebastián Tinoco\n",
        "- Auxiliar: Eduardo Moya\n",
        "- Ayudantes: Nicolás Ojeda, Melanie Peña, Valentina Rojas"
      ]
    },
    {
      "cell_type": "markdown",
      "metadata": {
        "cell_id": "b1b537fdd27c43909a49d3476ce64d91",
        "deepnote_cell_type": "markdown",
        "id": "8NozgbkZI5v9"
      },
      "source": [
        "### Equipo: SUPER IMPORTANTE - notebooks sin nombre no serán revisados\n",
        "\n",
        "- Nombre de alumno 1: Javiera Donoso\n",
        "- Nombre de alumno 2: Belén Órdenes\n"
      ]
    },
    {
      "cell_type": "markdown",
      "metadata": {},
      "source": [
        "### **Link de repositorio de GitHub:** [Repositorio](https://github.com/javieradonoso/Repositorio-MDS7202)"
      ]
    },
    {
      "cell_type": "markdown",
      "metadata": {
        "cell_id": "b7dbdd30ab544cb8a8afe00648a586ae",
        "deepnote_cell_type": "markdown",
        "id": "vHU9DI6wI5v9"
      },
      "source": [
        "### Temas a tratar\n",
        "\n",
        "- Predicción de demanda usando `xgboost`\n",
        "- Búsqueda del modelo óptimo de clasificación usando `optuna`\n",
        "- Uso de pipelines.\n",
        "\n",
        "### Reglas:\n",
        "\n",
        "- **Grupos de 2 personas**\n",
        "- Cualquier duda fuera del horario de clases al foro. Mensajes al equipo docente serán respondidos por este medio.\n",
        "- Prohibidas las copias.\n",
        "- Pueden usar cualquer matrial del curso que estimen conveniente.\n",
        "- Código que no se pueda ejecutar, no será revisado.\n",
        "\n",
        "### Objetivos principales del laboratorio\n",
        "\n",
        "- Optimizar modelos usando `optuna`\n",
        "- Recurrir a técnicas de *prunning*\n",
        "- Forzar el aprendizaje de relaciones entre variables mediante *constraints*\n",
        "- Fijar un pipeline con un modelo base que luego se irá optimizando.\n",
        "\n",
        "El laboratorio deberá ser desarrollado sin el uso indiscriminado de iteradores nativos de python (aka \"for\", \"while\"). La idea es que aprendan a exprimir al máximo las funciones optimizadas que nos entrega `pandas`, las cuales vale mencionar, son bastante más eficientes que los iteradores nativos sobre DataFrames."
      ]
    },
    {
      "cell_type": "markdown",
      "metadata": {
        "cell_id": "f1c73babb7f74af588a4fa6ae14829e0",
        "deepnote_cell_type": "markdown",
        "id": "U_-sNOuOI5v9"
      },
      "source": [
        "# Importamos librerias útiles"
      ]
    },
    {
      "cell_type": "code",
      "execution_count": 186,
      "metadata": {
        "cell_id": "51afe4d2df42442b9e5402ffece60ead",
        "deepnote_cell_type": "code",
        "deepnote_to_be_reexecuted": false,
        "execution_millis": 4957,
        "execution_start": 1699544354044,
        "id": "ekHbM85NI5v9",
        "source_hash": null
      },
      "outputs": [],
      "source": [
        "# !pip3 install xgboost"
      ]
    },
    {
      "cell_type": "markdown",
      "metadata": {
        "id": "y6hJXpLCSspz"
      },
      "source": [
        "# El emprendimiento de Fiu"
      ]
    },
    {
      "cell_type": "markdown",
      "metadata": {
        "cell_id": "44d227389a734ac59189c5e0005bc68a",
        "deepnote_cell_type": "markdown",
        "id": "b0bDalAOI5v-"
      },
      "source": [
        "Tras liderar de manera exitosa la implementación de un proyecto de ciencia de datos para caracterizar los datos generados en Santiago 2023, el misterioso corpóreo **Fiu** se anima y decide levantar su propio negocio de consultoría en machine learning. Tras varias e intensas negociaciones, Fiu logra encontrar su *primera chamba*: predecir la demanda (cantidad de venta) de una famosa productora de bebidas de calibre mundial. Al ver el gran potencial y talento que usted ha demostrado en el campo de la ciencia de datos, Fiu lo contrata como data scientist para que forme parte de su nuevo emprendimiento.\n",
        "\n",
        "Para este laboratorio deben trabajar con los datos `sales.csv` subidos a u-cursos, el cual contiene una muestra de ventas de la empresa para diferentes productos en un determinado tiempo.\n",
        "\n",
        "Para comenzar, cargue el dataset señalado y visualice a través de un `.head` los atributos que posee el dataset.\n",
        "\n",
        "<i><p align=\"center\">Fiu siendo felicitado por su excelente desempeño en el proyecto de caracterización de datos</p></i>\n",
        "<p align=\"center\">\n",
        "  <img src=\"https://media-front.elmostrador.cl/2023/09/A_UNO_1506411_2440e.jpg\">\n",
        "</p>"
      ]
    },
    {
      "cell_type": "code",
      "execution_count": 187,
      "metadata": {
        "cell_id": "2f9c82d204b14515ad27ae07e0b77702",
        "deepnote_cell_type": "code",
        "deepnote_to_be_reexecuted": false,
        "execution_millis": 92,
        "execution_start": 1699544359006,
        "id": "QvMPOqHuI5v-",
        "outputId": "659e7a12-d74d-45d6-d3c2-33a6cd338585",
        "source_hash": null
      },
      "outputs": [
        {
          "data": {
            "text/html": [
              "<div>\n",
              "<style scoped>\n",
              "    .dataframe tbody tr th:only-of-type {\n",
              "        vertical-align: middle;\n",
              "    }\n",
              "\n",
              "    .dataframe tbody tr th {\n",
              "        vertical-align: top;\n",
              "    }\n",
              "\n",
              "    .dataframe thead th {\n",
              "        text-align: right;\n",
              "    }\n",
              "</style>\n",
              "<table border=\"1\" class=\"dataframe\">\n",
              "  <thead>\n",
              "    <tr style=\"text-align: right;\">\n",
              "      <th></th>\n",
              "      <th>id</th>\n",
              "      <th>date</th>\n",
              "      <th>city</th>\n",
              "      <th>lat</th>\n",
              "      <th>long</th>\n",
              "      <th>pop</th>\n",
              "      <th>shop</th>\n",
              "      <th>brand</th>\n",
              "      <th>container</th>\n",
              "      <th>capacity</th>\n",
              "      <th>price</th>\n",
              "      <th>quantity</th>\n",
              "    </tr>\n",
              "  </thead>\n",
              "  <tbody>\n",
              "    <tr>\n",
              "      <th>0</th>\n",
              "      <td>0</td>\n",
              "      <td>2012-01-31</td>\n",
              "      <td>Athens</td>\n",
              "      <td>37.97945</td>\n",
              "      <td>23.71622</td>\n",
              "      <td>672130</td>\n",
              "      <td>shop_1</td>\n",
              "      <td>kinder-cola</td>\n",
              "      <td>glass</td>\n",
              "      <td>500ml</td>\n",
              "      <td>0.96</td>\n",
              "      <td>13280</td>\n",
              "    </tr>\n",
              "    <tr>\n",
              "      <th>1</th>\n",
              "      <td>1</td>\n",
              "      <td>2012-01-31</td>\n",
              "      <td>Athens</td>\n",
              "      <td>37.97945</td>\n",
              "      <td>23.71622</td>\n",
              "      <td>672130</td>\n",
              "      <td>shop_1</td>\n",
              "      <td>kinder-cola</td>\n",
              "      <td>plastic</td>\n",
              "      <td>1.5lt</td>\n",
              "      <td>2.86</td>\n",
              "      <td>6727</td>\n",
              "    </tr>\n",
              "    <tr>\n",
              "      <th>2</th>\n",
              "      <td>2</td>\n",
              "      <td>2012-01-31</td>\n",
              "      <td>Athens</td>\n",
              "      <td>37.97945</td>\n",
              "      <td>23.71622</td>\n",
              "      <td>672130</td>\n",
              "      <td>shop_1</td>\n",
              "      <td>kinder-cola</td>\n",
              "      <td>can</td>\n",
              "      <td>330ml</td>\n",
              "      <td>0.87</td>\n",
              "      <td>9848</td>\n",
              "    </tr>\n",
              "    <tr>\n",
              "      <th>3</th>\n",
              "      <td>3</td>\n",
              "      <td>2012-01-31</td>\n",
              "      <td>Athens</td>\n",
              "      <td>37.97945</td>\n",
              "      <td>23.71622</td>\n",
              "      <td>672130</td>\n",
              "      <td>shop_1</td>\n",
              "      <td>adult-cola</td>\n",
              "      <td>glass</td>\n",
              "      <td>500ml</td>\n",
              "      <td>1.00</td>\n",
              "      <td>20050</td>\n",
              "    </tr>\n",
              "    <tr>\n",
              "      <th>4</th>\n",
              "      <td>4</td>\n",
              "      <td>2012-01-31</td>\n",
              "      <td>Athens</td>\n",
              "      <td>37.97945</td>\n",
              "      <td>23.71622</td>\n",
              "      <td>672130</td>\n",
              "      <td>shop_1</td>\n",
              "      <td>adult-cola</td>\n",
              "      <td>can</td>\n",
              "      <td>330ml</td>\n",
              "      <td>0.39</td>\n",
              "      <td>25696</td>\n",
              "    </tr>\n",
              "  </tbody>\n",
              "</table>\n",
              "</div>"
            ],
            "text/plain": [
              "   id       date    city       lat      long     pop    shop        brand  \\\n",
              "0   0 2012-01-31  Athens  37.97945  23.71622  672130  shop_1  kinder-cola   \n",
              "1   1 2012-01-31  Athens  37.97945  23.71622  672130  shop_1  kinder-cola   \n",
              "2   2 2012-01-31  Athens  37.97945  23.71622  672130  shop_1  kinder-cola   \n",
              "3   3 2012-01-31  Athens  37.97945  23.71622  672130  shop_1   adult-cola   \n",
              "4   4 2012-01-31  Athens  37.97945  23.71622  672130  shop_1   adult-cola   \n",
              "\n",
              "  container capacity  price  quantity  \n",
              "0     glass    500ml   0.96     13280  \n",
              "1   plastic    1.5lt   2.86      6727  \n",
              "2       can    330ml   0.87      9848  \n",
              "3     glass    500ml   1.00     20050  \n",
              "4       can    330ml   0.39     25696  "
            ]
          },
          "execution_count": 187,
          "metadata": {},
          "output_type": "execute_result"
        }
      ],
      "source": [
        "import pandas as pd\n",
        "import numpy as np\n",
        "from datetime import datetime\n",
        "\n",
        "df = df = pd.read_csv(\"/Users/belenordenes/Desktop/LABORATORIO/Lab9/sales.csv\")\n",
        "# 'date' en el formato dd/mm/yy\n",
        "df['date'] = pd.to_datetime(df['date'], format='%d/%m/%y')\n",
        "\n",
        "df.head()"
      ]
    },
    {
      "cell_type": "markdown",
      "metadata": {
        "cell_id": "b50db6f2cb804932ae3f9e5748a6ea61",
        "deepnote_cell_type": "markdown",
        "id": "pk4ru76pI5v_"
      },
      "source": [
        "## 1 Generando un Baseline (5 puntos)\n",
        "\n",
        "<p align=\"center\">\n",
        "  <img src=\"https://media.tenor.com/O-lan6TkadUAAAAC/what-i-wnna-do-after-a-baseline.gif\">\n",
        "</p>\n",
        "\n",
        "Antes de entrenar un algoritmo, usted recuerda los apuntes de su magíster en ciencia de datos y recuerda que debe seguir una serie de *buenas prácticas* para entrenar correcta y debidamente su modelo. Después de un par de vueltas, llega a las siguientes tareas:\n",
        "\n",
        "1. Separe los datos en conjuntos de train (70%), validation (20%) y test (10%). Fije una semilla para controlar la aleatoriedad. [0.5 puntos]\n",
        "2. Implemente un `FunctionTransformer` para extraer el día, mes y año de la variable `date`. Guarde estas variables en el formato categorical de pandas. [1 punto]\n",
        "3. Implemente un `ColumnTransformer` para procesar de manera adecuada los datos numéricos y categóricos. Use `OneHotEncoder` para las variables categóricas. `Nota:` Utilice el método `.set_output(transform='pandas')` para obtener un DataFrame como salida del `ColumnTransformer` [1 punto]\n",
        "4. Guarde los pasos anteriores en un `Pipeline`, dejando como último paso el regresor `DummyRegressor` para generar predicciones en base a promedios. [0.5 punto]\n",
        "5. Entrene el pipeline anterior y reporte la métrica `mean_absolute_error` sobre los datos de validación. ¿Cómo se interpreta esta métrica para el contexto del negocio? [0.5 puntos]\n",
        "6. Finalmente, vuelva a entrenar el `Pipeline` pero esta vez usando `XGBRegressor` como modelo **utilizando los parámetros por default**. ¿Cómo cambia el MAE al implementar este algoritmo? ¿Es mejor o peor que el `DummyRegressor`? [1 punto]\n",
        "7. Guarde ambos modelos en un archivo .pkl (uno cada uno) [0.5 puntos]"
      ]
    },
    {
      "cell_type": "markdown",
      "metadata": {},
      "source": [
        "1. Separar conjuntos de train, validation y test"
      ]
    },
    {
      "cell_type": "code",
      "execution_count": 188,
      "metadata": {
        "cell_id": "1482c992d9494e5582b23dbd3431dbfd",
        "deepnote_cell_type": "code",
        "id": "sfnN7HubI5v_"
      },
      "outputs": [
        {
          "name": "stdout",
          "output_type": "stream",
          "text": [
            "Tamaño del conjunto de entrenamiento: 5219\n",
            "Tamaño del conjunto de validación: 1492\n",
            "Tamaño del conjunto de prueba: 745\n"
          ]
        }
      ],
      "source": [
        "from sklearn import set_config\n",
        "set_config(transform_output=\"pandas\")\n",
        "from sklearn.model_selection import train_test_split\n",
        "\n",
        "# Fijar semilla para la aleatoriedad\n",
        "random_seed = 42\n",
        "\n",
        "# Dividir el dataset en train (70%), y el resto (30%) para validation y test\n",
        "train_data, temp_data = train_test_split(df, test_size=0.3, random_state=random_seed)\n",
        "\n",
        "# Luego dividir el resto (temp_data) en validation (20%) y test (10%)\n",
        "val_data, test_data = train_test_split(temp_data, test_size=0.333, random_state=random_seed)\n",
        "\n",
        "# Verificar la cantidad de datos en cada subconjunto\n",
        "print(f'Tamaño del conjunto de entrenamiento: {len(train_data)}')\n",
        "print(f'Tamaño del conjunto de validación: {len(val_data)}')\n",
        "print(f'Tamaño del conjunto de prueba: {len(test_data)}')"
      ]
    },
    {
      "cell_type": "markdown",
      "metadata": {},
      "source": [
        "2. Implementar FunctionTransformer"
      ]
    },
    {
      "cell_type": "code",
      "execution_count": 189,
      "metadata": {},
      "outputs": [],
      "source": [
        "from sklearn.preprocessing import FunctionTransformer\n",
        "\n",
        "# Definir función para extraer día, mes y año\n",
        "\n",
        "def extract_date_features(df):\n",
        "    df = df.copy()\n",
        "    df['day'] = df['date'].dt.day\n",
        "    df['month'] = df['date'].dt.month\n",
        "    df['year'] = df['date'].dt.year\n",
        "    return df\n",
        "\n",
        "# Crear el transformador\n",
        "date_transformer = FunctionTransformer(extract_date_features)\n",
        "\n",
        "# Aplicar el transformador\n",
        "train_data = date_transformer.fit_transform(train_data)\n",
        "val_data = date_transformer.transform(val_data)\n",
        "test_data = date_transformer.transform(test_data)\n",
        "\n",
        "# Convertir las nuevas columnas a categóricas\n",
        "for col in ['day', 'month', 'year']:\n",
        "    train_data[col] = train_data[col].astype('category')\n",
        "    val_data[col] = val_data[col].astype('category')\n",
        "    test_data[col] = test_data[col].astype('category')"
      ]
    },
    {
      "cell_type": "markdown",
      "metadata": {},
      "source": [
        "3. Implemente un `ColumnTransformer` para procesar de manera adecuada los datos numéricos y categóricos. Use `OneHotEncoder` para las variables categóricas. "
      ]
    },
    {
      "cell_type": "code",
      "execution_count": 190,
      "metadata": {},
      "outputs": [
        {
          "data": {
            "text/html": [
              "<style>#sk-container-id-14 {\n",
              "  /* Definition of color scheme common for light and dark mode */\n",
              "  --sklearn-color-text: black;\n",
              "  --sklearn-color-line: gray;\n",
              "  /* Definition of color scheme for unfitted estimators */\n",
              "  --sklearn-color-unfitted-level-0: #fff5e6;\n",
              "  --sklearn-color-unfitted-level-1: #f6e4d2;\n",
              "  --sklearn-color-unfitted-level-2: #ffe0b3;\n",
              "  --sklearn-color-unfitted-level-3: chocolate;\n",
              "  /* Definition of color scheme for fitted estimators */\n",
              "  --sklearn-color-fitted-level-0: #f0f8ff;\n",
              "  --sklearn-color-fitted-level-1: #d4ebff;\n",
              "  --sklearn-color-fitted-level-2: #b3dbfd;\n",
              "  --sklearn-color-fitted-level-3: cornflowerblue;\n",
              "\n",
              "  /* Specific color for light theme */\n",
              "  --sklearn-color-text-on-default-background: var(--sg-text-color, var(--theme-code-foreground, var(--jp-content-font-color1, black)));\n",
              "  --sklearn-color-background: var(--sg-background-color, var(--theme-background, var(--jp-layout-color0, white)));\n",
              "  --sklearn-color-border-box: var(--sg-text-color, var(--theme-code-foreground, var(--jp-content-font-color1, black)));\n",
              "  --sklearn-color-icon: #696969;\n",
              "\n",
              "  @media (prefers-color-scheme: dark) {\n",
              "    /* Redefinition of color scheme for dark theme */\n",
              "    --sklearn-color-text-on-default-background: var(--sg-text-color, var(--theme-code-foreground, var(--jp-content-font-color1, white)));\n",
              "    --sklearn-color-background: var(--sg-background-color, var(--theme-background, var(--jp-layout-color0, #111)));\n",
              "    --sklearn-color-border-box: var(--sg-text-color, var(--theme-code-foreground, var(--jp-content-font-color1, white)));\n",
              "    --sklearn-color-icon: #878787;\n",
              "  }\n",
              "}\n",
              "\n",
              "#sk-container-id-14 {\n",
              "  color: var(--sklearn-color-text);\n",
              "}\n",
              "\n",
              "#sk-container-id-14 pre {\n",
              "  padding: 0;\n",
              "}\n",
              "\n",
              "#sk-container-id-14 input.sk-hidden--visually {\n",
              "  border: 0;\n",
              "  clip: rect(1px 1px 1px 1px);\n",
              "  clip: rect(1px, 1px, 1px, 1px);\n",
              "  height: 1px;\n",
              "  margin: -1px;\n",
              "  overflow: hidden;\n",
              "  padding: 0;\n",
              "  position: absolute;\n",
              "  width: 1px;\n",
              "}\n",
              "\n",
              "#sk-container-id-14 div.sk-dashed-wrapped {\n",
              "  border: 1px dashed var(--sklearn-color-line);\n",
              "  margin: 0 0.4em 0.5em 0.4em;\n",
              "  box-sizing: border-box;\n",
              "  padding-bottom: 0.4em;\n",
              "  background-color: var(--sklearn-color-background);\n",
              "}\n",
              "\n",
              "#sk-container-id-14 div.sk-container {\n",
              "  /* jupyter's `normalize.less` sets `[hidden] { display: none; }`\n",
              "     but bootstrap.min.css set `[hidden] { display: none !important; }`\n",
              "     so we also need the `!important` here to be able to override the\n",
              "     default hidden behavior on the sphinx rendered scikit-learn.org.\n",
              "     See: https://github.com/scikit-learn/scikit-learn/issues/21755 */\n",
              "  display: inline-block !important;\n",
              "  position: relative;\n",
              "}\n",
              "\n",
              "#sk-container-id-14 div.sk-text-repr-fallback {\n",
              "  display: none;\n",
              "}\n",
              "\n",
              "div.sk-parallel-item,\n",
              "div.sk-serial,\n",
              "div.sk-item {\n",
              "  /* draw centered vertical line to link estimators */\n",
              "  background-image: linear-gradient(var(--sklearn-color-text-on-default-background), var(--sklearn-color-text-on-default-background));\n",
              "  background-size: 2px 100%;\n",
              "  background-repeat: no-repeat;\n",
              "  background-position: center center;\n",
              "}\n",
              "\n",
              "/* Parallel-specific style estimator block */\n",
              "\n",
              "#sk-container-id-14 div.sk-parallel-item::after {\n",
              "  content: \"\";\n",
              "  width: 100%;\n",
              "  border-bottom: 2px solid var(--sklearn-color-text-on-default-background);\n",
              "  flex-grow: 1;\n",
              "}\n",
              "\n",
              "#sk-container-id-14 div.sk-parallel {\n",
              "  display: flex;\n",
              "  align-items: stretch;\n",
              "  justify-content: center;\n",
              "  background-color: var(--sklearn-color-background);\n",
              "  position: relative;\n",
              "}\n",
              "\n",
              "#sk-container-id-14 div.sk-parallel-item {\n",
              "  display: flex;\n",
              "  flex-direction: column;\n",
              "}\n",
              "\n",
              "#sk-container-id-14 div.sk-parallel-item:first-child::after {\n",
              "  align-self: flex-end;\n",
              "  width: 50%;\n",
              "}\n",
              "\n",
              "#sk-container-id-14 div.sk-parallel-item:last-child::after {\n",
              "  align-self: flex-start;\n",
              "  width: 50%;\n",
              "}\n",
              "\n",
              "#sk-container-id-14 div.sk-parallel-item:only-child::after {\n",
              "  width: 0;\n",
              "}\n",
              "\n",
              "/* Serial-specific style estimator block */\n",
              "\n",
              "#sk-container-id-14 div.sk-serial {\n",
              "  display: flex;\n",
              "  flex-direction: column;\n",
              "  align-items: center;\n",
              "  background-color: var(--sklearn-color-background);\n",
              "  padding-right: 1em;\n",
              "  padding-left: 1em;\n",
              "}\n",
              "\n",
              "\n",
              "/* Toggleable style: style used for estimator/Pipeline/ColumnTransformer box that is\n",
              "clickable and can be expanded/collapsed.\n",
              "- Pipeline and ColumnTransformer use this feature and define the default style\n",
              "- Estimators will overwrite some part of the style using the `sk-estimator` class\n",
              "*/\n",
              "\n",
              "/* Pipeline and ColumnTransformer style (default) */\n",
              "\n",
              "#sk-container-id-14 div.sk-toggleable {\n",
              "  /* Default theme specific background. It is overwritten whether we have a\n",
              "  specific estimator or a Pipeline/ColumnTransformer */\n",
              "  background-color: var(--sklearn-color-background);\n",
              "}\n",
              "\n",
              "/* Toggleable label */\n",
              "#sk-container-id-14 label.sk-toggleable__label {\n",
              "  cursor: pointer;\n",
              "  display: block;\n",
              "  width: 100%;\n",
              "  margin-bottom: 0;\n",
              "  padding: 0.5em;\n",
              "  box-sizing: border-box;\n",
              "  text-align: center;\n",
              "}\n",
              "\n",
              "#sk-container-id-14 label.sk-toggleable__label-arrow:before {\n",
              "  /* Arrow on the left of the label */\n",
              "  content: \"▸\";\n",
              "  float: left;\n",
              "  margin-right: 0.25em;\n",
              "  color: var(--sklearn-color-icon);\n",
              "}\n",
              "\n",
              "#sk-container-id-14 label.sk-toggleable__label-arrow:hover:before {\n",
              "  color: var(--sklearn-color-text);\n",
              "}\n",
              "\n",
              "/* Toggleable content - dropdown */\n",
              "\n",
              "#sk-container-id-14 div.sk-toggleable__content {\n",
              "  max-height: 0;\n",
              "  max-width: 0;\n",
              "  overflow: hidden;\n",
              "  text-align: left;\n",
              "  /* unfitted */\n",
              "  background-color: var(--sklearn-color-unfitted-level-0);\n",
              "}\n",
              "\n",
              "#sk-container-id-14 div.sk-toggleable__content.fitted {\n",
              "  /* fitted */\n",
              "  background-color: var(--sklearn-color-fitted-level-0);\n",
              "}\n",
              "\n",
              "#sk-container-id-14 div.sk-toggleable__content pre {\n",
              "  margin: 0.2em;\n",
              "  border-radius: 0.25em;\n",
              "  color: var(--sklearn-color-text);\n",
              "  /* unfitted */\n",
              "  background-color: var(--sklearn-color-unfitted-level-0);\n",
              "}\n",
              "\n",
              "#sk-container-id-14 div.sk-toggleable__content.fitted pre {\n",
              "  /* unfitted */\n",
              "  background-color: var(--sklearn-color-fitted-level-0);\n",
              "}\n",
              "\n",
              "#sk-container-id-14 input.sk-toggleable__control:checked~div.sk-toggleable__content {\n",
              "  /* Expand drop-down */\n",
              "  max-height: 200px;\n",
              "  max-width: 100%;\n",
              "  overflow: auto;\n",
              "}\n",
              "\n",
              "#sk-container-id-14 input.sk-toggleable__control:checked~label.sk-toggleable__label-arrow:before {\n",
              "  content: \"▾\";\n",
              "}\n",
              "\n",
              "/* Pipeline/ColumnTransformer-specific style */\n",
              "\n",
              "#sk-container-id-14 div.sk-label input.sk-toggleable__control:checked~label.sk-toggleable__label {\n",
              "  color: var(--sklearn-color-text);\n",
              "  background-color: var(--sklearn-color-unfitted-level-2);\n",
              "}\n",
              "\n",
              "#sk-container-id-14 div.sk-label.fitted input.sk-toggleable__control:checked~label.sk-toggleable__label {\n",
              "  background-color: var(--sklearn-color-fitted-level-2);\n",
              "}\n",
              "\n",
              "/* Estimator-specific style */\n",
              "\n",
              "/* Colorize estimator box */\n",
              "#sk-container-id-14 div.sk-estimator input.sk-toggleable__control:checked~label.sk-toggleable__label {\n",
              "  /* unfitted */\n",
              "  background-color: var(--sklearn-color-unfitted-level-2);\n",
              "}\n",
              "\n",
              "#sk-container-id-14 div.sk-estimator.fitted input.sk-toggleable__control:checked~label.sk-toggleable__label {\n",
              "  /* fitted */\n",
              "  background-color: var(--sklearn-color-fitted-level-2);\n",
              "}\n",
              "\n",
              "#sk-container-id-14 div.sk-label label.sk-toggleable__label,\n",
              "#sk-container-id-14 div.sk-label label {\n",
              "  /* The background is the default theme color */\n",
              "  color: var(--sklearn-color-text-on-default-background);\n",
              "}\n",
              "\n",
              "/* On hover, darken the color of the background */\n",
              "#sk-container-id-14 div.sk-label:hover label.sk-toggleable__label {\n",
              "  color: var(--sklearn-color-text);\n",
              "  background-color: var(--sklearn-color-unfitted-level-2);\n",
              "}\n",
              "\n",
              "/* Label box, darken color on hover, fitted */\n",
              "#sk-container-id-14 div.sk-label.fitted:hover label.sk-toggleable__label.fitted {\n",
              "  color: var(--sklearn-color-text);\n",
              "  background-color: var(--sklearn-color-fitted-level-2);\n",
              "}\n",
              "\n",
              "/* Estimator label */\n",
              "\n",
              "#sk-container-id-14 div.sk-label label {\n",
              "  font-family: monospace;\n",
              "  font-weight: bold;\n",
              "  display: inline-block;\n",
              "  line-height: 1.2em;\n",
              "}\n",
              "\n",
              "#sk-container-id-14 div.sk-label-container {\n",
              "  text-align: center;\n",
              "}\n",
              "\n",
              "/* Estimator-specific */\n",
              "#sk-container-id-14 div.sk-estimator {\n",
              "  font-family: monospace;\n",
              "  border: 1px dotted var(--sklearn-color-border-box);\n",
              "  border-radius: 0.25em;\n",
              "  box-sizing: border-box;\n",
              "  margin-bottom: 0.5em;\n",
              "  /* unfitted */\n",
              "  background-color: var(--sklearn-color-unfitted-level-0);\n",
              "}\n",
              "\n",
              "#sk-container-id-14 div.sk-estimator.fitted {\n",
              "  /* fitted */\n",
              "  background-color: var(--sklearn-color-fitted-level-0);\n",
              "}\n",
              "\n",
              "/* on hover */\n",
              "#sk-container-id-14 div.sk-estimator:hover {\n",
              "  /* unfitted */\n",
              "  background-color: var(--sklearn-color-unfitted-level-2);\n",
              "}\n",
              "\n",
              "#sk-container-id-14 div.sk-estimator.fitted:hover {\n",
              "  /* fitted */\n",
              "  background-color: var(--sklearn-color-fitted-level-2);\n",
              "}\n",
              "\n",
              "/* Specification for estimator info (e.g. \"i\" and \"?\") */\n",
              "\n",
              "/* Common style for \"i\" and \"?\" */\n",
              "\n",
              ".sk-estimator-doc-link,\n",
              "a:link.sk-estimator-doc-link,\n",
              "a:visited.sk-estimator-doc-link {\n",
              "  float: right;\n",
              "  font-size: smaller;\n",
              "  line-height: 1em;\n",
              "  font-family: monospace;\n",
              "  background-color: var(--sklearn-color-background);\n",
              "  border-radius: 1em;\n",
              "  height: 1em;\n",
              "  width: 1em;\n",
              "  text-decoration: none !important;\n",
              "  margin-left: 1ex;\n",
              "  /* unfitted */\n",
              "  border: var(--sklearn-color-unfitted-level-1) 1pt solid;\n",
              "  color: var(--sklearn-color-unfitted-level-1);\n",
              "}\n",
              "\n",
              ".sk-estimator-doc-link.fitted,\n",
              "a:link.sk-estimator-doc-link.fitted,\n",
              "a:visited.sk-estimator-doc-link.fitted {\n",
              "  /* fitted */\n",
              "  border: var(--sklearn-color-fitted-level-1) 1pt solid;\n",
              "  color: var(--sklearn-color-fitted-level-1);\n",
              "}\n",
              "\n",
              "/* On hover */\n",
              "div.sk-estimator:hover .sk-estimator-doc-link:hover,\n",
              ".sk-estimator-doc-link:hover,\n",
              "div.sk-label-container:hover .sk-estimator-doc-link:hover,\n",
              ".sk-estimator-doc-link:hover {\n",
              "  /* unfitted */\n",
              "  background-color: var(--sklearn-color-unfitted-level-3);\n",
              "  color: var(--sklearn-color-background);\n",
              "  text-decoration: none;\n",
              "}\n",
              "\n",
              "div.sk-estimator.fitted:hover .sk-estimator-doc-link.fitted:hover,\n",
              ".sk-estimator-doc-link.fitted:hover,\n",
              "div.sk-label-container:hover .sk-estimator-doc-link.fitted:hover,\n",
              ".sk-estimator-doc-link.fitted:hover {\n",
              "  /* fitted */\n",
              "  background-color: var(--sklearn-color-fitted-level-3);\n",
              "  color: var(--sklearn-color-background);\n",
              "  text-decoration: none;\n",
              "}\n",
              "\n",
              "/* Span, style for the box shown on hovering the info icon */\n",
              ".sk-estimator-doc-link span {\n",
              "  display: none;\n",
              "  z-index: 9999;\n",
              "  position: relative;\n",
              "  font-weight: normal;\n",
              "  right: .2ex;\n",
              "  padding: .5ex;\n",
              "  margin: .5ex;\n",
              "  width: min-content;\n",
              "  min-width: 20ex;\n",
              "  max-width: 50ex;\n",
              "  color: var(--sklearn-color-text);\n",
              "  box-shadow: 2pt 2pt 4pt #999;\n",
              "  /* unfitted */\n",
              "  background: var(--sklearn-color-unfitted-level-0);\n",
              "  border: .5pt solid var(--sklearn-color-unfitted-level-3);\n",
              "}\n",
              "\n",
              ".sk-estimator-doc-link.fitted span {\n",
              "  /* fitted */\n",
              "  background: var(--sklearn-color-fitted-level-0);\n",
              "  border: var(--sklearn-color-fitted-level-3);\n",
              "}\n",
              "\n",
              ".sk-estimator-doc-link:hover span {\n",
              "  display: block;\n",
              "}\n",
              "\n",
              "/* \"?\"-specific style due to the `<a>` HTML tag */\n",
              "\n",
              "#sk-container-id-14 a.estimator_doc_link {\n",
              "  float: right;\n",
              "  font-size: 1rem;\n",
              "  line-height: 1em;\n",
              "  font-family: monospace;\n",
              "  background-color: var(--sklearn-color-background);\n",
              "  border-radius: 1rem;\n",
              "  height: 1rem;\n",
              "  width: 1rem;\n",
              "  text-decoration: none;\n",
              "  /* unfitted */\n",
              "  color: var(--sklearn-color-unfitted-level-1);\n",
              "  border: var(--sklearn-color-unfitted-level-1) 1pt solid;\n",
              "}\n",
              "\n",
              "#sk-container-id-14 a.estimator_doc_link.fitted {\n",
              "  /* fitted */\n",
              "  border: var(--sklearn-color-fitted-level-1) 1pt solid;\n",
              "  color: var(--sklearn-color-fitted-level-1);\n",
              "}\n",
              "\n",
              "/* On hover */\n",
              "#sk-container-id-14 a.estimator_doc_link:hover {\n",
              "  /* unfitted */\n",
              "  background-color: var(--sklearn-color-unfitted-level-3);\n",
              "  color: var(--sklearn-color-background);\n",
              "  text-decoration: none;\n",
              "}\n",
              "\n",
              "#sk-container-id-14 a.estimator_doc_link.fitted:hover {\n",
              "  /* fitted */\n",
              "  background-color: var(--sklearn-color-fitted-level-3);\n",
              "}\n",
              "</style><div id=\"sk-container-id-14\" class=\"sk-top-container\"><div class=\"sk-text-repr-fallback\"><pre>ColumnTransformer(transformers=[(&#x27;num&#x27;, SimpleImputer(),\n",
              "                                 [&#x27;lat&#x27;, &#x27;long&#x27;, &#x27;pop&#x27;, &#x27;price&#x27;]),\n",
              "                                (&#x27;cat&#x27;,\n",
              "                                 OneHotEncoder(handle_unknown=&#x27;ignore&#x27;,\n",
              "                                               sparse_output=False),\n",
              "                                 [&#x27;city&#x27;, &#x27;shop&#x27;, &#x27;brand&#x27;, &#x27;container&#x27;,\n",
              "                                  &#x27;capacity&#x27;, &#x27;day&#x27;, &#x27;month&#x27;, &#x27;year&#x27;])])</pre><b>In a Jupyter environment, please rerun this cell to show the HTML representation or trust the notebook. <br />On GitHub, the HTML representation is unable to render, please try loading this page with nbviewer.org.</b></div><div class=\"sk-container\" hidden><div class=\"sk-item sk-dashed-wrapped\"><div class=\"sk-label-container\"><div class=\"sk-label  sk-toggleable\"><input class=\"sk-toggleable__control sk-hidden--visually\" id=\"sk-estimator-id-70\" type=\"checkbox\" ><label for=\"sk-estimator-id-70\" class=\"sk-toggleable__label  sk-toggleable__label-arrow \">&nbsp;&nbsp;ColumnTransformer<a class=\"sk-estimator-doc-link \" rel=\"noreferrer\" target=\"_blank\" href=\"https://scikit-learn.org/1.5/modules/generated/sklearn.compose.ColumnTransformer.html\">?<span>Documentation for ColumnTransformer</span></a><span class=\"sk-estimator-doc-link \">i<span>Not fitted</span></span></label><div class=\"sk-toggleable__content \"><pre>ColumnTransformer(transformers=[(&#x27;num&#x27;, SimpleImputer(),\n",
              "                                 [&#x27;lat&#x27;, &#x27;long&#x27;, &#x27;pop&#x27;, &#x27;price&#x27;]),\n",
              "                                (&#x27;cat&#x27;,\n",
              "                                 OneHotEncoder(handle_unknown=&#x27;ignore&#x27;,\n",
              "                                               sparse_output=False),\n",
              "                                 [&#x27;city&#x27;, &#x27;shop&#x27;, &#x27;brand&#x27;, &#x27;container&#x27;,\n",
              "                                  &#x27;capacity&#x27;, &#x27;day&#x27;, &#x27;month&#x27;, &#x27;year&#x27;])])</pre></div> </div></div><div class=\"sk-parallel\"><div class=\"sk-parallel-item\"><div class=\"sk-item\"><div class=\"sk-label-container\"><div class=\"sk-label  sk-toggleable\"><input class=\"sk-toggleable__control sk-hidden--visually\" id=\"sk-estimator-id-71\" type=\"checkbox\" ><label for=\"sk-estimator-id-71\" class=\"sk-toggleable__label  sk-toggleable__label-arrow \">num</label><div class=\"sk-toggleable__content \"><pre>[&#x27;lat&#x27;, &#x27;long&#x27;, &#x27;pop&#x27;, &#x27;price&#x27;]</pre></div> </div></div><div class=\"sk-serial\"><div class=\"sk-item\"><div class=\"sk-estimator  sk-toggleable\"><input class=\"sk-toggleable__control sk-hidden--visually\" id=\"sk-estimator-id-72\" type=\"checkbox\" ><label for=\"sk-estimator-id-72\" class=\"sk-toggleable__label  sk-toggleable__label-arrow \">&nbsp;SimpleImputer<a class=\"sk-estimator-doc-link \" rel=\"noreferrer\" target=\"_blank\" href=\"https://scikit-learn.org/1.5/modules/generated/sklearn.impute.SimpleImputer.html\">?<span>Documentation for SimpleImputer</span></a></label><div class=\"sk-toggleable__content \"><pre>SimpleImputer()</pre></div> </div></div></div></div></div><div class=\"sk-parallel-item\"><div class=\"sk-item\"><div class=\"sk-label-container\"><div class=\"sk-label  sk-toggleable\"><input class=\"sk-toggleable__control sk-hidden--visually\" id=\"sk-estimator-id-73\" type=\"checkbox\" ><label for=\"sk-estimator-id-73\" class=\"sk-toggleable__label  sk-toggleable__label-arrow \">cat</label><div class=\"sk-toggleable__content \"><pre>[&#x27;city&#x27;, &#x27;shop&#x27;, &#x27;brand&#x27;, &#x27;container&#x27;, &#x27;capacity&#x27;, &#x27;day&#x27;, &#x27;month&#x27;, &#x27;year&#x27;]</pre></div> </div></div><div class=\"sk-serial\"><div class=\"sk-item\"><div class=\"sk-estimator  sk-toggleable\"><input class=\"sk-toggleable__control sk-hidden--visually\" id=\"sk-estimator-id-74\" type=\"checkbox\" ><label for=\"sk-estimator-id-74\" class=\"sk-toggleable__label  sk-toggleable__label-arrow \">&nbsp;OneHotEncoder<a class=\"sk-estimator-doc-link \" rel=\"noreferrer\" target=\"_blank\" href=\"https://scikit-learn.org/1.5/modules/generated/sklearn.preprocessing.OneHotEncoder.html\">?<span>Documentation for OneHotEncoder</span></a></label><div class=\"sk-toggleable__content \"><pre>OneHotEncoder(handle_unknown=&#x27;ignore&#x27;, sparse_output=False)</pre></div> </div></div></div></div></div></div></div></div></div>"
            ],
            "text/plain": [
              "ColumnTransformer(transformers=[('num', SimpleImputer(),\n",
              "                                 ['lat', 'long', 'pop', 'price']),\n",
              "                                ('cat',\n",
              "                                 OneHotEncoder(handle_unknown='ignore',\n",
              "                                               sparse_output=False),\n",
              "                                 ['city', 'shop', 'brand', 'container',\n",
              "                                  'capacity', 'day', 'month', 'year'])])"
            ]
          },
          "execution_count": 190,
          "metadata": {},
          "output_type": "execute_result"
        }
      ],
      "source": [
        "from sklearn.compose import ColumnTransformer\n",
        "from sklearn.preprocessing import OneHotEncoder\n",
        "from sklearn.impute import SimpleImputer\n",
        "\n",
        "# Listar las columnas numéricas y categóricas\n",
        "numeric_features = ['lat', 'long', 'pop', 'price']\n",
        "categorical_features = ['city', 'shop', 'brand', 'container', 'capacity', 'day', 'month', 'year']\n",
        "\n",
        "# Crear el ColumnTransformer\n",
        "preprocessor = ColumnTransformer(\n",
        "    transformers=[\n",
        "        ('num', SimpleImputer(strategy='mean'), numeric_features),  # Imputar valores faltantes numéricos si es necesario\n",
        "        ('cat', OneHotEncoder(handle_unknown='ignore', sparse_output=False), categorical_features)  # Evitar salida esparsa\n",
        "    ]\n",
        ")\n",
        "\n",
        "# Establecer que el transformador devuelva un DataFrame\n",
        "preprocessor.set_output(transform='pandas')"
      ]
    },
    {
      "cell_type": "markdown",
      "metadata": {},
      "source": [
        "4. Guarde los pasos anteriores en un `Pipeline`, dejando como último paso el regresor `DummyRegressor` para generar predicciones en base a promedios."
      ]
    },
    {
      "cell_type": "code",
      "execution_count": 191,
      "metadata": {},
      "outputs": [],
      "source": [
        "from sklearn.pipeline import Pipeline\n",
        "from sklearn.dummy import DummyRegressor\n",
        "\n",
        "# Crear el pipeline\n",
        "dummy_pipeline = Pipeline(steps=[\n",
        "    ('date_transformer', date_transformer),  # Primero transformamos las fechas\n",
        "    ('preprocessor', preprocessor),  # Luego aplicamos el preprocesador de columnas\n",
        "    ('regressor', DummyRegressor(strategy='mean'))  # Finalmente el regresor dummy\n",
        "])"
      ]
    },
    {
      "cell_type": "markdown",
      "metadata": {},
      "source": [
        "5. Entrene el pipeline anterior y reporte la métrica `mean_absolute_error` sobre los datos de validación."
      ]
    },
    {
      "cell_type": "code",
      "execution_count": 192,
      "metadata": {},
      "outputs": [
        {
          "name": "stdout",
          "output_type": "stream",
          "text": [
            "Mean Absolute Error del DummyRegressor: 13302.64227145915\n"
          ]
        }
      ],
      "source": [
        "# Entrenar el pipeline\n",
        "dummy_pipeline.fit(train_data, train_data['quantity'])\n",
        "\n",
        "from sklearn.metrics import mean_absolute_error\n",
        "# Hacer predicciones y calcular el MAE\n",
        "val_predictions = dummy_pipeline.predict(val_data)\n",
        "mae_dummy = mean_absolute_error(val_data['quantity'], val_predictions)\n",
        "print(f'Mean Absolute Error del DummyRegressor: {mae_dummy}')"
      ]
    },
    {
      "cell_type": "markdown",
      "metadata": {},
      "source": [
        "*¿Cómo se interpreta esta métrica para el contexto del negocio?*\n",
        "\n",
        "El MAE de 13302.64 indica que, en promedio, el modelo está fallando por esa cantidad en la predicción del número de productos vendidos. Esto sugiere que el modelo DummyRegressor, que solo predice el promedio de las ventas, no es útil para tomar decisiones precisas sobre inventario o planificación de ventas, ya que el margen de error es demasiado alto."
      ]
    },
    {
      "cell_type": "markdown",
      "metadata": {},
      "source": [
        "6. Finalmente, vuelva a entrenar el `Pipeline` pero esta vez usando `XGBRegressor` como modelo **utilizando los parámetros por default**. "
      ]
    },
    {
      "cell_type": "code",
      "execution_count": 193,
      "metadata": {},
      "outputs": [
        {
          "name": "stdout",
          "output_type": "stream",
          "text": [
            "Mean Absolute Error del XGBRegressor: 2432.184800217043\n"
          ]
        }
      ],
      "source": [
        "from xgboost import XGBRegressor\n",
        "# Crear el pipeline con XGBRegressor\n",
        "xgb_regressor = Pipeline(steps=[\n",
        "    ('preprocessor', preprocessor),\n",
        "    ('regressor', XGBRegressor(random_state=random_seed))\n",
        "])\n",
        "\n",
        "# Entrenar el pipeline\n",
        "xgb_regressor.fit(train_data.drop(columns=['quantity', 'date']), train_data['quantity'])\n",
        "\n",
        "# Hacer predicciones y calcular el MAE\n",
        "val_predictions_xgb_regressor = xgb_regressor.predict(val_data.drop(columns=['quantity', 'date']))\n",
        "mae_xgb_regressor = mean_absolute_error(val_data['quantity'], val_predictions_xgb_regressor)\n",
        "print(f'Mean Absolute Error del XGBRegressor: {mae_xgb_regressor}')"
      ]
    },
    {
      "cell_type": "markdown",
      "metadata": {},
      "source": [
        "*¿Cómo cambia el MAE al implementar este algoritmo? ¿Es mejor o peor que el `DummyRegressor`?*\n",
        "\n",
        "El nuevo MAE de 2432.18 obtenido con el XGBRegressor es significativamente menor que el MAE de 13302.64 obtenido con el DummyRegressor. Esto indica que el XGBRegressor es mucho mejor en capturar patrones en los datos y en hacer predicciones más precisas."
      ]
    },
    {
      "cell_type": "markdown",
      "metadata": {},
      "source": [
        "7. Guarde ambos modelos en un archivo .pkl (uno cada uno)"
      ]
    },
    {
      "cell_type": "code",
      "execution_count": 194,
      "metadata": {},
      "outputs": [
        {
          "data": {
            "text/plain": [
              "['xgb_regressor_model.pkl']"
            ]
          },
          "execution_count": 194,
          "metadata": {},
          "output_type": "execute_result"
        }
      ],
      "source": [
        "import joblib\n",
        "# Guardar el DummyRegressor\n",
        "joblib.dump(dummy_pipeline, 'dummy_model.pkl')\n",
        "\n",
        "# Guardar el XGBRegressor\n",
        "joblib.dump(xgb_regressor, 'xgb_regressor_model.pkl')"
      ]
    },
    {
      "cell_type": "markdown",
      "metadata": {
        "cell_id": "7e17e46063774ec28226fe300d42ffe0",
        "deepnote_cell_type": "markdown",
        "id": "wnyMINdKI5v_"
      },
      "source": [
        "## 2. Forzando relaciones entre parámetros con XGBoost (10 puntos)\n",
        "\n",
        "<p align=\"center\">\n",
        "  <img src=\"https://64.media.tumblr.com/14cc45f9610a6ee341a45fd0d68f4dde/20d11b36022bca7b-bf/s640x960/67ab1db12ff73a530f649ac455c000945d99c0d6.gif\">\n",
        "</p>\n",
        "\n",
        "Un colega aficionado a la economía le *sopla* que la demanda guarda una relación inversa con el precio del producto. Motivado para impresionar al querido corpóreo, se propone hacer uso de esta información para mejorar su modelo realizando las siguientes tareas:\n",
        "\n",
        "1. Vuelva a entrenar el `Pipeline` con `XGBRegressor`, pero esta vez forzando una relación monótona negativa entre el precio y la cantidad. Para aplicar esta restricción apóyese en la siguiente <a href = https://xgboost.readthedocs.io/en/stable/tutorials/monotonic.html>documentación</a>. [6 puntos]\n",
        "\n",
        ">Hint 1: Para implementar el constraint se le sugiere hacerlo especificando el nombre de la variable. De ser así, probablemente le sea útil **mantener el formato de pandas** antes del step de entrenamiento.\n",
        "\n",
        ">Hint 2: Puede obtener el nombre de las columnas en el paso anterior al modelo regresor mediante el método `.get_feature_names_out()`\n",
        "\n",
        "2. Luego, vuelva a reportar el `MAE` sobre el conjunto de validación. [1 puntos]\n",
        "\n",
        "3. ¿Cómo cambia el error al incluir esta relación? ¿Tenía razón su amigo? [2 puntos]\n",
        "\n",
        "4. Guarde su modelo en un archivo .pkl [1 punto]"
      ]
    },
    {
      "cell_type": "markdown",
      "metadata": {},
      "source": [
        "1. Vuelva a entrenar el `Pipeline` con `XGBRegressor`, pero esta vez forzando una relación monótona negativa entre el precio y la cantidad."
      ]
    },
    {
      "cell_type": "code",
      "execution_count": 195,
      "metadata": {
        "cell_id": "f469f3b572be434191d2d5c3f11b20d2",
        "deepnote_cell_type": "code",
        "id": "B7tMnkiAI5v_"
      },
      "outputs": [
        {
          "name": "stdout",
          "output_type": "stream",
          "text": [
            "Nombres de las características transformadas: ['num__lat' 'num__long' 'num__pop' 'num__price' 'cat__city_Athens'\n",
            " 'cat__city_Irakleion' 'cat__city_Larisa' 'cat__city_Patra'\n",
            " 'cat__city_Thessaloniki' 'cat__shop_shop_1' 'cat__shop_shop_2'\n",
            " 'cat__shop_shop_3' 'cat__shop_shop_4' 'cat__shop_shop_5'\n",
            " 'cat__shop_shop_6' 'cat__brand_adult-cola' 'cat__brand_gazoza'\n",
            " 'cat__brand_kinder-cola' 'cat__brand_lemon-boost'\n",
            " 'cat__brand_orange-power' 'cat__container_can' 'cat__container_glass'\n",
            " 'cat__container_plastic' 'cat__capacity_1.5lt' 'cat__capacity_330ml'\n",
            " 'cat__capacity_500ml' 'cat__day_28' 'cat__day_29' 'cat__day_30'\n",
            " 'cat__day_31' 'cat__month_1' 'cat__month_2' 'cat__month_3' 'cat__month_4'\n",
            " 'cat__month_5' 'cat__month_6' 'cat__month_7' 'cat__month_8'\n",
            " 'cat__month_9' 'cat__month_10' 'cat__month_11' 'cat__month_12'\n",
            " 'cat__year_2012' 'cat__year_2013' 'cat__year_2014' 'cat__year_2015'\n",
            " 'cat__year_2016' 'cat__year_2017' 'cat__year_2018']\n",
            "Restricciones de monotonicidad: {'num__lat': 0, 'num__long': 0, 'num__pop': 0, 'num__price': -1, 'cat__city_Athens': 0, 'cat__city_Irakleion': 0, 'cat__city_Larisa': 0, 'cat__city_Patra': 0, 'cat__city_Thessaloniki': 0, 'cat__shop_shop_1': 0, 'cat__shop_shop_2': 0, 'cat__shop_shop_3': 0, 'cat__shop_shop_4': 0, 'cat__shop_shop_5': 0, 'cat__shop_shop_6': 0, 'cat__brand_adult-cola': 0, 'cat__brand_gazoza': 0, 'cat__brand_kinder-cola': 0, 'cat__brand_lemon-boost': 0, 'cat__brand_orange-power': 0, 'cat__container_can': 0, 'cat__container_glass': 0, 'cat__container_plastic': 0, 'cat__capacity_1.5lt': 0, 'cat__capacity_330ml': 0, 'cat__capacity_500ml': 0, 'cat__day_28': 0, 'cat__day_29': 0, 'cat__day_30': 0, 'cat__day_31': 0, 'cat__month_1': 0, 'cat__month_2': 0, 'cat__month_3': 0, 'cat__month_4': 0, 'cat__month_5': 0, 'cat__month_6': 0, 'cat__month_7': 0, 'cat__month_8': 0, 'cat__month_9': 0, 'cat__month_10': 0, 'cat__month_11': 0, 'cat__month_12': 0, 'cat__year_2012': 0, 'cat__year_2013': 0, 'cat__year_2014': 0, 'cat__year_2015': 0, 'cat__year_2016': 0, 'cat__year_2017': 0, 'cat__year_2018': 0}\n"
          ]
        },
        {
          "data": {
            "text/html": [
              "<style>#sk-container-id-15 {\n",
              "  /* Definition of color scheme common for light and dark mode */\n",
              "  --sklearn-color-text: black;\n",
              "  --sklearn-color-line: gray;\n",
              "  /* Definition of color scheme for unfitted estimators */\n",
              "  --sklearn-color-unfitted-level-0: #fff5e6;\n",
              "  --sklearn-color-unfitted-level-1: #f6e4d2;\n",
              "  --sklearn-color-unfitted-level-2: #ffe0b3;\n",
              "  --sklearn-color-unfitted-level-3: chocolate;\n",
              "  /* Definition of color scheme for fitted estimators */\n",
              "  --sklearn-color-fitted-level-0: #f0f8ff;\n",
              "  --sklearn-color-fitted-level-1: #d4ebff;\n",
              "  --sklearn-color-fitted-level-2: #b3dbfd;\n",
              "  --sklearn-color-fitted-level-3: cornflowerblue;\n",
              "\n",
              "  /* Specific color for light theme */\n",
              "  --sklearn-color-text-on-default-background: var(--sg-text-color, var(--theme-code-foreground, var(--jp-content-font-color1, black)));\n",
              "  --sklearn-color-background: var(--sg-background-color, var(--theme-background, var(--jp-layout-color0, white)));\n",
              "  --sklearn-color-border-box: var(--sg-text-color, var(--theme-code-foreground, var(--jp-content-font-color1, black)));\n",
              "  --sklearn-color-icon: #696969;\n",
              "\n",
              "  @media (prefers-color-scheme: dark) {\n",
              "    /* Redefinition of color scheme for dark theme */\n",
              "    --sklearn-color-text-on-default-background: var(--sg-text-color, var(--theme-code-foreground, var(--jp-content-font-color1, white)));\n",
              "    --sklearn-color-background: var(--sg-background-color, var(--theme-background, var(--jp-layout-color0, #111)));\n",
              "    --sklearn-color-border-box: var(--sg-text-color, var(--theme-code-foreground, var(--jp-content-font-color1, white)));\n",
              "    --sklearn-color-icon: #878787;\n",
              "  }\n",
              "}\n",
              "\n",
              "#sk-container-id-15 {\n",
              "  color: var(--sklearn-color-text);\n",
              "}\n",
              "\n",
              "#sk-container-id-15 pre {\n",
              "  padding: 0;\n",
              "}\n",
              "\n",
              "#sk-container-id-15 input.sk-hidden--visually {\n",
              "  border: 0;\n",
              "  clip: rect(1px 1px 1px 1px);\n",
              "  clip: rect(1px, 1px, 1px, 1px);\n",
              "  height: 1px;\n",
              "  margin: -1px;\n",
              "  overflow: hidden;\n",
              "  padding: 0;\n",
              "  position: absolute;\n",
              "  width: 1px;\n",
              "}\n",
              "\n",
              "#sk-container-id-15 div.sk-dashed-wrapped {\n",
              "  border: 1px dashed var(--sklearn-color-line);\n",
              "  margin: 0 0.4em 0.5em 0.4em;\n",
              "  box-sizing: border-box;\n",
              "  padding-bottom: 0.4em;\n",
              "  background-color: var(--sklearn-color-background);\n",
              "}\n",
              "\n",
              "#sk-container-id-15 div.sk-container {\n",
              "  /* jupyter's `normalize.less` sets `[hidden] { display: none; }`\n",
              "     but bootstrap.min.css set `[hidden] { display: none !important; }`\n",
              "     so we also need the `!important` here to be able to override the\n",
              "     default hidden behavior on the sphinx rendered scikit-learn.org.\n",
              "     See: https://github.com/scikit-learn/scikit-learn/issues/21755 */\n",
              "  display: inline-block !important;\n",
              "  position: relative;\n",
              "}\n",
              "\n",
              "#sk-container-id-15 div.sk-text-repr-fallback {\n",
              "  display: none;\n",
              "}\n",
              "\n",
              "div.sk-parallel-item,\n",
              "div.sk-serial,\n",
              "div.sk-item {\n",
              "  /* draw centered vertical line to link estimators */\n",
              "  background-image: linear-gradient(var(--sklearn-color-text-on-default-background), var(--sklearn-color-text-on-default-background));\n",
              "  background-size: 2px 100%;\n",
              "  background-repeat: no-repeat;\n",
              "  background-position: center center;\n",
              "}\n",
              "\n",
              "/* Parallel-specific style estimator block */\n",
              "\n",
              "#sk-container-id-15 div.sk-parallel-item::after {\n",
              "  content: \"\";\n",
              "  width: 100%;\n",
              "  border-bottom: 2px solid var(--sklearn-color-text-on-default-background);\n",
              "  flex-grow: 1;\n",
              "}\n",
              "\n",
              "#sk-container-id-15 div.sk-parallel {\n",
              "  display: flex;\n",
              "  align-items: stretch;\n",
              "  justify-content: center;\n",
              "  background-color: var(--sklearn-color-background);\n",
              "  position: relative;\n",
              "}\n",
              "\n",
              "#sk-container-id-15 div.sk-parallel-item {\n",
              "  display: flex;\n",
              "  flex-direction: column;\n",
              "}\n",
              "\n",
              "#sk-container-id-15 div.sk-parallel-item:first-child::after {\n",
              "  align-self: flex-end;\n",
              "  width: 50%;\n",
              "}\n",
              "\n",
              "#sk-container-id-15 div.sk-parallel-item:last-child::after {\n",
              "  align-self: flex-start;\n",
              "  width: 50%;\n",
              "}\n",
              "\n",
              "#sk-container-id-15 div.sk-parallel-item:only-child::after {\n",
              "  width: 0;\n",
              "}\n",
              "\n",
              "/* Serial-specific style estimator block */\n",
              "\n",
              "#sk-container-id-15 div.sk-serial {\n",
              "  display: flex;\n",
              "  flex-direction: column;\n",
              "  align-items: center;\n",
              "  background-color: var(--sklearn-color-background);\n",
              "  padding-right: 1em;\n",
              "  padding-left: 1em;\n",
              "}\n",
              "\n",
              "\n",
              "/* Toggleable style: style used for estimator/Pipeline/ColumnTransformer box that is\n",
              "clickable and can be expanded/collapsed.\n",
              "- Pipeline and ColumnTransformer use this feature and define the default style\n",
              "- Estimators will overwrite some part of the style using the `sk-estimator` class\n",
              "*/\n",
              "\n",
              "/* Pipeline and ColumnTransformer style (default) */\n",
              "\n",
              "#sk-container-id-15 div.sk-toggleable {\n",
              "  /* Default theme specific background. It is overwritten whether we have a\n",
              "  specific estimator or a Pipeline/ColumnTransformer */\n",
              "  background-color: var(--sklearn-color-background);\n",
              "}\n",
              "\n",
              "/* Toggleable label */\n",
              "#sk-container-id-15 label.sk-toggleable__label {\n",
              "  cursor: pointer;\n",
              "  display: block;\n",
              "  width: 100%;\n",
              "  margin-bottom: 0;\n",
              "  padding: 0.5em;\n",
              "  box-sizing: border-box;\n",
              "  text-align: center;\n",
              "}\n",
              "\n",
              "#sk-container-id-15 label.sk-toggleable__label-arrow:before {\n",
              "  /* Arrow on the left of the label */\n",
              "  content: \"▸\";\n",
              "  float: left;\n",
              "  margin-right: 0.25em;\n",
              "  color: var(--sklearn-color-icon);\n",
              "}\n",
              "\n",
              "#sk-container-id-15 label.sk-toggleable__label-arrow:hover:before {\n",
              "  color: var(--sklearn-color-text);\n",
              "}\n",
              "\n",
              "/* Toggleable content - dropdown */\n",
              "\n",
              "#sk-container-id-15 div.sk-toggleable__content {\n",
              "  max-height: 0;\n",
              "  max-width: 0;\n",
              "  overflow: hidden;\n",
              "  text-align: left;\n",
              "  /* unfitted */\n",
              "  background-color: var(--sklearn-color-unfitted-level-0);\n",
              "}\n",
              "\n",
              "#sk-container-id-15 div.sk-toggleable__content.fitted {\n",
              "  /* fitted */\n",
              "  background-color: var(--sklearn-color-fitted-level-0);\n",
              "}\n",
              "\n",
              "#sk-container-id-15 div.sk-toggleable__content pre {\n",
              "  margin: 0.2em;\n",
              "  border-radius: 0.25em;\n",
              "  color: var(--sklearn-color-text);\n",
              "  /* unfitted */\n",
              "  background-color: var(--sklearn-color-unfitted-level-0);\n",
              "}\n",
              "\n",
              "#sk-container-id-15 div.sk-toggleable__content.fitted pre {\n",
              "  /* unfitted */\n",
              "  background-color: var(--sklearn-color-fitted-level-0);\n",
              "}\n",
              "\n",
              "#sk-container-id-15 input.sk-toggleable__control:checked~div.sk-toggleable__content {\n",
              "  /* Expand drop-down */\n",
              "  max-height: 200px;\n",
              "  max-width: 100%;\n",
              "  overflow: auto;\n",
              "}\n",
              "\n",
              "#sk-container-id-15 input.sk-toggleable__control:checked~label.sk-toggleable__label-arrow:before {\n",
              "  content: \"▾\";\n",
              "}\n",
              "\n",
              "/* Pipeline/ColumnTransformer-specific style */\n",
              "\n",
              "#sk-container-id-15 div.sk-label input.sk-toggleable__control:checked~label.sk-toggleable__label {\n",
              "  color: var(--sklearn-color-text);\n",
              "  background-color: var(--sklearn-color-unfitted-level-2);\n",
              "}\n",
              "\n",
              "#sk-container-id-15 div.sk-label.fitted input.sk-toggleable__control:checked~label.sk-toggleable__label {\n",
              "  background-color: var(--sklearn-color-fitted-level-2);\n",
              "}\n",
              "\n",
              "/* Estimator-specific style */\n",
              "\n",
              "/* Colorize estimator box */\n",
              "#sk-container-id-15 div.sk-estimator input.sk-toggleable__control:checked~label.sk-toggleable__label {\n",
              "  /* unfitted */\n",
              "  background-color: var(--sklearn-color-unfitted-level-2);\n",
              "}\n",
              "\n",
              "#sk-container-id-15 div.sk-estimator.fitted input.sk-toggleable__control:checked~label.sk-toggleable__label {\n",
              "  /* fitted */\n",
              "  background-color: var(--sklearn-color-fitted-level-2);\n",
              "}\n",
              "\n",
              "#sk-container-id-15 div.sk-label label.sk-toggleable__label,\n",
              "#sk-container-id-15 div.sk-label label {\n",
              "  /* The background is the default theme color */\n",
              "  color: var(--sklearn-color-text-on-default-background);\n",
              "}\n",
              "\n",
              "/* On hover, darken the color of the background */\n",
              "#sk-container-id-15 div.sk-label:hover label.sk-toggleable__label {\n",
              "  color: var(--sklearn-color-text);\n",
              "  background-color: var(--sklearn-color-unfitted-level-2);\n",
              "}\n",
              "\n",
              "/* Label box, darken color on hover, fitted */\n",
              "#sk-container-id-15 div.sk-label.fitted:hover label.sk-toggleable__label.fitted {\n",
              "  color: var(--sklearn-color-text);\n",
              "  background-color: var(--sklearn-color-fitted-level-2);\n",
              "}\n",
              "\n",
              "/* Estimator label */\n",
              "\n",
              "#sk-container-id-15 div.sk-label label {\n",
              "  font-family: monospace;\n",
              "  font-weight: bold;\n",
              "  display: inline-block;\n",
              "  line-height: 1.2em;\n",
              "}\n",
              "\n",
              "#sk-container-id-15 div.sk-label-container {\n",
              "  text-align: center;\n",
              "}\n",
              "\n",
              "/* Estimator-specific */\n",
              "#sk-container-id-15 div.sk-estimator {\n",
              "  font-family: monospace;\n",
              "  border: 1px dotted var(--sklearn-color-border-box);\n",
              "  border-radius: 0.25em;\n",
              "  box-sizing: border-box;\n",
              "  margin-bottom: 0.5em;\n",
              "  /* unfitted */\n",
              "  background-color: var(--sklearn-color-unfitted-level-0);\n",
              "}\n",
              "\n",
              "#sk-container-id-15 div.sk-estimator.fitted {\n",
              "  /* fitted */\n",
              "  background-color: var(--sklearn-color-fitted-level-0);\n",
              "}\n",
              "\n",
              "/* on hover */\n",
              "#sk-container-id-15 div.sk-estimator:hover {\n",
              "  /* unfitted */\n",
              "  background-color: var(--sklearn-color-unfitted-level-2);\n",
              "}\n",
              "\n",
              "#sk-container-id-15 div.sk-estimator.fitted:hover {\n",
              "  /* fitted */\n",
              "  background-color: var(--sklearn-color-fitted-level-2);\n",
              "}\n",
              "\n",
              "/* Specification for estimator info (e.g. \"i\" and \"?\") */\n",
              "\n",
              "/* Common style for \"i\" and \"?\" */\n",
              "\n",
              ".sk-estimator-doc-link,\n",
              "a:link.sk-estimator-doc-link,\n",
              "a:visited.sk-estimator-doc-link {\n",
              "  float: right;\n",
              "  font-size: smaller;\n",
              "  line-height: 1em;\n",
              "  font-family: monospace;\n",
              "  background-color: var(--sklearn-color-background);\n",
              "  border-radius: 1em;\n",
              "  height: 1em;\n",
              "  width: 1em;\n",
              "  text-decoration: none !important;\n",
              "  margin-left: 1ex;\n",
              "  /* unfitted */\n",
              "  border: var(--sklearn-color-unfitted-level-1) 1pt solid;\n",
              "  color: var(--sklearn-color-unfitted-level-1);\n",
              "}\n",
              "\n",
              ".sk-estimator-doc-link.fitted,\n",
              "a:link.sk-estimator-doc-link.fitted,\n",
              "a:visited.sk-estimator-doc-link.fitted {\n",
              "  /* fitted */\n",
              "  border: var(--sklearn-color-fitted-level-1) 1pt solid;\n",
              "  color: var(--sklearn-color-fitted-level-1);\n",
              "}\n",
              "\n",
              "/* On hover */\n",
              "div.sk-estimator:hover .sk-estimator-doc-link:hover,\n",
              ".sk-estimator-doc-link:hover,\n",
              "div.sk-label-container:hover .sk-estimator-doc-link:hover,\n",
              ".sk-estimator-doc-link:hover {\n",
              "  /* unfitted */\n",
              "  background-color: var(--sklearn-color-unfitted-level-3);\n",
              "  color: var(--sklearn-color-background);\n",
              "  text-decoration: none;\n",
              "}\n",
              "\n",
              "div.sk-estimator.fitted:hover .sk-estimator-doc-link.fitted:hover,\n",
              ".sk-estimator-doc-link.fitted:hover,\n",
              "div.sk-label-container:hover .sk-estimator-doc-link.fitted:hover,\n",
              ".sk-estimator-doc-link.fitted:hover {\n",
              "  /* fitted */\n",
              "  background-color: var(--sklearn-color-fitted-level-3);\n",
              "  color: var(--sklearn-color-background);\n",
              "  text-decoration: none;\n",
              "}\n",
              "\n",
              "/* Span, style for the box shown on hovering the info icon */\n",
              ".sk-estimator-doc-link span {\n",
              "  display: none;\n",
              "  z-index: 9999;\n",
              "  position: relative;\n",
              "  font-weight: normal;\n",
              "  right: .2ex;\n",
              "  padding: .5ex;\n",
              "  margin: .5ex;\n",
              "  width: min-content;\n",
              "  min-width: 20ex;\n",
              "  max-width: 50ex;\n",
              "  color: var(--sklearn-color-text);\n",
              "  box-shadow: 2pt 2pt 4pt #999;\n",
              "  /* unfitted */\n",
              "  background: var(--sklearn-color-unfitted-level-0);\n",
              "  border: .5pt solid var(--sklearn-color-unfitted-level-3);\n",
              "}\n",
              "\n",
              ".sk-estimator-doc-link.fitted span {\n",
              "  /* fitted */\n",
              "  background: var(--sklearn-color-fitted-level-0);\n",
              "  border: var(--sklearn-color-fitted-level-3);\n",
              "}\n",
              "\n",
              ".sk-estimator-doc-link:hover span {\n",
              "  display: block;\n",
              "}\n",
              "\n",
              "/* \"?\"-specific style due to the `<a>` HTML tag */\n",
              "\n",
              "#sk-container-id-15 a.estimator_doc_link {\n",
              "  float: right;\n",
              "  font-size: 1rem;\n",
              "  line-height: 1em;\n",
              "  font-family: monospace;\n",
              "  background-color: var(--sklearn-color-background);\n",
              "  border-radius: 1rem;\n",
              "  height: 1rem;\n",
              "  width: 1rem;\n",
              "  text-decoration: none;\n",
              "  /* unfitted */\n",
              "  color: var(--sklearn-color-unfitted-level-1);\n",
              "  border: var(--sklearn-color-unfitted-level-1) 1pt solid;\n",
              "}\n",
              "\n",
              "#sk-container-id-15 a.estimator_doc_link.fitted {\n",
              "  /* fitted */\n",
              "  border: var(--sklearn-color-fitted-level-1) 1pt solid;\n",
              "  color: var(--sklearn-color-fitted-level-1);\n",
              "}\n",
              "\n",
              "/* On hover */\n",
              "#sk-container-id-15 a.estimator_doc_link:hover {\n",
              "  /* unfitted */\n",
              "  background-color: var(--sklearn-color-unfitted-level-3);\n",
              "  color: var(--sklearn-color-background);\n",
              "  text-decoration: none;\n",
              "}\n",
              "\n",
              "#sk-container-id-15 a.estimator_doc_link.fitted:hover {\n",
              "  /* fitted */\n",
              "  background-color: var(--sklearn-color-fitted-level-3);\n",
              "}\n",
              "</style><div id=\"sk-container-id-15\" class=\"sk-top-container\"><div class=\"sk-text-repr-fallback\"><pre>Pipeline(steps=[(&#x27;preprocessor&#x27;,\n",
              "                 ColumnTransformer(transformers=[(&#x27;num&#x27;, SimpleImputer(),\n",
              "                                                  [&#x27;lat&#x27;, &#x27;long&#x27;, &#x27;pop&#x27;,\n",
              "                                                   &#x27;price&#x27;]),\n",
              "                                                 (&#x27;cat&#x27;,\n",
              "                                                  OneHotEncoder(handle_unknown=&#x27;ignore&#x27;,\n",
              "                                                                sparse_output=False),\n",
              "                                                  [&#x27;city&#x27;, &#x27;shop&#x27;, &#x27;brand&#x27;,\n",
              "                                                   &#x27;container&#x27;, &#x27;capacity&#x27;,\n",
              "                                                   &#x27;day&#x27;, &#x27;month&#x27;, &#x27;year&#x27;])])),\n",
              "                (&#x27;regressor&#x27;,\n",
              "                 XGBRegressor(base_score=None, booster=None, callbacks=None,\n",
              "                              colsample_bylevel=None, co...\n",
              "                              interaction_constraints=None, learning_rate=None,\n",
              "                              max_bin=None, max_cat_threshold=None,\n",
              "                              max_cat_to_onehot=None, max_delta_step=None,\n",
              "                              max_depth=None, max_leaves=None,\n",
              "                              min_child_weight=None, missing=nan,\n",
              "                              monotone_constraints=(0, 0, 0, -1, 0, 0, 0, 0, 0,\n",
              "                                                    0, 0, 0, 0, 0, 0, 0, 0, 0,\n",
              "                                                    0, 0, 0, 0, 0, 0, 0, 0, 0,\n",
              "                                                    0, 0, 0, ...),\n",
              "                              multi_strategy=None, n_estimators=None,\n",
              "                              n_jobs=None, num_parallel_tree=None,\n",
              "                              random_state=42, ...))])</pre><b>In a Jupyter environment, please rerun this cell to show the HTML representation or trust the notebook. <br />On GitHub, the HTML representation is unable to render, please try loading this page with nbviewer.org.</b></div><div class=\"sk-container\" hidden><div class=\"sk-item sk-dashed-wrapped\"><div class=\"sk-label-container\"><div class=\"sk-label fitted sk-toggleable\"><input class=\"sk-toggleable__control sk-hidden--visually\" id=\"sk-estimator-id-75\" type=\"checkbox\" ><label for=\"sk-estimator-id-75\" class=\"sk-toggleable__label fitted sk-toggleable__label-arrow fitted\">&nbsp;&nbsp;Pipeline<a class=\"sk-estimator-doc-link fitted\" rel=\"noreferrer\" target=\"_blank\" href=\"https://scikit-learn.org/1.5/modules/generated/sklearn.pipeline.Pipeline.html\">?<span>Documentation for Pipeline</span></a><span class=\"sk-estimator-doc-link fitted\">i<span>Fitted</span></span></label><div class=\"sk-toggleable__content fitted\"><pre>Pipeline(steps=[(&#x27;preprocessor&#x27;,\n",
              "                 ColumnTransformer(transformers=[(&#x27;num&#x27;, SimpleImputer(),\n",
              "                                                  [&#x27;lat&#x27;, &#x27;long&#x27;, &#x27;pop&#x27;,\n",
              "                                                   &#x27;price&#x27;]),\n",
              "                                                 (&#x27;cat&#x27;,\n",
              "                                                  OneHotEncoder(handle_unknown=&#x27;ignore&#x27;,\n",
              "                                                                sparse_output=False),\n",
              "                                                  [&#x27;city&#x27;, &#x27;shop&#x27;, &#x27;brand&#x27;,\n",
              "                                                   &#x27;container&#x27;, &#x27;capacity&#x27;,\n",
              "                                                   &#x27;day&#x27;, &#x27;month&#x27;, &#x27;year&#x27;])])),\n",
              "                (&#x27;regressor&#x27;,\n",
              "                 XGBRegressor(base_score=None, booster=None, callbacks=None,\n",
              "                              colsample_bylevel=None, co...\n",
              "                              interaction_constraints=None, learning_rate=None,\n",
              "                              max_bin=None, max_cat_threshold=None,\n",
              "                              max_cat_to_onehot=None, max_delta_step=None,\n",
              "                              max_depth=None, max_leaves=None,\n",
              "                              min_child_weight=None, missing=nan,\n",
              "                              monotone_constraints=(0, 0, 0, -1, 0, 0, 0, 0, 0,\n",
              "                                                    0, 0, 0, 0, 0, 0, 0, 0, 0,\n",
              "                                                    0, 0, 0, 0, 0, 0, 0, 0, 0,\n",
              "                                                    0, 0, 0, ...),\n",
              "                              multi_strategy=None, n_estimators=None,\n",
              "                              n_jobs=None, num_parallel_tree=None,\n",
              "                              random_state=42, ...))])</pre></div> </div></div><div class=\"sk-serial\"><div class=\"sk-item sk-dashed-wrapped\"><div class=\"sk-label-container\"><div class=\"sk-label fitted sk-toggleable\"><input class=\"sk-toggleable__control sk-hidden--visually\" id=\"sk-estimator-id-76\" type=\"checkbox\" ><label for=\"sk-estimator-id-76\" class=\"sk-toggleable__label fitted sk-toggleable__label-arrow fitted\">&nbsp;preprocessor: ColumnTransformer<a class=\"sk-estimator-doc-link fitted\" rel=\"noreferrer\" target=\"_blank\" href=\"https://scikit-learn.org/1.5/modules/generated/sklearn.compose.ColumnTransformer.html\">?<span>Documentation for preprocessor: ColumnTransformer</span></a></label><div class=\"sk-toggleable__content fitted\"><pre>ColumnTransformer(transformers=[(&#x27;num&#x27;, SimpleImputer(),\n",
              "                                 [&#x27;lat&#x27;, &#x27;long&#x27;, &#x27;pop&#x27;, &#x27;price&#x27;]),\n",
              "                                (&#x27;cat&#x27;,\n",
              "                                 OneHotEncoder(handle_unknown=&#x27;ignore&#x27;,\n",
              "                                               sparse_output=False),\n",
              "                                 [&#x27;city&#x27;, &#x27;shop&#x27;, &#x27;brand&#x27;, &#x27;container&#x27;,\n",
              "                                  &#x27;capacity&#x27;, &#x27;day&#x27;, &#x27;month&#x27;, &#x27;year&#x27;])])</pre></div> </div></div><div class=\"sk-parallel\"><div class=\"sk-parallel-item\"><div class=\"sk-item\"><div class=\"sk-label-container\"><div class=\"sk-label fitted sk-toggleable\"><input class=\"sk-toggleable__control sk-hidden--visually\" id=\"sk-estimator-id-77\" type=\"checkbox\" ><label for=\"sk-estimator-id-77\" class=\"sk-toggleable__label fitted sk-toggleable__label-arrow fitted\">num</label><div class=\"sk-toggleable__content fitted\"><pre>[&#x27;lat&#x27;, &#x27;long&#x27;, &#x27;pop&#x27;, &#x27;price&#x27;]</pre></div> </div></div><div class=\"sk-serial\"><div class=\"sk-item\"><div class=\"sk-estimator fitted sk-toggleable\"><input class=\"sk-toggleable__control sk-hidden--visually\" id=\"sk-estimator-id-78\" type=\"checkbox\" ><label for=\"sk-estimator-id-78\" class=\"sk-toggleable__label fitted sk-toggleable__label-arrow fitted\">&nbsp;SimpleImputer<a class=\"sk-estimator-doc-link fitted\" rel=\"noreferrer\" target=\"_blank\" href=\"https://scikit-learn.org/1.5/modules/generated/sklearn.impute.SimpleImputer.html\">?<span>Documentation for SimpleImputer</span></a></label><div class=\"sk-toggleable__content fitted\"><pre>SimpleImputer()</pre></div> </div></div></div></div></div><div class=\"sk-parallel-item\"><div class=\"sk-item\"><div class=\"sk-label-container\"><div class=\"sk-label fitted sk-toggleable\"><input class=\"sk-toggleable__control sk-hidden--visually\" id=\"sk-estimator-id-79\" type=\"checkbox\" ><label for=\"sk-estimator-id-79\" class=\"sk-toggleable__label fitted sk-toggleable__label-arrow fitted\">cat</label><div class=\"sk-toggleable__content fitted\"><pre>[&#x27;city&#x27;, &#x27;shop&#x27;, &#x27;brand&#x27;, &#x27;container&#x27;, &#x27;capacity&#x27;, &#x27;day&#x27;, &#x27;month&#x27;, &#x27;year&#x27;]</pre></div> </div></div><div class=\"sk-serial\"><div class=\"sk-item\"><div class=\"sk-estimator fitted sk-toggleable\"><input class=\"sk-toggleable__control sk-hidden--visually\" id=\"sk-estimator-id-80\" type=\"checkbox\" ><label for=\"sk-estimator-id-80\" class=\"sk-toggleable__label fitted sk-toggleable__label-arrow fitted\">&nbsp;OneHotEncoder<a class=\"sk-estimator-doc-link fitted\" rel=\"noreferrer\" target=\"_blank\" href=\"https://scikit-learn.org/1.5/modules/generated/sklearn.preprocessing.OneHotEncoder.html\">?<span>Documentation for OneHotEncoder</span></a></label><div class=\"sk-toggleable__content fitted\"><pre>OneHotEncoder(handle_unknown=&#x27;ignore&#x27;, sparse_output=False)</pre></div> </div></div></div></div></div></div></div><div class=\"sk-item\"><div class=\"sk-estimator fitted sk-toggleable\"><input class=\"sk-toggleable__control sk-hidden--visually\" id=\"sk-estimator-id-81\" type=\"checkbox\" ><label for=\"sk-estimator-id-81\" class=\"sk-toggleable__label fitted sk-toggleable__label-arrow fitted\">XGBRegressor</label><div class=\"sk-toggleable__content fitted\"><pre>XGBRegressor(base_score=None, booster=None, callbacks=None,\n",
              "             colsample_bylevel=None, colsample_bynode=None,\n",
              "             colsample_bytree=None, device=None, early_stopping_rounds=None,\n",
              "             enable_categorical=False, eval_metric=None, feature_types=None,\n",
              "             gamma=None, grow_policy=None, importance_type=None,\n",
              "             interaction_constraints=None, learning_rate=None, max_bin=None,\n",
              "             max_cat_threshold=None, max_cat_to_onehot=None,\n",
              "             max_delta_step=None, max_depth=None, max_leaves=None,\n",
              "             min_child_weight=None, missing=nan,\n",
              "             monotone_constraints=(0, 0, 0, -1, 0, 0, 0, 0, 0, 0, 0, 0, 0, 0, 0,\n",
              "                                   0, 0, 0, 0, 0, 0, 0, 0, 0, 0, 0, 0, 0, 0, 0, ...),\n",
              "             multi_strategy=None, n_estimators=None, n_jobs=None,\n",
              "             num_parallel_tree=None, random_state=42, ...)</pre></div> </div></div></div></div></div></div>"
            ],
            "text/plain": [
              "Pipeline(steps=[('preprocessor',\n",
              "                 ColumnTransformer(transformers=[('num', SimpleImputer(),\n",
              "                                                  ['lat', 'long', 'pop',\n",
              "                                                   'price']),\n",
              "                                                 ('cat',\n",
              "                                                  OneHotEncoder(handle_unknown='ignore',\n",
              "                                                                sparse_output=False),\n",
              "                                                  ['city', 'shop', 'brand',\n",
              "                                                   'container', 'capacity',\n",
              "                                                   'day', 'month', 'year'])])),\n",
              "                ('regressor',\n",
              "                 XGBRegressor(base_score=None, booster=None, callbacks=None,\n",
              "                              colsample_bylevel=None, co...\n",
              "                              interaction_constraints=None, learning_rate=None,\n",
              "                              max_bin=None, max_cat_threshold=None,\n",
              "                              max_cat_to_onehot=None, max_delta_step=None,\n",
              "                              max_depth=None, max_leaves=None,\n",
              "                              min_child_weight=None, missing=nan,\n",
              "                              monotone_constraints=(0, 0, 0, -1, 0, 0, 0, 0, 0,\n",
              "                                                    0, 0, 0, 0, 0, 0, 0, 0, 0,\n",
              "                                                    0, 0, 0, 0, 0, 0, 0, 0, 0,\n",
              "                                                    0, 0, 0, ...),\n",
              "                              multi_strategy=None, n_estimators=None,\n",
              "                              n_jobs=None, num_parallel_tree=None,\n",
              "                              random_state=42, ...))])"
            ]
          },
          "execution_count": 195,
          "metadata": {},
          "output_type": "execute_result"
        }
      ],
      "source": [
        "# Ajustar el preprocessor en los datos de entrenamiento y obtener los nombres de las características transformadas\n",
        "preprocessor.fit(train_data.drop(columns=['quantity', 'date']))\n",
        "feature_names = preprocessor.get_feature_names_out()\n",
        "print(\"Nombres de las características transformadas:\", feature_names)\n",
        "\n",
        "# Definir las restricciones de monotonicidad basadas en los nombres de las características transformadas\n",
        "monotone_constraints = {name: 0 for name in feature_names}\n",
        "monotone_constraints['num__price'] = -1  # Monotonicidad negativa para la característica 'price'\n",
        "\n",
        "print(\"Restricciones de monotonicidad:\", monotone_constraints)\n",
        "\n",
        "# Crear el pipeline con XGBRegressor y las restricciones de monotonicidad\n",
        "xgb_monotonic_pipeline = Pipeline(steps=[\n",
        "    ('preprocessor', preprocessor),\n",
        "    ('regressor', XGBRegressor(\n",
        "        random_state=random_seed,\n",
        "        monotone_constraints=tuple(monotone_constraints.values())  # Convertir a tuple\n",
        "    ))\n",
        "])\n",
        "\n",
        "# Entrenar el pipeline\n",
        "xgb_monotonic_pipeline.fit(train_data.drop(columns=['quantity', 'date']), train_data['quantity'])\n"
      ]
    },
    {
      "cell_type": "markdown",
      "metadata": {},
      "source": [
        "2. Vuelva a reportar el `MAE` sobre el conjunto de validación."
      ]
    },
    {
      "cell_type": "code",
      "execution_count": 196,
      "metadata": {},
      "outputs": [
        {
          "name": "stdout",
          "output_type": "stream",
          "text": [
            "Mean Absolute Error del XGBRegressor con restricción monótona: 2485.9071259460243\n"
          ]
        }
      ],
      "source": [
        "# Hacer predicciones y calcular el MAE\n",
        "val_predictions_xgb_monotonic = xgb_monotonic_pipeline.predict(val_data.drop(columns=['quantity', 'date']))\n",
        "\n",
        "mae_xgb_monotonic = mean_absolute_error(val_data['quantity'], val_predictions_xgb_monotonic)\n",
        "print(f'Mean Absolute Error del XGBRegressor con restricción monótona: {mae_xgb_monotonic}')"
      ]
    },
    {
      "cell_type": "markdown",
      "metadata": {},
      "source": [
        "3. ¿Cómo cambia el error al incluir esta relación? ¿Tenía razón su amigo?\n",
        "\n",
        "El MAE anterior nos dio un valor de 2432.18 lo que es menor al MAE actual de un valor de 2485.90, por lo que, la información que nos dieron empeoro el modelo, aunque la diferencia es poca."
      ]
    },
    {
      "cell_type": "markdown",
      "metadata": {},
      "source": [
        "4. Guarde su modelo en un archivo .pkl"
      ]
    },
    {
      "cell_type": "code",
      "execution_count": 197,
      "metadata": {},
      "outputs": [
        {
          "data": {
            "text/plain": [
              "['monotonic_xgb_model.pkl']"
            ]
          },
          "execution_count": 197,
          "metadata": {},
          "output_type": "execute_result"
        }
      ],
      "source": [
        "# Guardamos el XGBRegressor con la restriccion monotónica\n",
        "joblib.dump(xgb_monotonic_pipeline, 'monotonic_xgb_model.pkl')"
      ]
    },
    {
      "cell_type": "markdown",
      "metadata": {
        "cell_id": "e59ef80ed20b4de8921f24da74e87374",
        "deepnote_cell_type": "markdown",
        "id": "5D5-tX4dI5v_"
      },
      "source": [
        "## 1.3 Optimización de Hiperparámetros con Optuna (20 puntos)\n",
        "\n",
        "<p align=\"center\">\n",
        "  <img src=\"https://media.tenor.com/fmNdyGN4z5kAAAAi/hacking-lucy.gif\">\n",
        "</p>\n",
        "\n",
        "Luego de presentarle sus resultados, Fiu le pregunta si es posible mejorar *aun más* su modelo. En particular, le comenta de la optimización de hiperparámetros con metodologías bayesianas a través del paquete `optuna`. Como usted es un aficionado al entrenamiento de modelos de ML, se propone implementar la descabellada idea de su jefe.\n",
        "\n",
        "A partir de la mejor configuración obtenida en la sección anterior, utilice `optuna` para optimizar sus hiperparámetros. En particular, se pide que su optimización considere lo siguiente:\n",
        "\n",
        "- Fijar una semilla en las instancias necesarias para garantizar la reproducibilidad de resultados\n",
        "- Utilice `TPESampler` como método de muestreo\n",
        "- De `XGBRegressor`, optimice los siguientes hiperparámetros:\n",
        "    - `learning_rate` buscando valores flotantes en el rango (0.001, 0.1)\n",
        "    - `n_estimators` buscando valores enteros en el rango (50, 1000)\n",
        "    - `max_depth` buscando valores enteros en el rango (3, 10)\n",
        "    - `max_leaves` buscando valores enteros en el rango (0, 100)\n",
        "    - `min_child_weight` buscando valores enteros en el rango (1, 5)\n",
        "    - `reg_alpha` buscando valores flotantes en el rango (0, 1)\n",
        "    - `reg_lambda` buscando valores flotantes en el rango (0, 1)\n",
        "- De `OneHotEncoder`, optimice el hiperparámetro `min_frequency` buscando el mejor valor flotante en el rango (0.0, 1.0)\n",
        "\n",
        "Para ello se pide los siguientes pasos:\n",
        "1. Implemente una función `objective()` que permita minimizar el `MAE` en el conjunto de validación. Use el método `.set_user_attr()` para almacenar el mejor pipeline entrenado. [10 puntos]\n",
        "2. Fije el tiempo de entrenamiento a 5 minutos. [1 punto]\n",
        "3. Optimizar el modelo y reportar el número de *trials*, el `MAE` y los mejores hiperparámetros encontrados. ¿Cómo cambian sus resultados con respecto a la sección anterior? ¿A qué se puede deber esto? [3 puntos]\n",
        "4. Explique cada hiperparámetro y su rol en el modelo. ¿Hacen sentido los rangos de optimización indicados? [5 puntos]\n",
        "5. Guardar su modelo en un archivo .pkl [1 punto]"
      ]
    },
    {
      "cell_type": "markdown",
      "metadata": {},
      "source": [
        "1. Implemente una función `objective()` que permita minimizar el `MAE` en el conjunto de validación. Use el método `.set_user_attr()` para almacenar el mejor pipeline entrenado."
      ]
    },
    {
      "cell_type": "code",
      "execution_count": 198,
      "metadata": {},
      "outputs": [],
      "source": [
        "import optuna\n",
        "from optuna.samplers import TPESampler\n",
        "optuna.logging.set_verbosity(optuna.logging.WARNING)\n",
        "\n",
        "# Definir la función objective para Optuna\n",
        "def objective(trial):\n",
        "    # Definir los espacios de búsqueda para los hiperparámetros\n",
        "    learning_rate = trial.suggest_float('learning_rate', 0.001, 0.1)\n",
        "    n_estimators = trial.suggest_int('n_estimators', 50, 1000)\n",
        "    max_depth = trial.suggest_int('max_depth', 3, 10)\n",
        "    max_leaves = trial.suggest_int('max_leaves', 0, 100)\n",
        "    min_child_weight = trial.suggest_int('min_child_weight', 1, 5)\n",
        "    reg_alpha = trial.suggest_float('reg_alpha', 0.0, 1.0)\n",
        "    reg_lambda = trial.suggest_float('reg_lambda', 0.0, 1.0)\n",
        "    \n",
        "    # Hiperparámetro para OneHotEncoder\n",
        "    min_frequency = trial.suggest_float('min_frequency', 0.0, 1.0)\n",
        "    \n",
        "    # Crear el preprocesador con el valor optimizado de OneHotEncoder\n",
        "    preprocessor = ColumnTransformer(\n",
        "        transformers=[\n",
        "            ('num', SimpleImputer(strategy='mean'), numeric_features),\n",
        "            ('cat', OneHotEncoder(handle_unknown='ignore', sparse_output=False, min_frequency=min_frequency), categorical_features)\n",
        "        ]\n",
        "    )\n",
        "    preprocessor.set_output(transform='pandas')\n",
        "\n",
        "    # Definir el modelo con los hiperparámetros seleccionados por Optuna\n",
        "    model = XGBRegressor(\n",
        "        learning_rate=learning_rate,\n",
        "        n_estimators=n_estimators,\n",
        "        max_depth=max_depth,\n",
        "        max_leaves=max_leaves,\n",
        "        min_child_weight=min_child_weight,\n",
        "        reg_alpha=reg_alpha,\n",
        "        reg_lambda=reg_lambda,\n",
        "        random_state=random_seed \n",
        "    )\n",
        "\n",
        "    # Crear el pipeline\n",
        "    pipeline = Pipeline(steps=[\n",
        "        ('preprocessor', preprocessor),\n",
        "        ('regressor', model)\n",
        "    ])\n",
        "\n",
        "    # Entrenar el pipeline\n",
        "    pipeline.fit(train_data.drop(columns=['quantity', 'date']), train_data['quantity'])\n",
        "\n",
        "    # Predecir en el conjunto de validación y calcular MAE\n",
        "    val_predictions = pipeline.predict(val_data.drop(columns=['quantity', 'date']))\n",
        "    mae = mean_absolute_error(val_data['quantity'], val_predictions)\n",
        "    \n",
        "    # Almacenar el mejor pipeline\n",
        "    trial.set_user_attr(\"best_pipeline_optuna\", pipeline)\n",
        "    \n",
        "    return mae\n",
        "\n",
        "# Inicializar el sampler de Optuna (TPESampler)\n",
        "sampler = TPESampler(seed=random_seed)\n",
        "\n",
        "# Crear el estudio de Optuna\n",
        "study = optuna.create_study(direction=\"minimize\", sampler=sampler)"
      ]
    },
    {
      "cell_type": "markdown",
      "metadata": {},
      "source": [
        "2. Fije el tiempo de entrenamiento a 5 minutos."
      ]
    },
    {
      "cell_type": "code",
      "execution_count": 199,
      "metadata": {},
      "outputs": [],
      "source": [
        "# Limite de 5 min\n",
        "time_max = 300"
      ]
    },
    {
      "cell_type": "markdown",
      "metadata": {},
      "source": [
        "3. Optimizar el modelo y reportar el número de *trials*, el `MAE` y los mejores hiperparámetros encontrados. ¿Cómo cambian sus resultados con respecto a la sección anterior? ¿A qué se puede deber esto?"
      ]
    },
    {
      "cell_type": "code",
      "execution_count": 200,
      "metadata": {},
      "outputs": [
        {
          "data": {
            "application/vnd.jupyter.widget-view+json": {
              "model_id": "2bfa2e69d5294141bbdc1c284d44bbee",
              "version_major": 2,
              "version_minor": 0
            },
            "text/plain": [
              "   0%|          | 00:00/05:00"
            ]
          },
          "metadata": {},
          "output_type": "display_data"
        },
        {
          "name": "stdout",
          "output_type": "stream",
          "text": [
            "Número de trials: 209\n",
            "Mejor MAE: 1909.0533322904448\n",
            "Mejores hiperparámetros encontrados: {'learning_rate': 0.08631826148949161, 'n_estimators': 915, 'max_depth': 8, 'max_leaves': 92, 'min_child_weight': 4, 'reg_alpha': 0.309996783957102, 'reg_lambda': 0.10456795579701522, 'min_frequency': 0.049850359862952894}\n"
          ]
        }
      ],
      "source": [
        "# optimizar\n",
        "study.optimize(objective, timeout=time_max, show_progress_bar=True)\n",
        "\n",
        "# Obtener los mejores hiperparámetros y su MAE asociado\n",
        "best_params_optuna = study.best_params\n",
        "best_mae_optuna = study.best_value\n",
        "\n",
        "# Reportar los resultados\n",
        "print(f\"Número de trials: {len(study.trials)}\")\n",
        "print(f\"Mejor MAE: {best_mae_optuna}\")\n",
        "print(f\"Mejores hiperparámetros encontrados: {best_params_optuna}\")"
      ]
    },
    {
      "cell_type": "markdown",
      "metadata": {},
      "source": [
        "*¿Cómo cambian sus resultados con respecto a la sección anterior? ¿A qué se puede deber esto?*\n",
        "\n",
        "Observamos que el mejor MAE se reduce de aproximadamente 2.400 a 1.909. Notamos que esto se debe a el uso de Optuna permitio encontrar una combinación de hiperparámetros que optimiza el modelo, resultando en un MAE menor y un rendimiento general superior en comparación con el modelo anterior."
      ]
    },
    {
      "cell_type": "markdown",
      "metadata": {},
      "source": [
        "5. Guardar su modelo en un archivo .pkl"
      ]
    },
    {
      "cell_type": "code",
      "execution_count": 201,
      "metadata": {},
      "outputs": [
        {
          "data": {
            "text/plain": [
              "['optuna_model.pkl']"
            ]
          },
          "execution_count": 201,
          "metadata": {},
          "output_type": "execute_result"
        }
      ],
      "source": [
        "# Guardar el mejor pipeline encontrado por Optuna en un archivo .pkl\n",
        "best_pipeline_optuna = study.best_trial.user_attrs['best_pipeline_optuna']\n",
        "\n",
        "# Guardar el pipeline en un archivo .pkl\n",
        "joblib.dump(best_pipeline_optuna, 'optuna_model.pkl')"
      ]
    },
    {
      "cell_type": "markdown",
      "metadata": {
        "cell_id": "5195ccfc37e044ad9453f6eb2754f631",
        "deepnote_cell_type": "markdown",
        "id": "ZglyD_QWI5wA"
      },
      "source": [
        "## 4. Optimización de Hiperparámetros con Optuna y Prunners (17 puntos)\n",
        "\n",
        "<p align=\"center\">\n",
        "  <img src=\"https://i.pinimg.com/originals/90/16/f9/9016f919c2259f3d0e8fe465049638a7.gif\">\n",
        "</p>\n",
        "\n",
        "Después de optimizar el rendimiento de su modelo varias veces, Fiu le pregunta si no es posible optimizar el entrenamiento del modelo en sí mismo. Después de leer un par de post de personas de dudosa reputación en la *deepweb*, usted llega a la conclusión que puede cumplir este objetivo mediante la implementación de **Prunning**.\n",
        "\n",
        "Vuelva a optimizar los mismos hiperparámetros que la sección pasada, pero esta vez utilizando **Prunning** en la optimización. En particular, usted debe:\n",
        "\n",
        "1. Responder: ¿Qué es prunning? ¿De qué forma debería impactar en el entrenamiento? [2 puntos]\n",
        "2. Redefinir la función `objective()` utilizando `optuna.integration.XGBoostPruningCallback` como método de **Prunning** [10 puntos]\n",
        "3. Fijar nuevamente el tiempo de entrenamiento a 5 minutos [1 punto]\n",
        "4. Reportar el número de *trials*, el `MAE` y los mejores hiperparámetros encontrados. ¿Cómo cambian sus resultados con respecto a la sección anterior? ¿A qué se puede deber esto? [3 puntos]\n",
        "5. Guardar su modelo en un archivo .pkl [1 punto]\n",
        "\n",
        "Nota: Si quieren silenciar los prints obtenidos en el prunning, pueden hacerlo mediante el siguiente comando:\n",
        "\n",
        "```\n",
        "optuna.logging.set_verbosity(optuna.logging.WARNING)\n",
        "```\n",
        "\n",
        "De implementar la opción anterior, pueden especificar `show_progress_bar = True` en el método `optimize` para *más sabor*.\n",
        "\n",
        "Hint: Si quieren especificar parámetros del método .fit() del modelo a través del pipeline, pueden hacerlo por medio de la siguiente sintaxis: `pipeline.fit(stepmodelo__parametro = valor)`\n",
        "\n",
        "Hint2: Este <a href = https://stackoverflow.com/questions/40329576/sklearn-pass-fit-parameters-to-xgboost-in-pipeline>enlace</a> les puede ser de ayuda en su implementación"
      ]
    },
    {
      "cell_type": "markdown",
      "metadata": {},
      "source": [
        "1. *¿Qué es prunning? ¿De qué forma debería impactar en el entrenamiento?*\n",
        "\n",
        "Pruning es una técnica utilizada durante el entrenamiento de modelos de machine learning para detener prematuramente la exploración de ciertas ramas del espacio de búsqueda de hiperparámetros si se determina que no conducen a una mejora significativa en el desempeño del modelo. Esto se logra mediante la evaluación periódica del desempeño del modelo en un conjunto de validación durante el proceso de optimización y la interrupción temprana de las iteraciones que no muestran mejoras significativas."
      ]
    },
    {
      "cell_type": "markdown",
      "metadata": {},
      "source": [
        "2. Redefinir la función `objective()` utilizando `optuna.integration.XGBoostPruningCallback` como método de **Prunning**"
      ]
    },
    {
      "cell_type": "code",
      "execution_count": 202,
      "metadata": {},
      "outputs": [],
      "source": [
        "### FUNCIONA\n",
        "\n",
        "import optuna\n",
        "from optuna.integration import XGBoostPruningCallback\n",
        "import xgboost as xgb  \n",
        "from optuna.samplers import TPESampler\n",
        "optuna.logging.set_verbosity(optuna.logging.WARNING)\n",
        "\n",
        "# Definir la función objective para Optuna\n",
        "def objective(trial):\n",
        "    # Definir los espacios de búsqueda para los hiperparámetros\n",
        "    learning_rate = trial.suggest_float('learning_rate', 0.001, 0.1)\n",
        "    n_estimators = trial.suggest_int('n_estimators', 50, 1000)\n",
        "    max_depth = trial.suggest_int('max_depth', 3, 10)\n",
        "    max_leaves = trial.suggest_int('max_leaves', 0, 100)\n",
        "    min_child_weight = trial.suggest_int('min_child_weight', 1, 5)\n",
        "    reg_alpha = trial.suggest_float('reg_alpha', 0.0, 1.0)\n",
        "    reg_lambda = trial.suggest_float('reg_lambda', 0.0, 1.0)\n",
        "    \n",
        "    # Hiperparámetro para OneHotEncoder\n",
        "    min_frequency = trial.suggest_float('min_frequency', 0.0, 1.0)\n",
        "    \n",
        "    # Crear el preprocesador con el valor optimizado de OneHotEncoder\n",
        "    preprocessor = ColumnTransformer(\n",
        "        transformers=[\n",
        "            ('num', SimpleImputer(strategy='mean'), numeric_features),\n",
        "            ('cat', OneHotEncoder(handle_unknown='ignore', sparse_output=False, min_frequency=min_frequency), categorical_features)\n",
        "        ]\n",
        "    )\n",
        "    preprocessor.set_output(transform='pandas')\n",
        "\n",
        "    # Transformar los datos antes de entrenar el modelo\n",
        "    X_train_processed = preprocessor.fit_transform(train_data.drop(columns=['quantity', 'date']))\n",
        "    X_val_processed = preprocessor.transform(val_data.drop(columns=['quantity', 'date']))\n",
        "    \n",
        "    # Preparar los conjuntos de datos para XGBoost\n",
        "    dtrain = xgb.DMatrix(X_train_processed, label=train_data['quantity'])\n",
        "    dval = xgb.DMatrix(X_val_processed, label=val_data['quantity'])\n",
        "    \n",
        "    # Definir el modelo con los hiperparámetros seleccionados por Optuna\n",
        "    model_params = {\n",
        "        'objective': 'reg:squarederror',\n",
        "        'learning_rate': learning_rate,\n",
        "        'max_depth': max_depth,\n",
        "        'max_leaves': max_leaves,\n",
        "        'min_child_weight': min_child_weight,\n",
        "        'reg_alpha': reg_alpha,\n",
        "        'reg_lambda': reg_lambda,\n",
        "        'eval_metric': 'mae',\n",
        "        'verbosity': 0   # Establecer el nivel de verbosidad en 0 para evitar impresiones\n",
        "    }\n",
        "\n",
        "    # Agregar el callback de pruning\n",
        "    pruning_callback = XGBoostPruningCallback(trial, \"validation-mae\")\n",
        "\n",
        "    # Entrenar el modelo utilizando XGBoost y el callback\n",
        "    evals = [(dtrain, 'train'), (dval, 'validation')]\n",
        "    model = xgb.train(\n",
        "        model_params,\n",
        "        dtrain,\n",
        "        num_boost_round=n_estimators,\n",
        "        early_stopping_rounds=10,\n",
        "        evals=evals,\n",
        "        callbacks=[pruning_callback],\n",
        "        verbose_eval=False  # Deshabilitar la salida de cada iteración\n",
        "    )\n",
        "\n",
        "    # Almacenar el mejor modelo en la variable trial\n",
        "    trial.set_user_attr(\"best_model_pruning\", model)\n",
        "\n",
        "    # Predecir en el conjunto de validación y calcular MAE\n",
        "    val_predictions = model.predict(dval)\n",
        "    mae = mean_absolute_error(val_data['quantity'], val_predictions)\n",
        "    \n",
        "    return mae\n",
        "\n",
        "# Inicializar el sampler de Optuna (TPESampler)\n",
        "sampler = TPESampler(seed=random_seed)\n",
        "\n",
        "# Crear el estudio de Optuna\n",
        "study = optuna.create_study(direction=\"minimize\", sampler=sampler)"
      ]
    },
    {
      "cell_type": "markdown",
      "metadata": {},
      "source": [
        "3. Fijar nuevamente el tiempo de entrenamiento a 5 minutos."
      ]
    },
    {
      "cell_type": "code",
      "execution_count": 203,
      "metadata": {},
      "outputs": [],
      "source": [
        "time_max = 300"
      ]
    },
    {
      "cell_type": "markdown",
      "metadata": {},
      "source": [
        "4. Reportar el número de *trials*, el `MAE` y los mejores hiperparámetros encontrados. ¿Cómo cambian sus resultados con respecto a la sección anterior? ¿A qué se puede deber esto? "
      ]
    },
    {
      "cell_type": "code",
      "execution_count": 204,
      "metadata": {},
      "outputs": [
        {
          "data": {
            "application/vnd.jupyter.widget-view+json": {
              "model_id": "fbb4e5c755b44a1a88f0a0f1beda3935",
              "version_major": 2,
              "version_minor": 0
            },
            "text/plain": [
              "   0%|          | 00:00/05:00"
            ]
          },
          "metadata": {},
          "output_type": "display_data"
        },
        {
          "name": "stdout",
          "output_type": "stream",
          "text": [
            "Número de trials: 903\n",
            "Mejor MAE: 1940.5210199841865\n",
            "Mejores hiperparámetros encontrados: {'learning_rate': 0.09822680337912902, 'n_estimators': 639, 'max_depth': 8, 'max_leaves': 94, 'min_child_weight': 3, 'reg_alpha': 0.724292219422075, 'reg_lambda': 0.9999157185477091, 'min_frequency': 0.05789173606255919}\n"
          ]
        }
      ],
      "source": [
        "# Optimizar los hiperparámetros con Pruning\n",
        "study.optimize(objective, timeout=time_max, show_progress_bar=True)\n",
        "\n",
        "# Obtener los mejores hiperparámetros y su MAE asociado\n",
        "best_params_prunning = study.best_params\n",
        "best_mae_prunning = study.best_value\n",
        "\n",
        "# Reportar los resultados\n",
        "print(f\"Número de trials: {len(study.trials)}\")\n",
        "print(f\"Mejor MAE: {best_mae_prunning}\")\n",
        "print(f\"Mejores hiperparámetros encontrados: {best_params_prunning}\")"
      ]
    },
    {
      "cell_type": "markdown",
      "metadata": {},
      "source": [
        "*¿Cómo cambian sus resultados con respecto a la sección anterior? ¿A qué se puede deber esto?*\n",
        "\n",
        "Los resultados actuales muestran un mayor número de trials (903 vs. 209), lo que sugiere que el proceso de optimización exploró más combinaciones de hiperparámetros, pero esto no condujo a una mejora significativa en el MAE, ya que los valores de error final son comparables (1940.52 frente a 1910.94). \n",
        "\n",
        "El cambio en los resultados puede deberse a la naturaleza del proceso de optimización, que depende de los valores de inicio, el número de ensayos, y cómo se exploran los hiperparámetros. Además, el uso de más ensayos permite explorar mejor el espacio de búsqueda, lo que puede llevar a diferentes combinaciones de hiperparámetros con resultados muy similares en desempeño, como se observa en este caso."
      ]
    },
    {
      "cell_type": "markdown",
      "metadata": {},
      "source": [
        "5. Guardar su modelo en un archivo .pkl"
      ]
    },
    {
      "cell_type": "code",
      "execution_count": 205,
      "metadata": {},
      "outputs": [
        {
          "data": {
            "text/plain": [
              "['pruning_model.pkl']"
            ]
          },
          "execution_count": 205,
          "metadata": {},
          "output_type": "execute_result"
        }
      ],
      "source": [
        "# Guardar el modelo en un archivo .pkl\n",
        "best_model_pruning = study.best_trial.user_attrs[\"best_model_pruning\"]\n",
        "\n",
        "# Guardar el modelo en un archivo .pkl utilizando joblib\n",
        "joblib.dump(best_model_pruning, 'pruning_model.pkl')"
      ]
    },
    {
      "cell_type": "markdown",
      "metadata": {
        "cell_id": "8a081778cc704fc6bed05393a5419327",
        "deepnote_cell_type": "markdown",
        "id": "ZMiiVaCUI5wA"
      },
      "source": [
        "## 5. Visualizaciones (5 puntos)\n",
        "\n",
        "<p align=\"center\">\n",
        "  <img src=\"https://media.tenor.com/F-LgB1xTebEAAAAd/look-at-this-graph-nickelback.gif\">\n",
        "</p>\n",
        "\n",
        "\n",
        "Satisfecho con su trabajo, Fiu le pregunta si es posible generar visualizaciones que permitan entender el entrenamiento de su modelo.\n",
        "\n",
        "A partir del siguiente <a href = https://optuna.readthedocs.io/en/stable/tutorial/10_key_features/005_visualization.html#visualization>enlace</a>, genere las siguientes visualizaciones:\n",
        "\n",
        "1. Gráfico de historial de optimización [1 punto]\n",
        "2. Gráfico de coordenadas paralelas [1 punto]\n",
        "3. Gráfico de importancia de hiperparámetros [1 punto]\n",
        "\n",
        "Comente sus resultados:\n",
        "\n",
        "4. ¿Desde qué *trial* se empiezan a observar mejoras notables en sus resultados? [0.5 puntos]\n",
        "5. ¿Qué tendencias puede observar a partir del gráfico de coordenadas paralelas? [1 punto]\n",
        "6. ¿Cuáles son los hiperparámetros con mayor importancia para la optimización de su modelo? [0.5 puntos]"
      ]
    },
    {
      "cell_type": "markdown",
      "metadata": {},
      "source": [
        "1. Gráfico de historial de optimización"
      ]
    },
    {
      "cell_type": "code",
      "execution_count": 206,
      "metadata": {
        "cell_id": "0e706dc9a8d946eda7a9eb1f0463c6d7",
        "deepnote_cell_type": "code",
        "id": "xjxAEENAI5wA"
      },
      "outputs": [
        {
          "data": {
            "application/vnd.plotly.v1+json": {
              "config": {
                "plotlyServerURL": "https://plot.ly"
              },
              "data": [
                {
                  "mode": "markers",
                  "name": "Objective Value",
                  "type": "scatter",
                  "x": [
                    0,
                    1,
                    2,
                    3,
                    4,
                    11,
                    13,
                    14,
                    15,
                    18,
                    19,
                    22,
                    23,
                    36,
                    61,
                    66,
                    68,
                    71,
                    72,
                    74,
                    77,
                    78,
                    82,
                    83,
                    91,
                    93,
                    94,
                    95,
                    98,
                    101,
                    104,
                    107,
                    108,
                    109,
                    113,
                    114,
                    117,
                    121,
                    122,
                    123,
                    124,
                    126,
                    128,
                    130,
                    133,
                    136,
                    137,
                    138,
                    143,
                    144,
                    146,
                    150,
                    151,
                    152,
                    165,
                    166,
                    173,
                    179,
                    184,
                    185,
                    187,
                    206,
                    207,
                    209,
                    220,
                    222,
                    224,
                    225,
                    227,
                    228,
                    229,
                    230,
                    232,
                    234,
                    235,
                    238,
                    240,
                    243,
                    244,
                    250,
                    260,
                    262,
                    265,
                    271,
                    273,
                    279,
                    280,
                    293,
                    306,
                    322,
                    325,
                    326,
                    334,
                    343,
                    344,
                    365,
                    368,
                    370,
                    377,
                    404,
                    423,
                    438,
                    466,
                    468,
                    473,
                    475,
                    476,
                    479,
                    481,
                    550,
                    562,
                    573,
                    585,
                    586,
                    591,
                    603,
                    609,
                    610,
                    623,
                    631,
                    633,
                    635,
                    641,
                    657,
                    672,
                    675,
                    687,
                    697,
                    725,
                    742,
                    746,
                    751,
                    760,
                    773,
                    789,
                    793,
                    803,
                    837,
                    859
                  ],
                  "y": [
                    8335.763840417121,
                    5767.366163238444,
                    8281.224091639788,
                    5616.851959964864,
                    8376.923948886248,
                    8244.049488875566,
                    2191.246288309788,
                    2222.334941465158,
                    2106.8357899029197,
                    6421.68271242198,
                    5687.852775512368,
                    2140.7413978065306,
                    5695.60901075266,
                    2140.6149138177047,
                    2251.1955806946944,
                    2036.5852978581079,
                    2032.4352552807682,
                    2065.7032563974008,
                    2107.4914429692735,
                    2048.969512366737,
                    2068.3424674435532,
                    2049.157628445459,
                    2053.2363790149025,
                    2060.597171895945,
                    2080.3540961953336,
                    2059.2978515625,
                    2037.3715257414544,
                    2039.7593648874729,
                    2036.634180472939,
                    2085.7038479311536,
                    2081.329224778244,
                    2028.2213808934107,
                    2093.9495139441606,
                    2029.5499164489256,
                    2211.112778569035,
                    2032.3707213210037,
                    2012.4345480583947,
                    2002.6892559470823,
                    2054.299914485328,
                    2024.1798854960832,
                    2032.7986731644291,
                    2095.5718617784432,
                    2100.176245804447,
                    2053.164419056583,
                    2049.1719131265186,
                    2012.5980594420241,
                    2030.5861258417287,
                    2042.7433492951993,
                    2051.863477937018,
                    2020.0228831109669,
                    2085.311483347384,
                    2039.318390628927,
                    2009.9953582190956,
                    2009.8282909239904,
                    2015.2851318686642,
                    2040.1770400796436,
                    2023.8451989713367,
                    2008.1424107283115,
                    2003.5494194951198,
                    2088.0775869742797,
                    2021.3721454201052,
                    1972.5081234029408,
                    2016.3210362493194,
                    2022.1207597747884,
                    2051.684646238271,
                    2008.4540058371208,
                    2127.238680351196,
                    2009.4291026752053,
                    2006.4141081536422,
                    2006.0876214485065,
                    1987.0666718265645,
                    2040.7426212914188,
                    2022.768559760127,
                    2083.677559123921,
                    2029.701199038099,
                    2077.4166927388783,
                    1990.299163900176,
                    2009.9266017064972,
                    1968.2953910111742,
                    2002.7395035894563,
                    2030.6435375060216,
                    2031.824636014473,
                    1988.0353560460476,
                    1955.8136747222163,
                    1978.604210574889,
                    2011.4242619164188,
                    2037.0369077789878,
                    2001.6344257589958,
                    1981.6456761909874,
                    2030.897454392175,
                    2005.7729863634697,
                    2060.0867882286257,
                    1999.6852204269123,
                    1988.5534317793858,
                    2031.3393377963723,
                    1995.2425759650428,
                    2052.431175743287,
                    2054.3047333172753,
                    1987.2425455292812,
                    1987.5902590508756,
                    1994.9692467901725,
                    2001.5208054611574,
                    1988.6405379471767,
                    2014.0694465534937,
                    2270.84644994659,
                    1992.047952196873,
                    1996.4511393120079,
                    1985.5212358162805,
                    1970.7925824121878,
                    2024.9018998133274,
                    2050.4033443665694,
                    1984.8367895376905,
                    1981.0506653977463,
                    2020.1465064654722,
                    1940.5210199841865,
                    1965.4985021023583,
                    1978.281276999466,
                    1946.746392216823,
                    2025.2512774838199,
                    1984.4040996970823,
                    1990.4817774877472,
                    1988.3942980727945,
                    1993.0927037297881,
                    1948.7701605830052,
                    1989.8448072336314,
                    2048.477333866559,
                    2740.033346467619,
                    2081.546168432159,
                    2014.857051082335,
                    1959.6960758485359,
                    1973.7730806161508,
                    1992.3666936552238,
                    1993.409928963587,
                    1998.5920907600955,
                    2178.177745992952,
                    2033.679741826198,
                    2038.4571904650322,
                    2080.291178276328,
                    1992.9007751628476
                  ]
                },
                {
                  "mode": "lines",
                  "name": "Best Value",
                  "type": "scatter",
                  "x": [
                    0,
                    1,
                    2,
                    3,
                    4,
                    5,
                    6,
                    7,
                    8,
                    9,
                    10,
                    11,
                    12,
                    13,
                    14,
                    15,
                    16,
                    17,
                    18,
                    19,
                    20,
                    21,
                    22,
                    23,
                    24,
                    25,
                    26,
                    27,
                    28,
                    29,
                    30,
                    31,
                    32,
                    33,
                    34,
                    35,
                    36,
                    37,
                    38,
                    39,
                    40,
                    41,
                    42,
                    43,
                    44,
                    45,
                    46,
                    47,
                    48,
                    49,
                    50,
                    51,
                    52,
                    53,
                    54,
                    55,
                    56,
                    57,
                    58,
                    59,
                    60,
                    61,
                    62,
                    63,
                    64,
                    65,
                    66,
                    67,
                    68,
                    69,
                    70,
                    71,
                    72,
                    73,
                    74,
                    75,
                    76,
                    77,
                    78,
                    79,
                    80,
                    81,
                    82,
                    83,
                    84,
                    85,
                    86,
                    87,
                    88,
                    89,
                    90,
                    91,
                    92,
                    93,
                    94,
                    95,
                    96,
                    97,
                    98,
                    99,
                    100,
                    101,
                    102,
                    103,
                    104,
                    105,
                    106,
                    107,
                    108,
                    109,
                    110,
                    111,
                    112,
                    113,
                    114,
                    115,
                    116,
                    117,
                    118,
                    119,
                    120,
                    121,
                    122,
                    123,
                    124,
                    125,
                    126,
                    127,
                    128,
                    129,
                    130,
                    131,
                    132,
                    133,
                    134,
                    135,
                    136,
                    137,
                    138,
                    139,
                    140,
                    141,
                    142,
                    143,
                    144,
                    145,
                    146,
                    147,
                    148,
                    149,
                    150,
                    151,
                    152,
                    153,
                    154,
                    155,
                    156,
                    157,
                    158,
                    159,
                    160,
                    161,
                    162,
                    163,
                    164,
                    165,
                    166,
                    167,
                    168,
                    169,
                    170,
                    171,
                    172,
                    173,
                    174,
                    175,
                    176,
                    177,
                    178,
                    179,
                    180,
                    181,
                    182,
                    183,
                    184,
                    185,
                    186,
                    187,
                    188,
                    189,
                    190,
                    191,
                    192,
                    193,
                    194,
                    195,
                    196,
                    197,
                    198,
                    199,
                    200,
                    201,
                    202,
                    203,
                    204,
                    205,
                    206,
                    207,
                    208,
                    209,
                    210,
                    211,
                    212,
                    213,
                    214,
                    215,
                    216,
                    217,
                    218,
                    219,
                    220,
                    221,
                    222,
                    223,
                    224,
                    225,
                    226,
                    227,
                    228,
                    229,
                    230,
                    231,
                    232,
                    233,
                    234,
                    235,
                    236,
                    237,
                    238,
                    239,
                    240,
                    241,
                    242,
                    243,
                    244,
                    245,
                    246,
                    247,
                    248,
                    249,
                    250,
                    251,
                    252,
                    253,
                    254,
                    255,
                    256,
                    257,
                    258,
                    259,
                    260,
                    261,
                    262,
                    263,
                    264,
                    265,
                    266,
                    267,
                    268,
                    269,
                    270,
                    271,
                    272,
                    273,
                    274,
                    275,
                    276,
                    277,
                    278,
                    279,
                    280,
                    281,
                    282,
                    283,
                    284,
                    285,
                    286,
                    287,
                    288,
                    289,
                    290,
                    291,
                    292,
                    293,
                    294,
                    295,
                    296,
                    297,
                    298,
                    299,
                    300,
                    301,
                    302,
                    303,
                    304,
                    305,
                    306,
                    307,
                    308,
                    309,
                    310,
                    311,
                    312,
                    313,
                    314,
                    315,
                    316,
                    317,
                    318,
                    319,
                    320,
                    321,
                    322,
                    323,
                    324,
                    325,
                    326,
                    327,
                    328,
                    329,
                    330,
                    331,
                    332,
                    333,
                    334,
                    335,
                    336,
                    337,
                    338,
                    339,
                    340,
                    341,
                    342,
                    343,
                    344,
                    345,
                    346,
                    347,
                    348,
                    349,
                    350,
                    351,
                    352,
                    353,
                    354,
                    355,
                    356,
                    357,
                    358,
                    359,
                    360,
                    361,
                    362,
                    363,
                    364,
                    365,
                    366,
                    367,
                    368,
                    369,
                    370,
                    371,
                    372,
                    373,
                    374,
                    375,
                    376,
                    377,
                    378,
                    379,
                    380,
                    381,
                    382,
                    383,
                    384,
                    385,
                    386,
                    387,
                    388,
                    389,
                    390,
                    391,
                    392,
                    393,
                    394,
                    395,
                    396,
                    397,
                    398,
                    399,
                    400,
                    401,
                    402,
                    403,
                    404,
                    405,
                    406,
                    407,
                    408,
                    409,
                    410,
                    411,
                    412,
                    413,
                    414,
                    415,
                    416,
                    417,
                    418,
                    419,
                    420,
                    421,
                    422,
                    423,
                    424,
                    425,
                    426,
                    427,
                    428,
                    429,
                    430,
                    431,
                    432,
                    433,
                    434,
                    435,
                    436,
                    437,
                    438,
                    439,
                    440,
                    441,
                    442,
                    443,
                    444,
                    445,
                    446,
                    447,
                    448,
                    449,
                    450,
                    451,
                    452,
                    453,
                    454,
                    455,
                    456,
                    457,
                    458,
                    459,
                    460,
                    461,
                    462,
                    463,
                    464,
                    465,
                    466,
                    467,
                    468,
                    469,
                    470,
                    471,
                    472,
                    473,
                    474,
                    475,
                    476,
                    477,
                    478,
                    479,
                    480,
                    481,
                    482,
                    483,
                    484,
                    485,
                    486,
                    487,
                    488,
                    489,
                    490,
                    491,
                    492,
                    493,
                    494,
                    495,
                    496,
                    497,
                    498,
                    499,
                    500,
                    501,
                    502,
                    503,
                    504,
                    505,
                    506,
                    507,
                    508,
                    509,
                    510,
                    511,
                    512,
                    513,
                    514,
                    515,
                    516,
                    517,
                    518,
                    519,
                    520,
                    521,
                    522,
                    523,
                    524,
                    525,
                    526,
                    527,
                    528,
                    529,
                    530,
                    531,
                    532,
                    533,
                    534,
                    535,
                    536,
                    537,
                    538,
                    539,
                    540,
                    541,
                    542,
                    543,
                    544,
                    545,
                    546,
                    547,
                    548,
                    549,
                    550,
                    551,
                    552,
                    553,
                    554,
                    555,
                    556,
                    557,
                    558,
                    559,
                    560,
                    561,
                    562,
                    563,
                    564,
                    565,
                    566,
                    567,
                    568,
                    569,
                    570,
                    571,
                    572,
                    573,
                    574,
                    575,
                    576,
                    577,
                    578,
                    579,
                    580,
                    581,
                    582,
                    583,
                    584,
                    585,
                    586,
                    587,
                    588,
                    589,
                    590,
                    591,
                    592,
                    593,
                    594,
                    595,
                    596,
                    597,
                    598,
                    599,
                    600,
                    601,
                    602,
                    603,
                    604,
                    605,
                    606,
                    607,
                    608,
                    609,
                    610,
                    611,
                    612,
                    613,
                    614,
                    615,
                    616,
                    617,
                    618,
                    619,
                    620,
                    621,
                    622,
                    623,
                    624,
                    625,
                    626,
                    627,
                    628,
                    629,
                    630,
                    631,
                    632,
                    633,
                    634,
                    635,
                    636,
                    637,
                    638,
                    639,
                    640,
                    641,
                    642,
                    643,
                    644,
                    645,
                    646,
                    647,
                    648,
                    649,
                    650,
                    651,
                    652,
                    653,
                    654,
                    655,
                    656,
                    657,
                    658,
                    659,
                    660,
                    661,
                    662,
                    663,
                    664,
                    665,
                    666,
                    667,
                    668,
                    669,
                    670,
                    671,
                    672,
                    673,
                    674,
                    675,
                    676,
                    677,
                    678,
                    679,
                    680,
                    681,
                    682,
                    683,
                    684,
                    685,
                    686,
                    687,
                    688,
                    689,
                    690,
                    691,
                    692,
                    693,
                    694,
                    695,
                    696,
                    697,
                    698,
                    699,
                    700,
                    701,
                    702,
                    703,
                    704,
                    705,
                    706,
                    707,
                    708,
                    709,
                    710,
                    711,
                    712,
                    713,
                    714,
                    715,
                    716,
                    717,
                    718,
                    719,
                    720,
                    721,
                    722,
                    723,
                    724,
                    725,
                    726,
                    727,
                    728,
                    729,
                    730,
                    731,
                    732,
                    733,
                    734,
                    735,
                    736,
                    737,
                    738,
                    739,
                    740,
                    741,
                    742,
                    743,
                    744,
                    745,
                    746,
                    747,
                    748,
                    749,
                    750,
                    751,
                    752,
                    753,
                    754,
                    755,
                    756,
                    757,
                    758,
                    759,
                    760,
                    761,
                    762,
                    763,
                    764,
                    765,
                    766,
                    767,
                    768,
                    769,
                    770,
                    771,
                    772,
                    773,
                    774,
                    775,
                    776,
                    777,
                    778,
                    779,
                    780,
                    781,
                    782,
                    783,
                    784,
                    785,
                    786,
                    787,
                    788,
                    789,
                    790,
                    791,
                    792,
                    793,
                    794,
                    795,
                    796,
                    797,
                    798,
                    799,
                    800,
                    801,
                    802,
                    803,
                    804,
                    805,
                    806,
                    807,
                    808,
                    809,
                    810,
                    811,
                    812,
                    813,
                    814,
                    815,
                    816,
                    817,
                    818,
                    819,
                    820,
                    821,
                    822,
                    823,
                    824,
                    825,
                    826,
                    827,
                    828,
                    829,
                    830,
                    831,
                    832,
                    833,
                    834,
                    835,
                    836,
                    837,
                    838,
                    839,
                    840,
                    841,
                    842,
                    843,
                    844,
                    845,
                    846,
                    847,
                    848,
                    849,
                    850,
                    851,
                    852,
                    853,
                    854,
                    855,
                    856,
                    857,
                    858,
                    859,
                    860,
                    861,
                    862,
                    863,
                    864,
                    865,
                    866,
                    867,
                    868,
                    869,
                    870,
                    871,
                    872,
                    873,
                    874,
                    875,
                    876,
                    877,
                    878,
                    879,
                    880,
                    881,
                    882,
                    883,
                    884,
                    885,
                    886,
                    887,
                    888,
                    889,
                    890,
                    891,
                    892,
                    893,
                    894,
                    895,
                    896,
                    897,
                    898,
                    899,
                    900,
                    901,
                    902
                  ],
                  "y": [
                    8335.763840417121,
                    5767.366163238444,
                    5767.366163238444,
                    5616.851959964864,
                    5616.851959964864,
                    5616.851959964864,
                    5616.851959964864,
                    5616.851959964864,
                    5616.851959964864,
                    5616.851959964864,
                    5616.851959964864,
                    5616.851959964864,
                    5616.851959964864,
                    2191.246288309788,
                    2191.246288309788,
                    2106.8357899029197,
                    2106.8357899029197,
                    2106.8357899029197,
                    2106.8357899029197,
                    2106.8357899029197,
                    2106.8357899029197,
                    2106.8357899029197,
                    2106.8357899029197,
                    2106.8357899029197,
                    2106.8357899029197,
                    2106.8357899029197,
                    2106.8357899029197,
                    2106.8357899029197,
                    2106.8357899029197,
                    2106.8357899029197,
                    2106.8357899029197,
                    2106.8357899029197,
                    2106.8357899029197,
                    2106.8357899029197,
                    2106.8357899029197,
                    2106.8357899029197,
                    2106.8357899029197,
                    2106.8357899029197,
                    2106.8357899029197,
                    2106.8357899029197,
                    2106.8357899029197,
                    2106.8357899029197,
                    2106.8357899029197,
                    2106.8357899029197,
                    2106.8357899029197,
                    2106.8357899029197,
                    2106.8357899029197,
                    2106.8357899029197,
                    2106.8357899029197,
                    2106.8357899029197,
                    2106.8357899029197,
                    2106.8357899029197,
                    2106.8357899029197,
                    2106.8357899029197,
                    2106.8357899029197,
                    2106.8357899029197,
                    2106.8357899029197,
                    2106.8357899029197,
                    2106.8357899029197,
                    2106.8357899029197,
                    2106.8357899029197,
                    2106.8357899029197,
                    2106.8357899029197,
                    2106.8357899029197,
                    2106.8357899029197,
                    2106.8357899029197,
                    2036.5852978581079,
                    2036.5852978581079,
                    2032.4352552807682,
                    2032.4352552807682,
                    2032.4352552807682,
                    2032.4352552807682,
                    2032.4352552807682,
                    2032.4352552807682,
                    2032.4352552807682,
                    2032.4352552807682,
                    2032.4352552807682,
                    2032.4352552807682,
                    2032.4352552807682,
                    2032.4352552807682,
                    2032.4352552807682,
                    2032.4352552807682,
                    2032.4352552807682,
                    2032.4352552807682,
                    2032.4352552807682,
                    2032.4352552807682,
                    2032.4352552807682,
                    2032.4352552807682,
                    2032.4352552807682,
                    2032.4352552807682,
                    2032.4352552807682,
                    2032.4352552807682,
                    2032.4352552807682,
                    2032.4352552807682,
                    2032.4352552807682,
                    2032.4352552807682,
                    2032.4352552807682,
                    2032.4352552807682,
                    2032.4352552807682,
                    2032.4352552807682,
                    2032.4352552807682,
                    2032.4352552807682,
                    2032.4352552807682,
                    2032.4352552807682,
                    2032.4352552807682,
                    2032.4352552807682,
                    2032.4352552807682,
                    2028.2213808934107,
                    2028.2213808934107,
                    2028.2213808934107,
                    2028.2213808934107,
                    2028.2213808934107,
                    2028.2213808934107,
                    2028.2213808934107,
                    2028.2213808934107,
                    2028.2213808934107,
                    2028.2213808934107,
                    2012.4345480583947,
                    2012.4345480583947,
                    2012.4345480583947,
                    2012.4345480583947,
                    2002.6892559470823,
                    2002.6892559470823,
                    2002.6892559470823,
                    2002.6892559470823,
                    2002.6892559470823,
                    2002.6892559470823,
                    2002.6892559470823,
                    2002.6892559470823,
                    2002.6892559470823,
                    2002.6892559470823,
                    2002.6892559470823,
                    2002.6892559470823,
                    2002.6892559470823,
                    2002.6892559470823,
                    2002.6892559470823,
                    2002.6892559470823,
                    2002.6892559470823,
                    2002.6892559470823,
                    2002.6892559470823,
                    2002.6892559470823,
                    2002.6892559470823,
                    2002.6892559470823,
                    2002.6892559470823,
                    2002.6892559470823,
                    2002.6892559470823,
                    2002.6892559470823,
                    2002.6892559470823,
                    2002.6892559470823,
                    2002.6892559470823,
                    2002.6892559470823,
                    2002.6892559470823,
                    2002.6892559470823,
                    2002.6892559470823,
                    2002.6892559470823,
                    2002.6892559470823,
                    2002.6892559470823,
                    2002.6892559470823,
                    2002.6892559470823,
                    2002.6892559470823,
                    2002.6892559470823,
                    2002.6892559470823,
                    2002.6892559470823,
                    2002.6892559470823,
                    2002.6892559470823,
                    2002.6892559470823,
                    2002.6892559470823,
                    2002.6892559470823,
                    2002.6892559470823,
                    2002.6892559470823,
                    2002.6892559470823,
                    2002.6892559470823,
                    2002.6892559470823,
                    2002.6892559470823,
                    2002.6892559470823,
                    2002.6892559470823,
                    2002.6892559470823,
                    2002.6892559470823,
                    2002.6892559470823,
                    2002.6892559470823,
                    2002.6892559470823,
                    2002.6892559470823,
                    2002.6892559470823,
                    2002.6892559470823,
                    2002.6892559470823,
                    2002.6892559470823,
                    2002.6892559470823,
                    2002.6892559470823,
                    2002.6892559470823,
                    2002.6892559470823,
                    2002.6892559470823,
                    2002.6892559470823,
                    2002.6892559470823,
                    2002.6892559470823,
                    2002.6892559470823,
                    2002.6892559470823,
                    2002.6892559470823,
                    2002.6892559470823,
                    2002.6892559470823,
                    2002.6892559470823,
                    2002.6892559470823,
                    2002.6892559470823,
                    2002.6892559470823,
                    2002.6892559470823,
                    2002.6892559470823,
                    2002.6892559470823,
                    1972.5081234029408,
                    1972.5081234029408,
                    1972.5081234029408,
                    1972.5081234029408,
                    1972.5081234029408,
                    1972.5081234029408,
                    1972.5081234029408,
                    1972.5081234029408,
                    1972.5081234029408,
                    1972.5081234029408,
                    1972.5081234029408,
                    1972.5081234029408,
                    1972.5081234029408,
                    1972.5081234029408,
                    1972.5081234029408,
                    1972.5081234029408,
                    1972.5081234029408,
                    1972.5081234029408,
                    1972.5081234029408,
                    1972.5081234029408,
                    1972.5081234029408,
                    1972.5081234029408,
                    1972.5081234029408,
                    1972.5081234029408,
                    1972.5081234029408,
                    1972.5081234029408,
                    1972.5081234029408,
                    1972.5081234029408,
                    1972.5081234029408,
                    1972.5081234029408,
                    1972.5081234029408,
                    1972.5081234029408,
                    1972.5081234029408,
                    1972.5081234029408,
                    1972.5081234029408,
                    1972.5081234029408,
                    1972.5081234029408,
                    1972.5081234029408,
                    1968.2953910111742,
                    1968.2953910111742,
                    1968.2953910111742,
                    1968.2953910111742,
                    1968.2953910111742,
                    1968.2953910111742,
                    1968.2953910111742,
                    1968.2953910111742,
                    1968.2953910111742,
                    1968.2953910111742,
                    1968.2953910111742,
                    1968.2953910111742,
                    1968.2953910111742,
                    1968.2953910111742,
                    1968.2953910111742,
                    1968.2953910111742,
                    1968.2953910111742,
                    1968.2953910111742,
                    1968.2953910111742,
                    1968.2953910111742,
                    1968.2953910111742,
                    1968.2953910111742,
                    1968.2953910111742,
                    1968.2953910111742,
                    1968.2953910111742,
                    1968.2953910111742,
                    1968.2953910111742,
                    1955.8136747222163,
                    1955.8136747222163,
                    1955.8136747222163,
                    1955.8136747222163,
                    1955.8136747222163,
                    1955.8136747222163,
                    1955.8136747222163,
                    1955.8136747222163,
                    1955.8136747222163,
                    1955.8136747222163,
                    1955.8136747222163,
                    1955.8136747222163,
                    1955.8136747222163,
                    1955.8136747222163,
                    1955.8136747222163,
                    1955.8136747222163,
                    1955.8136747222163,
                    1955.8136747222163,
                    1955.8136747222163,
                    1955.8136747222163,
                    1955.8136747222163,
                    1955.8136747222163,
                    1955.8136747222163,
                    1955.8136747222163,
                    1955.8136747222163,
                    1955.8136747222163,
                    1955.8136747222163,
                    1955.8136747222163,
                    1955.8136747222163,
                    1955.8136747222163,
                    1955.8136747222163,
                    1955.8136747222163,
                    1955.8136747222163,
                    1955.8136747222163,
                    1955.8136747222163,
                    1955.8136747222163,
                    1955.8136747222163,
                    1955.8136747222163,
                    1955.8136747222163,
                    1955.8136747222163,
                    1955.8136747222163,
                    1955.8136747222163,
                    1955.8136747222163,
                    1955.8136747222163,
                    1955.8136747222163,
                    1955.8136747222163,
                    1955.8136747222163,
                    1955.8136747222163,
                    1955.8136747222163,
                    1955.8136747222163,
                    1955.8136747222163,
                    1955.8136747222163,
                    1955.8136747222163,
                    1955.8136747222163,
                    1955.8136747222163,
                    1955.8136747222163,
                    1955.8136747222163,
                    1955.8136747222163,
                    1955.8136747222163,
                    1955.8136747222163,
                    1955.8136747222163,
                    1955.8136747222163,
                    1955.8136747222163,
                    1955.8136747222163,
                    1955.8136747222163,
                    1955.8136747222163,
                    1955.8136747222163,
                    1955.8136747222163,
                    1955.8136747222163,
                    1955.8136747222163,
                    1955.8136747222163,
                    1955.8136747222163,
                    1955.8136747222163,
                    1955.8136747222163,
                    1955.8136747222163,
                    1955.8136747222163,
                    1955.8136747222163,
                    1955.8136747222163,
                    1955.8136747222163,
                    1955.8136747222163,
                    1955.8136747222163,
                    1955.8136747222163,
                    1955.8136747222163,
                    1955.8136747222163,
                    1955.8136747222163,
                    1955.8136747222163,
                    1955.8136747222163,
                    1955.8136747222163,
                    1955.8136747222163,
                    1955.8136747222163,
                    1955.8136747222163,
                    1955.8136747222163,
                    1955.8136747222163,
                    1955.8136747222163,
                    1955.8136747222163,
                    1955.8136747222163,
                    1955.8136747222163,
                    1955.8136747222163,
                    1955.8136747222163,
                    1955.8136747222163,
                    1955.8136747222163,
                    1955.8136747222163,
                    1955.8136747222163,
                    1955.8136747222163,
                    1955.8136747222163,
                    1955.8136747222163,
                    1955.8136747222163,
                    1955.8136747222163,
                    1955.8136747222163,
                    1955.8136747222163,
                    1955.8136747222163,
                    1955.8136747222163,
                    1955.8136747222163,
                    1955.8136747222163,
                    1955.8136747222163,
                    1955.8136747222163,
                    1955.8136747222163,
                    1955.8136747222163,
                    1955.8136747222163,
                    1955.8136747222163,
                    1955.8136747222163,
                    1955.8136747222163,
                    1955.8136747222163,
                    1955.8136747222163,
                    1955.8136747222163,
                    1955.8136747222163,
                    1955.8136747222163,
                    1955.8136747222163,
                    1955.8136747222163,
                    1955.8136747222163,
                    1955.8136747222163,
                    1955.8136747222163,
                    1955.8136747222163,
                    1955.8136747222163,
                    1955.8136747222163,
                    1955.8136747222163,
                    1955.8136747222163,
                    1955.8136747222163,
                    1955.8136747222163,
                    1955.8136747222163,
                    1955.8136747222163,
                    1955.8136747222163,
                    1955.8136747222163,
                    1955.8136747222163,
                    1955.8136747222163,
                    1955.8136747222163,
                    1955.8136747222163,
                    1955.8136747222163,
                    1955.8136747222163,
                    1955.8136747222163,
                    1955.8136747222163,
                    1955.8136747222163,
                    1955.8136747222163,
                    1955.8136747222163,
                    1955.8136747222163,
                    1955.8136747222163,
                    1955.8136747222163,
                    1955.8136747222163,
                    1955.8136747222163,
                    1955.8136747222163,
                    1955.8136747222163,
                    1955.8136747222163,
                    1955.8136747222163,
                    1955.8136747222163,
                    1955.8136747222163,
                    1955.8136747222163,
                    1955.8136747222163,
                    1955.8136747222163,
                    1955.8136747222163,
                    1955.8136747222163,
                    1955.8136747222163,
                    1955.8136747222163,
                    1955.8136747222163,
                    1955.8136747222163,
                    1955.8136747222163,
                    1955.8136747222163,
                    1955.8136747222163,
                    1955.8136747222163,
                    1955.8136747222163,
                    1955.8136747222163,
                    1955.8136747222163,
                    1955.8136747222163,
                    1955.8136747222163,
                    1955.8136747222163,
                    1955.8136747222163,
                    1955.8136747222163,
                    1955.8136747222163,
                    1955.8136747222163,
                    1955.8136747222163,
                    1955.8136747222163,
                    1955.8136747222163,
                    1955.8136747222163,
                    1955.8136747222163,
                    1955.8136747222163,
                    1955.8136747222163,
                    1955.8136747222163,
                    1955.8136747222163,
                    1955.8136747222163,
                    1955.8136747222163,
                    1955.8136747222163,
                    1955.8136747222163,
                    1955.8136747222163,
                    1955.8136747222163,
                    1955.8136747222163,
                    1955.8136747222163,
                    1955.8136747222163,
                    1955.8136747222163,
                    1955.8136747222163,
                    1955.8136747222163,
                    1955.8136747222163,
                    1955.8136747222163,
                    1955.8136747222163,
                    1955.8136747222163,
                    1955.8136747222163,
                    1955.8136747222163,
                    1955.8136747222163,
                    1955.8136747222163,
                    1955.8136747222163,
                    1955.8136747222163,
                    1955.8136747222163,
                    1955.8136747222163,
                    1955.8136747222163,
                    1955.8136747222163,
                    1955.8136747222163,
                    1955.8136747222163,
                    1955.8136747222163,
                    1955.8136747222163,
                    1955.8136747222163,
                    1955.8136747222163,
                    1955.8136747222163,
                    1955.8136747222163,
                    1955.8136747222163,
                    1955.8136747222163,
                    1955.8136747222163,
                    1955.8136747222163,
                    1955.8136747222163,
                    1955.8136747222163,
                    1955.8136747222163,
                    1955.8136747222163,
                    1955.8136747222163,
                    1955.8136747222163,
                    1955.8136747222163,
                    1955.8136747222163,
                    1955.8136747222163,
                    1955.8136747222163,
                    1955.8136747222163,
                    1955.8136747222163,
                    1955.8136747222163,
                    1955.8136747222163,
                    1955.8136747222163,
                    1955.8136747222163,
                    1955.8136747222163,
                    1955.8136747222163,
                    1955.8136747222163,
                    1955.8136747222163,
                    1955.8136747222163,
                    1955.8136747222163,
                    1955.8136747222163,
                    1955.8136747222163,
                    1955.8136747222163,
                    1955.8136747222163,
                    1955.8136747222163,
                    1955.8136747222163,
                    1955.8136747222163,
                    1955.8136747222163,
                    1955.8136747222163,
                    1955.8136747222163,
                    1955.8136747222163,
                    1955.8136747222163,
                    1955.8136747222163,
                    1955.8136747222163,
                    1955.8136747222163,
                    1955.8136747222163,
                    1955.8136747222163,
                    1955.8136747222163,
                    1955.8136747222163,
                    1955.8136747222163,
                    1955.8136747222163,
                    1955.8136747222163,
                    1955.8136747222163,
                    1955.8136747222163,
                    1955.8136747222163,
                    1955.8136747222163,
                    1955.8136747222163,
                    1955.8136747222163,
                    1955.8136747222163,
                    1955.8136747222163,
                    1955.8136747222163,
                    1955.8136747222163,
                    1955.8136747222163,
                    1955.8136747222163,
                    1955.8136747222163,
                    1955.8136747222163,
                    1955.8136747222163,
                    1955.8136747222163,
                    1955.8136747222163,
                    1955.8136747222163,
                    1955.8136747222163,
                    1955.8136747222163,
                    1955.8136747222163,
                    1955.8136747222163,
                    1955.8136747222163,
                    1955.8136747222163,
                    1955.8136747222163,
                    1955.8136747222163,
                    1955.8136747222163,
                    1955.8136747222163,
                    1955.8136747222163,
                    1955.8136747222163,
                    1955.8136747222163,
                    1955.8136747222163,
                    1955.8136747222163,
                    1955.8136747222163,
                    1955.8136747222163,
                    1955.8136747222163,
                    1955.8136747222163,
                    1955.8136747222163,
                    1955.8136747222163,
                    1955.8136747222163,
                    1955.8136747222163,
                    1940.5210199841865,
                    1940.5210199841865,
                    1940.5210199841865,
                    1940.5210199841865,
                    1940.5210199841865,
                    1940.5210199841865,
                    1940.5210199841865,
                    1940.5210199841865,
                    1940.5210199841865,
                    1940.5210199841865,
                    1940.5210199841865,
                    1940.5210199841865,
                    1940.5210199841865,
                    1940.5210199841865,
                    1940.5210199841865,
                    1940.5210199841865,
                    1940.5210199841865,
                    1940.5210199841865,
                    1940.5210199841865,
                    1940.5210199841865,
                    1940.5210199841865,
                    1940.5210199841865,
                    1940.5210199841865,
                    1940.5210199841865,
                    1940.5210199841865,
                    1940.5210199841865,
                    1940.5210199841865,
                    1940.5210199841865,
                    1940.5210199841865,
                    1940.5210199841865,
                    1940.5210199841865,
                    1940.5210199841865,
                    1940.5210199841865,
                    1940.5210199841865,
                    1940.5210199841865,
                    1940.5210199841865,
                    1940.5210199841865,
                    1940.5210199841865,
                    1940.5210199841865,
                    1940.5210199841865,
                    1940.5210199841865,
                    1940.5210199841865,
                    1940.5210199841865,
                    1940.5210199841865,
                    1940.5210199841865,
                    1940.5210199841865,
                    1940.5210199841865,
                    1940.5210199841865,
                    1940.5210199841865,
                    1940.5210199841865,
                    1940.5210199841865,
                    1940.5210199841865,
                    1940.5210199841865,
                    1940.5210199841865,
                    1940.5210199841865,
                    1940.5210199841865,
                    1940.5210199841865,
                    1940.5210199841865,
                    1940.5210199841865,
                    1940.5210199841865,
                    1940.5210199841865,
                    1940.5210199841865,
                    1940.5210199841865,
                    1940.5210199841865,
                    1940.5210199841865,
                    1940.5210199841865,
                    1940.5210199841865,
                    1940.5210199841865,
                    1940.5210199841865,
                    1940.5210199841865,
                    1940.5210199841865,
                    1940.5210199841865,
                    1940.5210199841865,
                    1940.5210199841865,
                    1940.5210199841865,
                    1940.5210199841865,
                    1940.5210199841865,
                    1940.5210199841865,
                    1940.5210199841865,
                    1940.5210199841865,
                    1940.5210199841865,
                    1940.5210199841865,
                    1940.5210199841865,
                    1940.5210199841865,
                    1940.5210199841865,
                    1940.5210199841865,
                    1940.5210199841865,
                    1940.5210199841865,
                    1940.5210199841865,
                    1940.5210199841865,
                    1940.5210199841865,
                    1940.5210199841865,
                    1940.5210199841865,
                    1940.5210199841865,
                    1940.5210199841865,
                    1940.5210199841865,
                    1940.5210199841865,
                    1940.5210199841865,
                    1940.5210199841865,
                    1940.5210199841865,
                    1940.5210199841865,
                    1940.5210199841865,
                    1940.5210199841865,
                    1940.5210199841865,
                    1940.5210199841865,
                    1940.5210199841865,
                    1940.5210199841865,
                    1940.5210199841865,
                    1940.5210199841865,
                    1940.5210199841865,
                    1940.5210199841865,
                    1940.5210199841865,
                    1940.5210199841865,
                    1940.5210199841865,
                    1940.5210199841865,
                    1940.5210199841865,
                    1940.5210199841865,
                    1940.5210199841865,
                    1940.5210199841865,
                    1940.5210199841865,
                    1940.5210199841865,
                    1940.5210199841865,
                    1940.5210199841865,
                    1940.5210199841865,
                    1940.5210199841865,
                    1940.5210199841865,
                    1940.5210199841865,
                    1940.5210199841865,
                    1940.5210199841865,
                    1940.5210199841865,
                    1940.5210199841865,
                    1940.5210199841865,
                    1940.5210199841865,
                    1940.5210199841865,
                    1940.5210199841865,
                    1940.5210199841865,
                    1940.5210199841865,
                    1940.5210199841865,
                    1940.5210199841865,
                    1940.5210199841865,
                    1940.5210199841865,
                    1940.5210199841865,
                    1940.5210199841865,
                    1940.5210199841865,
                    1940.5210199841865,
                    1940.5210199841865,
                    1940.5210199841865,
                    1940.5210199841865,
                    1940.5210199841865,
                    1940.5210199841865,
                    1940.5210199841865,
                    1940.5210199841865,
                    1940.5210199841865,
                    1940.5210199841865,
                    1940.5210199841865,
                    1940.5210199841865,
                    1940.5210199841865,
                    1940.5210199841865,
                    1940.5210199841865,
                    1940.5210199841865,
                    1940.5210199841865,
                    1940.5210199841865,
                    1940.5210199841865,
                    1940.5210199841865,
                    1940.5210199841865,
                    1940.5210199841865,
                    1940.5210199841865,
                    1940.5210199841865,
                    1940.5210199841865,
                    1940.5210199841865,
                    1940.5210199841865,
                    1940.5210199841865,
                    1940.5210199841865,
                    1940.5210199841865,
                    1940.5210199841865,
                    1940.5210199841865,
                    1940.5210199841865,
                    1940.5210199841865,
                    1940.5210199841865,
                    1940.5210199841865,
                    1940.5210199841865,
                    1940.5210199841865,
                    1940.5210199841865,
                    1940.5210199841865,
                    1940.5210199841865,
                    1940.5210199841865,
                    1940.5210199841865,
                    1940.5210199841865,
                    1940.5210199841865,
                    1940.5210199841865,
                    1940.5210199841865,
                    1940.5210199841865,
                    1940.5210199841865,
                    1940.5210199841865,
                    1940.5210199841865,
                    1940.5210199841865,
                    1940.5210199841865,
                    1940.5210199841865,
                    1940.5210199841865,
                    1940.5210199841865,
                    1940.5210199841865,
                    1940.5210199841865,
                    1940.5210199841865,
                    1940.5210199841865,
                    1940.5210199841865,
                    1940.5210199841865,
                    1940.5210199841865,
                    1940.5210199841865,
                    1940.5210199841865,
                    1940.5210199841865,
                    1940.5210199841865,
                    1940.5210199841865,
                    1940.5210199841865,
                    1940.5210199841865,
                    1940.5210199841865,
                    1940.5210199841865,
                    1940.5210199841865,
                    1940.5210199841865,
                    1940.5210199841865,
                    1940.5210199841865,
                    1940.5210199841865,
                    1940.5210199841865,
                    1940.5210199841865,
                    1940.5210199841865,
                    1940.5210199841865,
                    1940.5210199841865,
                    1940.5210199841865,
                    1940.5210199841865,
                    1940.5210199841865,
                    1940.5210199841865,
                    1940.5210199841865,
                    1940.5210199841865,
                    1940.5210199841865,
                    1940.5210199841865,
                    1940.5210199841865,
                    1940.5210199841865,
                    1940.5210199841865,
                    1940.5210199841865,
                    1940.5210199841865,
                    1940.5210199841865,
                    1940.5210199841865,
                    1940.5210199841865,
                    1940.5210199841865,
                    1940.5210199841865,
                    1940.5210199841865,
                    1940.5210199841865,
                    1940.5210199841865,
                    1940.5210199841865,
                    1940.5210199841865,
                    1940.5210199841865,
                    1940.5210199841865,
                    1940.5210199841865,
                    1940.5210199841865,
                    1940.5210199841865,
                    1940.5210199841865,
                    1940.5210199841865,
                    1940.5210199841865,
                    1940.5210199841865,
                    1940.5210199841865,
                    1940.5210199841865,
                    1940.5210199841865,
                    1940.5210199841865,
                    1940.5210199841865,
                    1940.5210199841865,
                    1940.5210199841865,
                    1940.5210199841865,
                    1940.5210199841865,
                    1940.5210199841865,
                    1940.5210199841865,
                    1940.5210199841865,
                    1940.5210199841865,
                    1940.5210199841865,
                    1940.5210199841865,
                    1940.5210199841865,
                    1940.5210199841865,
                    1940.5210199841865,
                    1940.5210199841865,
                    1940.5210199841865,
                    1940.5210199841865,
                    1940.5210199841865,
                    1940.5210199841865,
                    1940.5210199841865,
                    1940.5210199841865,
                    1940.5210199841865,
                    1940.5210199841865,
                    1940.5210199841865,
                    1940.5210199841865,
                    1940.5210199841865,
                    1940.5210199841865,
                    1940.5210199841865,
                    1940.5210199841865,
                    1940.5210199841865,
                    1940.5210199841865,
                    1940.5210199841865,
                    1940.5210199841865,
                    1940.5210199841865,
                    1940.5210199841865,
                    1940.5210199841865,
                    1940.5210199841865,
                    1940.5210199841865,
                    1940.5210199841865,
                    1940.5210199841865,
                    1940.5210199841865,
                    1940.5210199841865,
                    1940.5210199841865,
                    1940.5210199841865,
                    1940.5210199841865,
                    1940.5210199841865,
                    1940.5210199841865,
                    1940.5210199841865,
                    1940.5210199841865,
                    1940.5210199841865
                  ]
                },
                {
                  "marker": {
                    "color": "#cccccc"
                  },
                  "mode": "markers",
                  "name": "Infeasible Trial",
                  "showlegend": false,
                  "type": "scatter",
                  "x": [],
                  "y": []
                }
              ],
              "layout": {
                "template": {
                  "data": {
                    "bar": [
                      {
                        "error_x": {
                          "color": "#2a3f5f"
                        },
                        "error_y": {
                          "color": "#2a3f5f"
                        },
                        "marker": {
                          "line": {
                            "color": "#E5ECF6",
                            "width": 0.5
                          },
                          "pattern": {
                            "fillmode": "overlay",
                            "size": 10,
                            "solidity": 0.2
                          }
                        },
                        "type": "bar"
                      }
                    ],
                    "barpolar": [
                      {
                        "marker": {
                          "line": {
                            "color": "#E5ECF6",
                            "width": 0.5
                          },
                          "pattern": {
                            "fillmode": "overlay",
                            "size": 10,
                            "solidity": 0.2
                          }
                        },
                        "type": "barpolar"
                      }
                    ],
                    "carpet": [
                      {
                        "aaxis": {
                          "endlinecolor": "#2a3f5f",
                          "gridcolor": "white",
                          "linecolor": "white",
                          "minorgridcolor": "white",
                          "startlinecolor": "#2a3f5f"
                        },
                        "baxis": {
                          "endlinecolor": "#2a3f5f",
                          "gridcolor": "white",
                          "linecolor": "white",
                          "minorgridcolor": "white",
                          "startlinecolor": "#2a3f5f"
                        },
                        "type": "carpet"
                      }
                    ],
                    "choropleth": [
                      {
                        "colorbar": {
                          "outlinewidth": 0,
                          "ticks": ""
                        },
                        "type": "choropleth"
                      }
                    ],
                    "contour": [
                      {
                        "colorbar": {
                          "outlinewidth": 0,
                          "ticks": ""
                        },
                        "colorscale": [
                          [
                            0,
                            "#0d0887"
                          ],
                          [
                            0.1111111111111111,
                            "#46039f"
                          ],
                          [
                            0.2222222222222222,
                            "#7201a8"
                          ],
                          [
                            0.3333333333333333,
                            "#9c179e"
                          ],
                          [
                            0.4444444444444444,
                            "#bd3786"
                          ],
                          [
                            0.5555555555555556,
                            "#d8576b"
                          ],
                          [
                            0.6666666666666666,
                            "#ed7953"
                          ],
                          [
                            0.7777777777777778,
                            "#fb9f3a"
                          ],
                          [
                            0.8888888888888888,
                            "#fdca26"
                          ],
                          [
                            1,
                            "#f0f921"
                          ]
                        ],
                        "type": "contour"
                      }
                    ],
                    "contourcarpet": [
                      {
                        "colorbar": {
                          "outlinewidth": 0,
                          "ticks": ""
                        },
                        "type": "contourcarpet"
                      }
                    ],
                    "heatmap": [
                      {
                        "colorbar": {
                          "outlinewidth": 0,
                          "ticks": ""
                        },
                        "colorscale": [
                          [
                            0,
                            "#0d0887"
                          ],
                          [
                            0.1111111111111111,
                            "#46039f"
                          ],
                          [
                            0.2222222222222222,
                            "#7201a8"
                          ],
                          [
                            0.3333333333333333,
                            "#9c179e"
                          ],
                          [
                            0.4444444444444444,
                            "#bd3786"
                          ],
                          [
                            0.5555555555555556,
                            "#d8576b"
                          ],
                          [
                            0.6666666666666666,
                            "#ed7953"
                          ],
                          [
                            0.7777777777777778,
                            "#fb9f3a"
                          ],
                          [
                            0.8888888888888888,
                            "#fdca26"
                          ],
                          [
                            1,
                            "#f0f921"
                          ]
                        ],
                        "type": "heatmap"
                      }
                    ],
                    "heatmapgl": [
                      {
                        "colorbar": {
                          "outlinewidth": 0,
                          "ticks": ""
                        },
                        "colorscale": [
                          [
                            0,
                            "#0d0887"
                          ],
                          [
                            0.1111111111111111,
                            "#46039f"
                          ],
                          [
                            0.2222222222222222,
                            "#7201a8"
                          ],
                          [
                            0.3333333333333333,
                            "#9c179e"
                          ],
                          [
                            0.4444444444444444,
                            "#bd3786"
                          ],
                          [
                            0.5555555555555556,
                            "#d8576b"
                          ],
                          [
                            0.6666666666666666,
                            "#ed7953"
                          ],
                          [
                            0.7777777777777778,
                            "#fb9f3a"
                          ],
                          [
                            0.8888888888888888,
                            "#fdca26"
                          ],
                          [
                            1,
                            "#f0f921"
                          ]
                        ],
                        "type": "heatmapgl"
                      }
                    ],
                    "histogram": [
                      {
                        "marker": {
                          "pattern": {
                            "fillmode": "overlay",
                            "size": 10,
                            "solidity": 0.2
                          }
                        },
                        "type": "histogram"
                      }
                    ],
                    "histogram2d": [
                      {
                        "colorbar": {
                          "outlinewidth": 0,
                          "ticks": ""
                        },
                        "colorscale": [
                          [
                            0,
                            "#0d0887"
                          ],
                          [
                            0.1111111111111111,
                            "#46039f"
                          ],
                          [
                            0.2222222222222222,
                            "#7201a8"
                          ],
                          [
                            0.3333333333333333,
                            "#9c179e"
                          ],
                          [
                            0.4444444444444444,
                            "#bd3786"
                          ],
                          [
                            0.5555555555555556,
                            "#d8576b"
                          ],
                          [
                            0.6666666666666666,
                            "#ed7953"
                          ],
                          [
                            0.7777777777777778,
                            "#fb9f3a"
                          ],
                          [
                            0.8888888888888888,
                            "#fdca26"
                          ],
                          [
                            1,
                            "#f0f921"
                          ]
                        ],
                        "type": "histogram2d"
                      }
                    ],
                    "histogram2dcontour": [
                      {
                        "colorbar": {
                          "outlinewidth": 0,
                          "ticks": ""
                        },
                        "colorscale": [
                          [
                            0,
                            "#0d0887"
                          ],
                          [
                            0.1111111111111111,
                            "#46039f"
                          ],
                          [
                            0.2222222222222222,
                            "#7201a8"
                          ],
                          [
                            0.3333333333333333,
                            "#9c179e"
                          ],
                          [
                            0.4444444444444444,
                            "#bd3786"
                          ],
                          [
                            0.5555555555555556,
                            "#d8576b"
                          ],
                          [
                            0.6666666666666666,
                            "#ed7953"
                          ],
                          [
                            0.7777777777777778,
                            "#fb9f3a"
                          ],
                          [
                            0.8888888888888888,
                            "#fdca26"
                          ],
                          [
                            1,
                            "#f0f921"
                          ]
                        ],
                        "type": "histogram2dcontour"
                      }
                    ],
                    "mesh3d": [
                      {
                        "colorbar": {
                          "outlinewidth": 0,
                          "ticks": ""
                        },
                        "type": "mesh3d"
                      }
                    ],
                    "parcoords": [
                      {
                        "line": {
                          "colorbar": {
                            "outlinewidth": 0,
                            "ticks": ""
                          }
                        },
                        "type": "parcoords"
                      }
                    ],
                    "pie": [
                      {
                        "automargin": true,
                        "type": "pie"
                      }
                    ],
                    "scatter": [
                      {
                        "fillpattern": {
                          "fillmode": "overlay",
                          "size": 10,
                          "solidity": 0.2
                        },
                        "type": "scatter"
                      }
                    ],
                    "scatter3d": [
                      {
                        "line": {
                          "colorbar": {
                            "outlinewidth": 0,
                            "ticks": ""
                          }
                        },
                        "marker": {
                          "colorbar": {
                            "outlinewidth": 0,
                            "ticks": ""
                          }
                        },
                        "type": "scatter3d"
                      }
                    ],
                    "scattercarpet": [
                      {
                        "marker": {
                          "colorbar": {
                            "outlinewidth": 0,
                            "ticks": ""
                          }
                        },
                        "type": "scattercarpet"
                      }
                    ],
                    "scattergeo": [
                      {
                        "marker": {
                          "colorbar": {
                            "outlinewidth": 0,
                            "ticks": ""
                          }
                        },
                        "type": "scattergeo"
                      }
                    ],
                    "scattergl": [
                      {
                        "marker": {
                          "colorbar": {
                            "outlinewidth": 0,
                            "ticks": ""
                          }
                        },
                        "type": "scattergl"
                      }
                    ],
                    "scattermapbox": [
                      {
                        "marker": {
                          "colorbar": {
                            "outlinewidth": 0,
                            "ticks": ""
                          }
                        },
                        "type": "scattermapbox"
                      }
                    ],
                    "scatterpolar": [
                      {
                        "marker": {
                          "colorbar": {
                            "outlinewidth": 0,
                            "ticks": ""
                          }
                        },
                        "type": "scatterpolar"
                      }
                    ],
                    "scatterpolargl": [
                      {
                        "marker": {
                          "colorbar": {
                            "outlinewidth": 0,
                            "ticks": ""
                          }
                        },
                        "type": "scatterpolargl"
                      }
                    ],
                    "scatterternary": [
                      {
                        "marker": {
                          "colorbar": {
                            "outlinewidth": 0,
                            "ticks": ""
                          }
                        },
                        "type": "scatterternary"
                      }
                    ],
                    "surface": [
                      {
                        "colorbar": {
                          "outlinewidth": 0,
                          "ticks": ""
                        },
                        "colorscale": [
                          [
                            0,
                            "#0d0887"
                          ],
                          [
                            0.1111111111111111,
                            "#46039f"
                          ],
                          [
                            0.2222222222222222,
                            "#7201a8"
                          ],
                          [
                            0.3333333333333333,
                            "#9c179e"
                          ],
                          [
                            0.4444444444444444,
                            "#bd3786"
                          ],
                          [
                            0.5555555555555556,
                            "#d8576b"
                          ],
                          [
                            0.6666666666666666,
                            "#ed7953"
                          ],
                          [
                            0.7777777777777778,
                            "#fb9f3a"
                          ],
                          [
                            0.8888888888888888,
                            "#fdca26"
                          ],
                          [
                            1,
                            "#f0f921"
                          ]
                        ],
                        "type": "surface"
                      }
                    ],
                    "table": [
                      {
                        "cells": {
                          "fill": {
                            "color": "#EBF0F8"
                          },
                          "line": {
                            "color": "white"
                          }
                        },
                        "header": {
                          "fill": {
                            "color": "#C8D4E3"
                          },
                          "line": {
                            "color": "white"
                          }
                        },
                        "type": "table"
                      }
                    ]
                  },
                  "layout": {
                    "annotationdefaults": {
                      "arrowcolor": "#2a3f5f",
                      "arrowhead": 0,
                      "arrowwidth": 1
                    },
                    "autotypenumbers": "strict",
                    "coloraxis": {
                      "colorbar": {
                        "outlinewidth": 0,
                        "ticks": ""
                      }
                    },
                    "colorscale": {
                      "diverging": [
                        [
                          0,
                          "#8e0152"
                        ],
                        [
                          0.1,
                          "#c51b7d"
                        ],
                        [
                          0.2,
                          "#de77ae"
                        ],
                        [
                          0.3,
                          "#f1b6da"
                        ],
                        [
                          0.4,
                          "#fde0ef"
                        ],
                        [
                          0.5,
                          "#f7f7f7"
                        ],
                        [
                          0.6,
                          "#e6f5d0"
                        ],
                        [
                          0.7,
                          "#b8e186"
                        ],
                        [
                          0.8,
                          "#7fbc41"
                        ],
                        [
                          0.9,
                          "#4d9221"
                        ],
                        [
                          1,
                          "#276419"
                        ]
                      ],
                      "sequential": [
                        [
                          0,
                          "#0d0887"
                        ],
                        [
                          0.1111111111111111,
                          "#46039f"
                        ],
                        [
                          0.2222222222222222,
                          "#7201a8"
                        ],
                        [
                          0.3333333333333333,
                          "#9c179e"
                        ],
                        [
                          0.4444444444444444,
                          "#bd3786"
                        ],
                        [
                          0.5555555555555556,
                          "#d8576b"
                        ],
                        [
                          0.6666666666666666,
                          "#ed7953"
                        ],
                        [
                          0.7777777777777778,
                          "#fb9f3a"
                        ],
                        [
                          0.8888888888888888,
                          "#fdca26"
                        ],
                        [
                          1,
                          "#f0f921"
                        ]
                      ],
                      "sequentialminus": [
                        [
                          0,
                          "#0d0887"
                        ],
                        [
                          0.1111111111111111,
                          "#46039f"
                        ],
                        [
                          0.2222222222222222,
                          "#7201a8"
                        ],
                        [
                          0.3333333333333333,
                          "#9c179e"
                        ],
                        [
                          0.4444444444444444,
                          "#bd3786"
                        ],
                        [
                          0.5555555555555556,
                          "#d8576b"
                        ],
                        [
                          0.6666666666666666,
                          "#ed7953"
                        ],
                        [
                          0.7777777777777778,
                          "#fb9f3a"
                        ],
                        [
                          0.8888888888888888,
                          "#fdca26"
                        ],
                        [
                          1,
                          "#f0f921"
                        ]
                      ]
                    },
                    "colorway": [
                      "#636efa",
                      "#EF553B",
                      "#00cc96",
                      "#ab63fa",
                      "#FFA15A",
                      "#19d3f3",
                      "#FF6692",
                      "#B6E880",
                      "#FF97FF",
                      "#FECB52"
                    ],
                    "font": {
                      "color": "#2a3f5f"
                    },
                    "geo": {
                      "bgcolor": "white",
                      "lakecolor": "white",
                      "landcolor": "#E5ECF6",
                      "showlakes": true,
                      "showland": true,
                      "subunitcolor": "white"
                    },
                    "hoverlabel": {
                      "align": "left"
                    },
                    "hovermode": "closest",
                    "mapbox": {
                      "style": "light"
                    },
                    "paper_bgcolor": "white",
                    "plot_bgcolor": "#E5ECF6",
                    "polar": {
                      "angularaxis": {
                        "gridcolor": "white",
                        "linecolor": "white",
                        "ticks": ""
                      },
                      "bgcolor": "#E5ECF6",
                      "radialaxis": {
                        "gridcolor": "white",
                        "linecolor": "white",
                        "ticks": ""
                      }
                    },
                    "scene": {
                      "xaxis": {
                        "backgroundcolor": "#E5ECF6",
                        "gridcolor": "white",
                        "gridwidth": 2,
                        "linecolor": "white",
                        "showbackground": true,
                        "ticks": "",
                        "zerolinecolor": "white"
                      },
                      "yaxis": {
                        "backgroundcolor": "#E5ECF6",
                        "gridcolor": "white",
                        "gridwidth": 2,
                        "linecolor": "white",
                        "showbackground": true,
                        "ticks": "",
                        "zerolinecolor": "white"
                      },
                      "zaxis": {
                        "backgroundcolor": "#E5ECF6",
                        "gridcolor": "white",
                        "gridwidth": 2,
                        "linecolor": "white",
                        "showbackground": true,
                        "ticks": "",
                        "zerolinecolor": "white"
                      }
                    },
                    "shapedefaults": {
                      "line": {
                        "color": "#2a3f5f"
                      }
                    },
                    "ternary": {
                      "aaxis": {
                        "gridcolor": "white",
                        "linecolor": "white",
                        "ticks": ""
                      },
                      "baxis": {
                        "gridcolor": "white",
                        "linecolor": "white",
                        "ticks": ""
                      },
                      "bgcolor": "#E5ECF6",
                      "caxis": {
                        "gridcolor": "white",
                        "linecolor": "white",
                        "ticks": ""
                      }
                    },
                    "title": {
                      "x": 0.05
                    },
                    "xaxis": {
                      "automargin": true,
                      "gridcolor": "white",
                      "linecolor": "white",
                      "ticks": "",
                      "title": {
                        "standoff": 15
                      },
                      "zerolinecolor": "white",
                      "zerolinewidth": 2
                    },
                    "yaxis": {
                      "automargin": true,
                      "gridcolor": "white",
                      "linecolor": "white",
                      "ticks": "",
                      "title": {
                        "standoff": 15
                      },
                      "zerolinecolor": "white",
                      "zerolinewidth": 2
                    }
                  }
                },
                "title": {
                  "text": "Optimization History Plot"
                },
                "xaxis": {
                  "title": {
                    "text": "Trial"
                  }
                },
                "yaxis": {
                  "title": {
                    "text": "Objective Value"
                  }
                }
              }
            }
          },
          "metadata": {},
          "output_type": "display_data"
        }
      ],
      "source": [
        "from optuna.visualization import plot_optimization_history\n",
        "\n",
        "# grafico historial\n",
        "plot_optimization_history(study)"
      ]
    },
    {
      "cell_type": "markdown",
      "metadata": {},
      "source": [
        "2. Gráfico de coordenadas paralelas"
      ]
    },
    {
      "cell_type": "code",
      "execution_count": 207,
      "metadata": {},
      "outputs": [
        {
          "data": {
            "application/vnd.plotly.v1+json": {
              "config": {
                "plotlyServerURL": "https://plot.ly"
              },
              "data": [
                {
                  "dimensions": [
                    {
                      "label": "Objective Value",
                      "range": [
                        1940.5210199841865,
                        8376.923948886248
                      ],
                      "values": [
                        8335.763840417121,
                        5767.366163238444,
                        8281.224091639788,
                        5616.851959964864,
                        8376.923948886248,
                        8244.049488875566,
                        2191.246288309788,
                        2222.334941465158,
                        2106.8357899029197,
                        6421.68271242198,
                        5687.852775512368,
                        2140.7413978065306,
                        5695.60901075266,
                        2140.6149138177047,
                        2251.1955806946944,
                        2036.5852978581079,
                        2032.4352552807682,
                        2065.7032563974008,
                        2107.4914429692735,
                        2048.969512366737,
                        2068.3424674435532,
                        2049.157628445459,
                        2053.2363790149025,
                        2060.597171895945,
                        2080.3540961953336,
                        2059.2978515625,
                        2037.3715257414544,
                        2039.7593648874729,
                        2036.634180472939,
                        2085.7038479311536,
                        2081.329224778244,
                        2028.2213808934107,
                        2093.9495139441606,
                        2029.5499164489256,
                        2211.112778569035,
                        2032.3707213210037,
                        2012.4345480583947,
                        2002.6892559470823,
                        2054.299914485328,
                        2024.1798854960832,
                        2032.7986731644291,
                        2095.5718617784432,
                        2100.176245804447,
                        2053.164419056583,
                        2049.1719131265186,
                        2012.5980594420241,
                        2030.5861258417287,
                        2042.7433492951993,
                        2051.863477937018,
                        2020.0228831109669,
                        2085.311483347384,
                        2039.318390628927,
                        2009.9953582190956,
                        2009.8282909239904,
                        2015.2851318686642,
                        2040.1770400796436,
                        2023.8451989713367,
                        2008.1424107283115,
                        2003.5494194951198,
                        2088.0775869742797,
                        2021.3721454201052,
                        1972.5081234029408,
                        2016.3210362493194,
                        2022.1207597747884,
                        2051.684646238271,
                        2008.4540058371208,
                        2127.238680351196,
                        2009.4291026752053,
                        2006.4141081536422,
                        2006.0876214485065,
                        1987.0666718265645,
                        2040.7426212914188,
                        2022.768559760127,
                        2083.677559123921,
                        2029.701199038099,
                        2077.4166927388783,
                        1990.299163900176,
                        2009.9266017064972,
                        1968.2953910111742,
                        2002.7395035894563,
                        2030.6435375060216,
                        2031.824636014473,
                        1988.0353560460476,
                        1955.8136747222163,
                        1978.604210574889,
                        2011.4242619164188,
                        2037.0369077789878,
                        2001.6344257589958,
                        1981.6456761909874,
                        2030.897454392175,
                        2005.7729863634697,
                        2060.0867882286257,
                        1999.6852204269123,
                        1988.5534317793858,
                        2031.3393377963723,
                        1995.2425759650428,
                        2052.431175743287,
                        2054.3047333172753,
                        1987.2425455292812,
                        1987.5902590508756,
                        1994.9692467901725,
                        2001.5208054611574,
                        1988.6405379471767,
                        2014.0694465534937,
                        2270.84644994659,
                        1992.047952196873,
                        1996.4511393120079,
                        1985.5212358162805,
                        1970.7925824121878,
                        2024.9018998133274,
                        2050.4033443665694,
                        1984.8367895376905,
                        1981.0506653977463,
                        2020.1465064654722,
                        1940.5210199841865,
                        1965.4985021023583,
                        1978.281276999466,
                        1946.746392216823,
                        2025.2512774838199,
                        1984.4040996970823,
                        1990.4817774877472,
                        1988.3942980727945,
                        1993.0927037297881,
                        1948.7701605830052,
                        1989.8448072336314,
                        2048.477333866559,
                        2740.033346467619,
                        2081.546168432159,
                        2014.857051082335,
                        1959.6960758485359,
                        1973.7730806161508,
                        1992.3666936552238,
                        1993.409928963587,
                        1998.5920907600955,
                        2178.177745992952,
                        2033.679741826198,
                        2038.4571904650322,
                        2080.291178276328,
                        1992.9007751628476
                      ]
                    },
                    {
                      "label": "learning_rate",
                      "range": [
                        0.0074401077055426725,
                        0.0999985615176731
                      ],
                      "values": [
                        0.03807947176588889,
                        0.06051038616257767,
                        0.03111998205299424,
                        0.04615092843748656,
                        0.0074401077055426725,
                        0.06569237816113467,
                        0.07742047722562709,
                        0.0816635881814849,
                        0.08344481504923282,
                        0.09828757210613467,
                        0.07927614015111932,
                        0.07011156736053475,
                        0.07215521379593262,
                        0.0979453563308534,
                        0.08002841386054682,
                        0.09081887627483427,
                        0.09129533246003538,
                        0.08606244987417273,
                        0.09987005962552714,
                        0.0851432668459822,
                        0.0858494976304962,
                        0.08559290308153282,
                        0.09008107729415599,
                        0.08995979728666835,
                        0.09490065301179142,
                        0.09250162352648841,
                        0.0921980600571016,
                        0.09235502178269418,
                        0.0960338276034061,
                        0.08820592066899419,
                        0.09377460743218245,
                        0.09681898738853029,
                        0.09868118731413114,
                        0.09650590529160519,
                        0.09756437046547614,
                        0.09052990454488877,
                        0.09581564000027314,
                        0.09450051068042864,
                        0.09433972147448855,
                        0.09675175832255914,
                        0.09567131697824025,
                        0.0999437562479896,
                        0.09786562151946855,
                        0.09150217172550607,
                        0.09360980658477638,
                        0.09708645230747275,
                        0.09830869990225402,
                        0.09775965503866514,
                        0.09633033036144915,
                        0.09990047041277766,
                        0.09355593190789738,
                        0.09967417310592612,
                        0.09823155803874803,
                        0.09881738179564005,
                        0.09566114771565754,
                        0.0952892207932073,
                        0.09579968728614038,
                        0.09820145716216172,
                        0.09996655433680873,
                        0.09825685476288246,
                        0.09607062141637193,
                        0.0960405398211307,
                        0.09644110356448454,
                        0.09870174804063953,
                        0.09986430151144436,
                        0.09574673092734069,
                        0.0979606009621177,
                        0.09374353614953347,
                        0.0957905918963925,
                        0.09676875478633715,
                        0.09693328129344034,
                        0.09841684271902733,
                        0.09998704377876928,
                        0.09747942807608143,
                        0.09802086343378899,
                        0.0998405813370535,
                        0.0979000213697624,
                        0.09845748639603283,
                        0.09991391195097642,
                        0.09603863379139224,
                        0.09646215307327341,
                        0.09791442207852004,
                        0.09671264680745784,
                        0.0965771707027825,
                        0.09699550950287589,
                        0.09780876270548992,
                        0.0971341757688291,
                        0.09760914189367324,
                        0.09822057873059524,
                        0.0983222067669575,
                        0.0982678206203437,
                        0.09832629632349157,
                        0.09787994784132731,
                        0.09986047889203546,
                        0.09980571335919422,
                        0.0999897521352064,
                        0.09787388343988128,
                        0.09672162192006944,
                        0.09999809074167122,
                        0.09691690898783765,
                        0.09797509156783354,
                        0.09824780792399972,
                        0.09818615246229714,
                        0.09995550825842497,
                        0.09985020914195583,
                        0.09793392448478663,
                        0.0981309478787477,
                        0.0979410042459507,
                        0.09819524163235695,
                        0.09817722507337927,
                        0.09997089992898228,
                        0.09984700867652176,
                        0.09992408443080539,
                        0.09779360773772305,
                        0.09822680337912902,
                        0.09698412970745088,
                        0.09825623517897475,
                        0.09838141142304697,
                        0.097729742515877,
                        0.09998684635973619,
                        0.09991254511447319,
                        0.09992356033536538,
                        0.09981832680006447,
                        0.0981701505552868,
                        0.09817413797968774,
                        0.09822703016955414,
                        0.09798652081102967,
                        0.09996940275091003,
                        0.09815384876668085,
                        0.0999985615176731,
                        0.09806964882518704,
                        0.09802416501383378,
                        0.09999510974080894,
                        0.09993020114560443,
                        0.09828922171027471,
                        0.0999664469534971,
                        0.09831865913308221,
                        0.09993488738967453,
                        0.09838726894147998
                      ]
                    },
                    {
                      "label": "max_depth",
                      "range": [
                        3,
                        10
                      ],
                      "values": [
                        8,
                        3,
                        6,
                        4,
                        10,
                        5,
                        5,
                        5,
                        7,
                        8,
                        6,
                        6,
                        6,
                        7,
                        6,
                        6,
                        8,
                        7,
                        8,
                        8,
                        8,
                        9,
                        8,
                        8,
                        8,
                        8,
                        8,
                        8,
                        8,
                        8,
                        8,
                        8,
                        8,
                        8,
                        8,
                        8,
                        9,
                        8,
                        8,
                        8,
                        9,
                        8,
                        7,
                        8,
                        9,
                        10,
                        10,
                        10,
                        10,
                        10,
                        10,
                        8,
                        8,
                        8,
                        8,
                        8,
                        8,
                        10,
                        10,
                        10,
                        10,
                        8,
                        10,
                        10,
                        10,
                        8,
                        8,
                        8,
                        8,
                        8,
                        8,
                        8,
                        8,
                        8,
                        8,
                        8,
                        8,
                        8,
                        8,
                        8,
                        8,
                        8,
                        8,
                        8,
                        8,
                        8,
                        8,
                        7,
                        8,
                        8,
                        9,
                        8,
                        8,
                        8,
                        8,
                        8,
                        8,
                        8,
                        8,
                        8,
                        8,
                        8,
                        8,
                        8,
                        9,
                        8,
                        8,
                        8,
                        8,
                        8,
                        8,
                        8,
                        8,
                        8,
                        8,
                        8,
                        8,
                        8,
                        8,
                        8,
                        8,
                        8,
                        8,
                        8,
                        8,
                        8,
                        8,
                        8,
                        8,
                        8,
                        9,
                        9,
                        8,
                        8,
                        8,
                        8,
                        8,
                        8,
                        8
                      ]
                    },
                    {
                      "label": "max_leaves",
                      "range": [
                        29,
                        100
                      ],
                      "values": [
                        60,
                        97,
                        29,
                        51,
                        81,
                        44,
                        100,
                        61,
                        63,
                        69,
                        43,
                        57,
                        53,
                        36,
                        44,
                        64,
                        75,
                        64,
                        68,
                        77,
                        71,
                        71,
                        81,
                        79,
                        69,
                        76,
                        77,
                        77,
                        88,
                        83,
                        84,
                        66,
                        73,
                        76,
                        81,
                        87,
                        88,
                        85,
                        88,
                        85,
                        85,
                        84,
                        89,
                        86,
                        90,
                        82,
                        82,
                        85,
                        82,
                        92,
                        93,
                        93,
                        92,
                        97,
                        95,
                        96,
                        81,
                        88,
                        80,
                        85,
                        81,
                        76,
                        82,
                        78,
                        92,
                        89,
                        80,
                        94,
                        96,
                        100,
                        97,
                        99,
                        96,
                        100,
                        96,
                        99,
                        98,
                        97,
                        98,
                        96,
                        95,
                        97,
                        95,
                        93,
                        91,
                        100,
                        100,
                        96,
                        90,
                        91,
                        95,
                        94,
                        100,
                        89,
                        89,
                        100,
                        98,
                        98,
                        96,
                        100,
                        92,
                        100,
                        100,
                        99,
                        97,
                        98,
                        98,
                        98,
                        100,
                        90,
                        98,
                        100,
                        96,
                        95,
                        94,
                        98,
                        98,
                        98,
                        98,
                        94,
                        94,
                        92,
                        93,
                        95,
                        98,
                        92,
                        98,
                        99,
                        100,
                        96,
                        98,
                        98,
                        91,
                        98,
                        98,
                        99,
                        98,
                        98,
                        100
                      ]
                    },
                    {
                      "label": "min_child_weight",
                      "range": [
                        1,
                        5
                      ],
                      "values": [
                        1,
                        5,
                        4,
                        3,
                        2,
                        5,
                        3,
                        3,
                        3,
                        3,
                        2,
                        3,
                        4,
                        3,
                        1,
                        2,
                        2,
                        1,
                        1,
                        1,
                        1,
                        1,
                        1,
                        1,
                        1,
                        1,
                        1,
                        1,
                        1,
                        1,
                        1,
                        2,
                        2,
                        2,
                        2,
                        2,
                        2,
                        2,
                        2,
                        2,
                        2,
                        2,
                        2,
                        2,
                        2,
                        2,
                        2,
                        2,
                        2,
                        2,
                        2,
                        2,
                        2,
                        2,
                        2,
                        2,
                        2,
                        2,
                        2,
                        2,
                        2,
                        2,
                        2,
                        2,
                        2,
                        2,
                        2,
                        2,
                        2,
                        2,
                        2,
                        2,
                        2,
                        2,
                        2,
                        2,
                        2,
                        2,
                        2,
                        2,
                        2,
                        2,
                        2,
                        2,
                        2,
                        2,
                        2,
                        2,
                        2,
                        4,
                        2,
                        2,
                        2,
                        2,
                        2,
                        2,
                        2,
                        2,
                        2,
                        2,
                        2,
                        2,
                        4,
                        4,
                        4,
                        3,
                        3,
                        3,
                        3,
                        2,
                        2,
                        3,
                        3,
                        3,
                        3,
                        3,
                        3,
                        3,
                        3,
                        3,
                        3,
                        3,
                        3,
                        3,
                        3,
                        3,
                        3,
                        3,
                        3,
                        3,
                        3,
                        3,
                        3,
                        3,
                        3,
                        3,
                        3,
                        3,
                        2
                      ]
                    },
                    {
                      "label": "min_frequency",
                      "range": [
                        0.00001602741507616967,
                        0.8661761457749352
                      ],
                      "values": [
                        0.8661761457749352,
                        0.18340450985343382,
                        0.3663618432936917,
                        0.17052412368729153,
                        0.4401524937396013,
                        0.6355171476922921,
                        0.004470039476462517,
                        0.0016620296848777368,
                        0.002413954811016553,
                        0.27766314144070936,
                        0.09017405294742764,
                        0.00023805406165361724,
                        0.13004462911887857,
                        0.060123155382264426,
                        0.0705092795836895,
                        0.06423854280300141,
                        0.07101493325910024,
                        0.06752948730727173,
                        0.06858409352833049,
                        0.07100154366110809,
                        0.06991681859859201,
                        0.07056288241775714,
                        0.05685244683646501,
                        0.04513446525181941,
                        0.07944374337324499,
                        0.02316572201584125,
                        0.027704192944829648,
                        0.02038268920805117,
                        0.022089068754341475,
                        0.058291113382815465,
                        0.05007573224881615,
                        0.002889362240972769,
                        0.012980233420612886,
                        0.00009822146265005272,
                        0.05168849319658232,
                        0.019878897522739695,
                        0.08011845179767504,
                        0.06155924333467802,
                        0.05734290754016617,
                        0.07029707907476936,
                        0.0684622526540428,
                        0.038132777909045845,
                        0.07501337878191057,
                        0.03531955533247027,
                        0.07362644560956516,
                        0.049431749705177365,
                        0.047628324237242683,
                        0.00005119651278552226,
                        0.04837582205012012,
                        0.025970914887118002,
                        0.05622844439862246,
                        0.05995440585392976,
                        0.04218053968640337,
                        0.06234883213330446,
                        0.04335622508583201,
                        0.03342548147398613,
                        0.041122486969707744,
                        0.020764865305007166,
                        0.0376468264096019,
                        0.044480231839111616,
                        0.018312606144216995,
                        0.05306424145271313,
                        0.08023293272369371,
                        0.06313339034844306,
                        0.017703373768455693,
                        0.018177242592484953,
                        0.05351480461364042,
                        0.034956999351715076,
                        0.016903341976889287,
                        0.0032721723460056723,
                        0.0005771970081139706,
                        0.003259287562989233,
                        0.025423963783015903,
                        0.018176514600543606,
                        0.029222797024694363,
                        0.03512445752365105,
                        0.01817916747908468,
                        0.01521115659554361,
                        0.000737012283384999,
                        0.050557887130612475,
                        0.01800470910541938,
                        0.029410471214696567,
                        0.03857903865275322,
                        0.0004410489071475718,
                        0.015605927977898844,
                        0.0702854782158328,
                        0.01968281757871121,
                        0.03990618626236793,
                        0.04185688504458521,
                        0.002032424861281308,
                        0.03427537642685193,
                        0.025110839042229362,
                        0.061290596792788914,
                        0.001125406459824188,
                        0.014928511379483115,
                        0.08099399513338451,
                        0.07087360137968814,
                        0.016157595941784383,
                        0.01627555874563921,
                        0.05304506254842721,
                        0.026562743056891717,
                        0.06391435526652023,
                        0.045752783811197045,
                        0.07299770963306951,
                        0.06993315830130405,
                        0.016536570321735403,
                        0.01697908479113692,
                        0.043216401556285915,
                        0.06487977391297739,
                        0.00001602741507616967,
                        0.01899416665305633,
                        0.056677938066836124,
                        0.03933830857043272,
                        0.00004869889718323722,
                        0.05789173606255919,
                        0.0678202113992166,
                        0.022667345588673286,
                        0.017243954667345955,
                        0.03426414270735467,
                        0.047819113811593365,
                        0.04150211423929209,
                        0.07855628510846821,
                        0.032430580560201545,
                        0.023237333677288856,
                        0.020335550260506943,
                        0.04705812259434244,
                        0.018894340124603955,
                        0.024371423862748553,
                        0.053952579538385746,
                        0.07281052927900676,
                        0.08053146456574761,
                        0.0796652310422542,
                        0.06786603372313821,
                        0.0004253607743569844,
                        0.01814607839452461,
                        0.05651592413040113,
                        0.04086503947002744,
                        0.045947366587829816,
                        0.03858312118033846
                      ]
                    },
                    {
                      "label": "n_estimators",
                      "range": [
                        54,
                        954
                      ],
                      "values": [
                        954,
                        723,
                        549,
                        796,
                        952,
                        731,
                        753,
                        829,
                        620,
                        459,
                        366,
                        880,
                        902,
                        596,
                        260,
                        706,
                        603,
                        616,
                        622,
                        564,
                        646,
                        655,
                        613,
                        566,
                        626,
                        574,
                        578,
                        564,
                        544,
                        601,
                        576,
                        555,
                        457,
                        549,
                        555,
                        541,
                        586,
                        589,
                        591,
                        523,
                        525,
                        541,
                        525,
                        467,
                        551,
                        580,
                        497,
                        509,
                        452,
                        534,
                        559,
                        605,
                        603,
                        609,
                        585,
                        515,
                        555,
                        520,
                        588,
                        539,
                        505,
                        520,
                        501,
                        490,
                        461,
                        499,
                        511,
                        479,
                        613,
                        608,
                        627,
                        627,
                        613,
                        645,
                        615,
                        606,
                        604,
                        597,
                        585,
                        610,
                        584,
                        432,
                        612,
                        628,
                        630,
                        630,
                        635,
                        572,
                        610,
                        607,
                        620,
                        620,
                        601,
                        575,
                        649,
                        599,
                        644,
                        629,
                        611,
                        630,
                        587,
                        497,
                        585,
                        576,
                        114,
                        604,
                        604,
                        641,
                        640,
                        606,
                        629,
                        576,
                        570,
                        561,
                        639,
                        593,
                        618,
                        670,
                        617,
                        620,
                        654,
                        696,
                        708,
                        660,
                        646,
                        674,
                        54,
                        617,
                        662,
                        612,
                        608,
                        628,
                        572,
                        621,
                        153,
                        605,
                        630,
                        605,
                        550
                      ]
                    },
                    {
                      "label": "reg_alpha",
                      "range": [
                        0.045190451129953756,
                        0.9802631442351595
                      ],
                      "values": [
                        0.15599452033620265,
                        0.21233911067827616,
                        0.13949386065204183,
                        0.046450412719997725,
                        0.09767211400638387,
                        0.3587862975096967,
                        0.6608557252922869,
                        0.7267506372103787,
                        0.6590286048089737,
                        0.5657749423772274,
                        0.47464042981880256,
                        0.820085211434126,
                        0.8583839714049042,
                        0.45327353642855467,
                        0.6480407285942006,
                        0.7365782280954126,
                        0.7357400325562689,
                        0.7021874705915915,
                        0.7923482379163337,
                        0.747324826155683,
                        0.7093674788104082,
                        0.6907335436633696,
                        0.780958481083915,
                        0.7760974879166026,
                        0.7890220533184283,
                        0.7781580819318124,
                        0.9004489245868197,
                        0.910238053791469,
                        0.9081116287108049,
                        0.8757515661925419,
                        0.8306537592073152,
                        0.9507177707353122,
                        0.8940347394431903,
                        0.9456969931209352,
                        0.8928615965920528,
                        0.9456388038269236,
                        0.9163713764761358,
                        0.8784399575701485,
                        0.8816449563537703,
                        0.8523425574803234,
                        0.8587341428700038,
                        0.9145409539236641,
                        0.8973339740755022,
                        0.8759143983679206,
                        0.9517657009095876,
                        0.8271645366670562,
                        0.8295429879120884,
                        0.8284884803250777,
                        0.9267184829902337,
                        0.8724816507430675,
                        0.8977633300989661,
                        0.9136297789310791,
                        0.9083884607239942,
                        0.8669287025192199,
                        0.8492220545534812,
                        0.830071228432177,
                        0.9014430013965865,
                        0.8023583023258075,
                        0.9369056581383242,
                        0.9413419705680318,
                        0.9802631442351595,
                        0.9643273877473292,
                        0.9657891057750934,
                        0.9664067765078749,
                        0.9521184013761149,
                        0.8434705086808292,
                        0.8564056441368628,
                        0.8207653620338237,
                        0.8240425508214173,
                        0.7825651124908124,
                        0.8243268344506802,
                        0.7902148835747462,
                        0.8245005116170043,
                        0.7733213254850055,
                        0.8307089322055533,
                        0.7880139723217611,
                        0.8205086059847029,
                        0.8114510910645769,
                        0.7833828972441601,
                        0.1674788543002882,
                        0.790774150585657,
                        0.13631226795511844,
                        0.8751734659006106,
                        0.0898873384201826,
                        0.08110719308221864,
                        0.11670263415624486,
                        0.08890012286304746,
                        0.7942787365150298,
                        0.7841936992206759,
                        0.8394275722176804,
                        0.19804439645842653,
                        0.7582817301556002,
                        0.19128623375515055,
                        0.7751922694470201,
                        0.1971320529121955,
                        0.14410754012020152,
                        0.15532379865375157,
                        0.13400721574821867,
                        0.07611438740815164,
                        0.18339358937557804,
                        0.8235084807275102,
                        0.09887801004404864,
                        0.051418647952391795,
                        0.058679588990104455,
                        0.3173651694190039,
                        0.09061516298218522,
                        0.08752483459416036,
                        0.09705011540699329,
                        0.12055511943537525,
                        0.11945620190094651,
                        0.15736649188202856,
                        0.07968177638272102,
                        0.08597127786808259,
                        0.0914478597286804,
                        0.724292219422075,
                        0.8013115890694613,
                        0.796970354976201,
                        0.5632355672523639,
                        0.5605161064589568,
                        0.4877478127088962,
                        0.519298542559013,
                        0.5375125845837795,
                        0.5416628868199792,
                        0.5278808327440325,
                        0.6132604212110714,
                        0.5681222995843298,
                        0.6993337779274986,
                        0.6838407660375747,
                        0.5245142540901817,
                        0.5674318591990198,
                        0.6226838201047846,
                        0.558115701513979,
                        0.3440487451620252,
                        0.045190451129953756,
                        0.7207269444318383,
                        0.08320317644916074,
                        0.09595992751766391,
                        0.07152054680317964,
                        0.8234041221326701
                      ]
                    },
                    {
                      "label": "reg_lambda",
                      "range": [
                        0.05808361216819946,
                        0.9999157185477091
                      ],
                      "values": [
                        0.05808361216819946,
                        0.18182496720710062,
                        0.29214464853521815,
                        0.6075448519014384,
                        0.6842330265121569,
                        0.06782026776262096,
                        0.4984881742637889,
                        0.4621147584011281,
                        0.48011047785603345,
                        0.38948024079646054,
                        0.21073458202345663,
                        0.5472710832491376,
                        0.556321403725549,
                        0.2746144243759573,
                        0.23116578108871372,
                        0.37046343397601267,
                        0.3337123007016014,
                        0.2541949052888354,
                        0.27081818901184546,
                        0.19467480724302869,
                        0.31302704209207144,
                        0.309788154900013,
                        0.35669383962154233,
                        0.3479126161127998,
                        0.25694760322886867,
                        0.1880615842114383,
                        0.19634577935035485,
                        0.18324692023621633,
                        0.1561630000311609,
                        0.12376864850746556,
                        0.16552826521383351,
                        0.22250040865166776,
                        0.2214214991301685,
                        0.09768566240345196,
                        0.12340579561710793,
                        0.1744341551371806,
                        0.08350797566957369,
                        0.13241402483999085,
                        0.13350970768297055,
                        0.1526120383075719,
                        0.15429524593478183,
                        0.11259251738727587,
                        0.13984245406405021,
                        0.19054462555459223,
                        0.1164140990951377,
                        0.1818535227727539,
                        0.1753526908909564,
                        0.17975611662652755,
                        0.09952833009609144,
                        0.1514279755004822,
                        0.14919814137091522,
                        0.9763949662060079,
                        0.8783378992414571,
                        0.9287039773130258,
                        0.9561180364371349,
                        0.8704356459592576,
                        0.9128670968462358,
                        0.9222453282489774,
                        0.16352880832233857,
                        0.16425673382759948,
                        0.9967798166233494,
                        0.14151181578531236,
                        0.10165860062744873,
                        0.07306479002005582,
                        0.1039659138081853,
                        0.13090625337952255,
                        0.11990379638196727,
                        0.17630904942552514,
                        0.9596418019458741,
                        0.943028845887453,
                        0.9530228724504518,
                        0.9502679204695048,
                        0.9341381362213913,
                        0.9148059305054189,
                        0.9823768329883038,
                        0.963117420251494,
                        0.9732377798299047,
                        0.935300761728403,
                        0.9333494517693918,
                        0.8803504613700204,
                        0.8978006919475445,
                        0.9213309579780592,
                        0.9406441783105395,
                        0.9745049703200349,
                        0.9989151624285635,
                        0.9853551145959503,
                        0.984247212613196,
                        0.8172487126587278,
                        0.9713887289658298,
                        0.8906612672267936,
                        0.955543102274356,
                        0.9505269324001097,
                        0.9046176901499364,
                        0.9367315903909925,
                        0.9376926323834271,
                        0.9157954413073093,
                        0.934563376682338,
                        0.8954092121241197,
                        0.9595247916247732,
                        0.9710438606113072,
                        0.9516878554617134,
                        0.9820221362224901,
                        0.9987008375401295,
                        0.9799348299748459,
                        0.9415815331927434,
                        0.9240753008157976,
                        0.9221216121403474,
                        0.9396335301409191,
                        0.8781728870996893,
                        0.9495001792654566,
                        0.9713721813801653,
                        0.9591937521942039,
                        0.9792646327619449,
                        0.9795597600948749,
                        0.9999157185477091,
                        0.9323060751732792,
                        0.9182843354462868,
                        0.932703891218029,
                        0.954543155649511,
                        0.9800791397131944,
                        0.9748629087385184,
                        0.9777114802773809,
                        0.9817589114381071,
                        0.9525144245069355,
                        0.9668403275534713,
                        0.9829275189292903,
                        0.967435328263524,
                        0.94898826514958,
                        0.9199456995432804,
                        0.9587224232127546,
                        0.9605147781721086,
                        0.9333225647370291,
                        0.9531141963158651,
                        0.9470433990495574,
                        0.8933154413411077,
                        0.9609226480858981,
                        0.925668548899645,
                        0.8970767471863831,
                        0.9599035691452286
                      ]
                    }
                  ],
                  "labelangle": 30,
                  "labelside": "bottom",
                  "line": {
                    "color": [
                      8335.763840417121,
                      5767.366163238444,
                      8281.224091639788,
                      5616.851959964864,
                      8376.923948886248,
                      8244.049488875566,
                      2191.246288309788,
                      2222.334941465158,
                      2106.8357899029197,
                      6421.68271242198,
                      5687.852775512368,
                      2140.7413978065306,
                      5695.60901075266,
                      2140.6149138177047,
                      2251.1955806946944,
                      2036.5852978581079,
                      2032.4352552807682,
                      2065.7032563974008,
                      2107.4914429692735,
                      2048.969512366737,
                      2068.3424674435532,
                      2049.157628445459,
                      2053.2363790149025,
                      2060.597171895945,
                      2080.3540961953336,
                      2059.2978515625,
                      2037.3715257414544,
                      2039.7593648874729,
                      2036.634180472939,
                      2085.7038479311536,
                      2081.329224778244,
                      2028.2213808934107,
                      2093.9495139441606,
                      2029.5499164489256,
                      2211.112778569035,
                      2032.3707213210037,
                      2012.4345480583947,
                      2002.6892559470823,
                      2054.299914485328,
                      2024.1798854960832,
                      2032.7986731644291,
                      2095.5718617784432,
                      2100.176245804447,
                      2053.164419056583,
                      2049.1719131265186,
                      2012.5980594420241,
                      2030.5861258417287,
                      2042.7433492951993,
                      2051.863477937018,
                      2020.0228831109669,
                      2085.311483347384,
                      2039.318390628927,
                      2009.9953582190956,
                      2009.8282909239904,
                      2015.2851318686642,
                      2040.1770400796436,
                      2023.8451989713367,
                      2008.1424107283115,
                      2003.5494194951198,
                      2088.0775869742797,
                      2021.3721454201052,
                      1972.5081234029408,
                      2016.3210362493194,
                      2022.1207597747884,
                      2051.684646238271,
                      2008.4540058371208,
                      2127.238680351196,
                      2009.4291026752053,
                      2006.4141081536422,
                      2006.0876214485065,
                      1987.0666718265645,
                      2040.7426212914188,
                      2022.768559760127,
                      2083.677559123921,
                      2029.701199038099,
                      2077.4166927388783,
                      1990.299163900176,
                      2009.9266017064972,
                      1968.2953910111742,
                      2002.7395035894563,
                      2030.6435375060216,
                      2031.824636014473,
                      1988.0353560460476,
                      1955.8136747222163,
                      1978.604210574889,
                      2011.4242619164188,
                      2037.0369077789878,
                      2001.6344257589958,
                      1981.6456761909874,
                      2030.897454392175,
                      2005.7729863634697,
                      2060.0867882286257,
                      1999.6852204269123,
                      1988.5534317793858,
                      2031.3393377963723,
                      1995.2425759650428,
                      2052.431175743287,
                      2054.3047333172753,
                      1987.2425455292812,
                      1987.5902590508756,
                      1994.9692467901725,
                      2001.5208054611574,
                      1988.6405379471767,
                      2014.0694465534937,
                      2270.84644994659,
                      1992.047952196873,
                      1996.4511393120079,
                      1985.5212358162805,
                      1970.7925824121878,
                      2024.9018998133274,
                      2050.4033443665694,
                      1984.8367895376905,
                      1981.0506653977463,
                      2020.1465064654722,
                      1940.5210199841865,
                      1965.4985021023583,
                      1978.281276999466,
                      1946.746392216823,
                      2025.2512774838199,
                      1984.4040996970823,
                      1990.4817774877472,
                      1988.3942980727945,
                      1993.0927037297881,
                      1948.7701605830052,
                      1989.8448072336314,
                      2048.477333866559,
                      2740.033346467619,
                      2081.546168432159,
                      2014.857051082335,
                      1959.6960758485359,
                      1973.7730806161508,
                      1992.3666936552238,
                      1993.409928963587,
                      1998.5920907600955,
                      2178.177745992952,
                      2033.679741826198,
                      2038.4571904650322,
                      2080.291178276328,
                      1992.9007751628476
                    ],
                    "colorbar": {
                      "title": {
                        "text": "Objective Value"
                      }
                    },
                    "colorscale": [
                      [
                        0,
                        "rgb(247,251,255)"
                      ],
                      [
                        0.125,
                        "rgb(222,235,247)"
                      ],
                      [
                        0.25,
                        "rgb(198,219,239)"
                      ],
                      [
                        0.375,
                        "rgb(158,202,225)"
                      ],
                      [
                        0.5,
                        "rgb(107,174,214)"
                      ],
                      [
                        0.625,
                        "rgb(66,146,198)"
                      ],
                      [
                        0.75,
                        "rgb(33,113,181)"
                      ],
                      [
                        0.875,
                        "rgb(8,81,156)"
                      ],
                      [
                        1,
                        "rgb(8,48,107)"
                      ]
                    ],
                    "reversescale": true,
                    "showscale": true
                  },
                  "type": "parcoords"
                }
              ],
              "layout": {
                "template": {
                  "data": {
                    "bar": [
                      {
                        "error_x": {
                          "color": "#2a3f5f"
                        },
                        "error_y": {
                          "color": "#2a3f5f"
                        },
                        "marker": {
                          "line": {
                            "color": "#E5ECF6",
                            "width": 0.5
                          },
                          "pattern": {
                            "fillmode": "overlay",
                            "size": 10,
                            "solidity": 0.2
                          }
                        },
                        "type": "bar"
                      }
                    ],
                    "barpolar": [
                      {
                        "marker": {
                          "line": {
                            "color": "#E5ECF6",
                            "width": 0.5
                          },
                          "pattern": {
                            "fillmode": "overlay",
                            "size": 10,
                            "solidity": 0.2
                          }
                        },
                        "type": "barpolar"
                      }
                    ],
                    "carpet": [
                      {
                        "aaxis": {
                          "endlinecolor": "#2a3f5f",
                          "gridcolor": "white",
                          "linecolor": "white",
                          "minorgridcolor": "white",
                          "startlinecolor": "#2a3f5f"
                        },
                        "baxis": {
                          "endlinecolor": "#2a3f5f",
                          "gridcolor": "white",
                          "linecolor": "white",
                          "minorgridcolor": "white",
                          "startlinecolor": "#2a3f5f"
                        },
                        "type": "carpet"
                      }
                    ],
                    "choropleth": [
                      {
                        "colorbar": {
                          "outlinewidth": 0,
                          "ticks": ""
                        },
                        "type": "choropleth"
                      }
                    ],
                    "contour": [
                      {
                        "colorbar": {
                          "outlinewidth": 0,
                          "ticks": ""
                        },
                        "colorscale": [
                          [
                            0,
                            "#0d0887"
                          ],
                          [
                            0.1111111111111111,
                            "#46039f"
                          ],
                          [
                            0.2222222222222222,
                            "#7201a8"
                          ],
                          [
                            0.3333333333333333,
                            "#9c179e"
                          ],
                          [
                            0.4444444444444444,
                            "#bd3786"
                          ],
                          [
                            0.5555555555555556,
                            "#d8576b"
                          ],
                          [
                            0.6666666666666666,
                            "#ed7953"
                          ],
                          [
                            0.7777777777777778,
                            "#fb9f3a"
                          ],
                          [
                            0.8888888888888888,
                            "#fdca26"
                          ],
                          [
                            1,
                            "#f0f921"
                          ]
                        ],
                        "type": "contour"
                      }
                    ],
                    "contourcarpet": [
                      {
                        "colorbar": {
                          "outlinewidth": 0,
                          "ticks": ""
                        },
                        "type": "contourcarpet"
                      }
                    ],
                    "heatmap": [
                      {
                        "colorbar": {
                          "outlinewidth": 0,
                          "ticks": ""
                        },
                        "colorscale": [
                          [
                            0,
                            "#0d0887"
                          ],
                          [
                            0.1111111111111111,
                            "#46039f"
                          ],
                          [
                            0.2222222222222222,
                            "#7201a8"
                          ],
                          [
                            0.3333333333333333,
                            "#9c179e"
                          ],
                          [
                            0.4444444444444444,
                            "#bd3786"
                          ],
                          [
                            0.5555555555555556,
                            "#d8576b"
                          ],
                          [
                            0.6666666666666666,
                            "#ed7953"
                          ],
                          [
                            0.7777777777777778,
                            "#fb9f3a"
                          ],
                          [
                            0.8888888888888888,
                            "#fdca26"
                          ],
                          [
                            1,
                            "#f0f921"
                          ]
                        ],
                        "type": "heatmap"
                      }
                    ],
                    "heatmapgl": [
                      {
                        "colorbar": {
                          "outlinewidth": 0,
                          "ticks": ""
                        },
                        "colorscale": [
                          [
                            0,
                            "#0d0887"
                          ],
                          [
                            0.1111111111111111,
                            "#46039f"
                          ],
                          [
                            0.2222222222222222,
                            "#7201a8"
                          ],
                          [
                            0.3333333333333333,
                            "#9c179e"
                          ],
                          [
                            0.4444444444444444,
                            "#bd3786"
                          ],
                          [
                            0.5555555555555556,
                            "#d8576b"
                          ],
                          [
                            0.6666666666666666,
                            "#ed7953"
                          ],
                          [
                            0.7777777777777778,
                            "#fb9f3a"
                          ],
                          [
                            0.8888888888888888,
                            "#fdca26"
                          ],
                          [
                            1,
                            "#f0f921"
                          ]
                        ],
                        "type": "heatmapgl"
                      }
                    ],
                    "histogram": [
                      {
                        "marker": {
                          "pattern": {
                            "fillmode": "overlay",
                            "size": 10,
                            "solidity": 0.2
                          }
                        },
                        "type": "histogram"
                      }
                    ],
                    "histogram2d": [
                      {
                        "colorbar": {
                          "outlinewidth": 0,
                          "ticks": ""
                        },
                        "colorscale": [
                          [
                            0,
                            "#0d0887"
                          ],
                          [
                            0.1111111111111111,
                            "#46039f"
                          ],
                          [
                            0.2222222222222222,
                            "#7201a8"
                          ],
                          [
                            0.3333333333333333,
                            "#9c179e"
                          ],
                          [
                            0.4444444444444444,
                            "#bd3786"
                          ],
                          [
                            0.5555555555555556,
                            "#d8576b"
                          ],
                          [
                            0.6666666666666666,
                            "#ed7953"
                          ],
                          [
                            0.7777777777777778,
                            "#fb9f3a"
                          ],
                          [
                            0.8888888888888888,
                            "#fdca26"
                          ],
                          [
                            1,
                            "#f0f921"
                          ]
                        ],
                        "type": "histogram2d"
                      }
                    ],
                    "histogram2dcontour": [
                      {
                        "colorbar": {
                          "outlinewidth": 0,
                          "ticks": ""
                        },
                        "colorscale": [
                          [
                            0,
                            "#0d0887"
                          ],
                          [
                            0.1111111111111111,
                            "#46039f"
                          ],
                          [
                            0.2222222222222222,
                            "#7201a8"
                          ],
                          [
                            0.3333333333333333,
                            "#9c179e"
                          ],
                          [
                            0.4444444444444444,
                            "#bd3786"
                          ],
                          [
                            0.5555555555555556,
                            "#d8576b"
                          ],
                          [
                            0.6666666666666666,
                            "#ed7953"
                          ],
                          [
                            0.7777777777777778,
                            "#fb9f3a"
                          ],
                          [
                            0.8888888888888888,
                            "#fdca26"
                          ],
                          [
                            1,
                            "#f0f921"
                          ]
                        ],
                        "type": "histogram2dcontour"
                      }
                    ],
                    "mesh3d": [
                      {
                        "colorbar": {
                          "outlinewidth": 0,
                          "ticks": ""
                        },
                        "type": "mesh3d"
                      }
                    ],
                    "parcoords": [
                      {
                        "line": {
                          "colorbar": {
                            "outlinewidth": 0,
                            "ticks": ""
                          }
                        },
                        "type": "parcoords"
                      }
                    ],
                    "pie": [
                      {
                        "automargin": true,
                        "type": "pie"
                      }
                    ],
                    "scatter": [
                      {
                        "fillpattern": {
                          "fillmode": "overlay",
                          "size": 10,
                          "solidity": 0.2
                        },
                        "type": "scatter"
                      }
                    ],
                    "scatter3d": [
                      {
                        "line": {
                          "colorbar": {
                            "outlinewidth": 0,
                            "ticks": ""
                          }
                        },
                        "marker": {
                          "colorbar": {
                            "outlinewidth": 0,
                            "ticks": ""
                          }
                        },
                        "type": "scatter3d"
                      }
                    ],
                    "scattercarpet": [
                      {
                        "marker": {
                          "colorbar": {
                            "outlinewidth": 0,
                            "ticks": ""
                          }
                        },
                        "type": "scattercarpet"
                      }
                    ],
                    "scattergeo": [
                      {
                        "marker": {
                          "colorbar": {
                            "outlinewidth": 0,
                            "ticks": ""
                          }
                        },
                        "type": "scattergeo"
                      }
                    ],
                    "scattergl": [
                      {
                        "marker": {
                          "colorbar": {
                            "outlinewidth": 0,
                            "ticks": ""
                          }
                        },
                        "type": "scattergl"
                      }
                    ],
                    "scattermapbox": [
                      {
                        "marker": {
                          "colorbar": {
                            "outlinewidth": 0,
                            "ticks": ""
                          }
                        },
                        "type": "scattermapbox"
                      }
                    ],
                    "scatterpolar": [
                      {
                        "marker": {
                          "colorbar": {
                            "outlinewidth": 0,
                            "ticks": ""
                          }
                        },
                        "type": "scatterpolar"
                      }
                    ],
                    "scatterpolargl": [
                      {
                        "marker": {
                          "colorbar": {
                            "outlinewidth": 0,
                            "ticks": ""
                          }
                        },
                        "type": "scatterpolargl"
                      }
                    ],
                    "scatterternary": [
                      {
                        "marker": {
                          "colorbar": {
                            "outlinewidth": 0,
                            "ticks": ""
                          }
                        },
                        "type": "scatterternary"
                      }
                    ],
                    "surface": [
                      {
                        "colorbar": {
                          "outlinewidth": 0,
                          "ticks": ""
                        },
                        "colorscale": [
                          [
                            0,
                            "#0d0887"
                          ],
                          [
                            0.1111111111111111,
                            "#46039f"
                          ],
                          [
                            0.2222222222222222,
                            "#7201a8"
                          ],
                          [
                            0.3333333333333333,
                            "#9c179e"
                          ],
                          [
                            0.4444444444444444,
                            "#bd3786"
                          ],
                          [
                            0.5555555555555556,
                            "#d8576b"
                          ],
                          [
                            0.6666666666666666,
                            "#ed7953"
                          ],
                          [
                            0.7777777777777778,
                            "#fb9f3a"
                          ],
                          [
                            0.8888888888888888,
                            "#fdca26"
                          ],
                          [
                            1,
                            "#f0f921"
                          ]
                        ],
                        "type": "surface"
                      }
                    ],
                    "table": [
                      {
                        "cells": {
                          "fill": {
                            "color": "#EBF0F8"
                          },
                          "line": {
                            "color": "white"
                          }
                        },
                        "header": {
                          "fill": {
                            "color": "#C8D4E3"
                          },
                          "line": {
                            "color": "white"
                          }
                        },
                        "type": "table"
                      }
                    ]
                  },
                  "layout": {
                    "annotationdefaults": {
                      "arrowcolor": "#2a3f5f",
                      "arrowhead": 0,
                      "arrowwidth": 1
                    },
                    "autotypenumbers": "strict",
                    "coloraxis": {
                      "colorbar": {
                        "outlinewidth": 0,
                        "ticks": ""
                      }
                    },
                    "colorscale": {
                      "diverging": [
                        [
                          0,
                          "#8e0152"
                        ],
                        [
                          0.1,
                          "#c51b7d"
                        ],
                        [
                          0.2,
                          "#de77ae"
                        ],
                        [
                          0.3,
                          "#f1b6da"
                        ],
                        [
                          0.4,
                          "#fde0ef"
                        ],
                        [
                          0.5,
                          "#f7f7f7"
                        ],
                        [
                          0.6,
                          "#e6f5d0"
                        ],
                        [
                          0.7,
                          "#b8e186"
                        ],
                        [
                          0.8,
                          "#7fbc41"
                        ],
                        [
                          0.9,
                          "#4d9221"
                        ],
                        [
                          1,
                          "#276419"
                        ]
                      ],
                      "sequential": [
                        [
                          0,
                          "#0d0887"
                        ],
                        [
                          0.1111111111111111,
                          "#46039f"
                        ],
                        [
                          0.2222222222222222,
                          "#7201a8"
                        ],
                        [
                          0.3333333333333333,
                          "#9c179e"
                        ],
                        [
                          0.4444444444444444,
                          "#bd3786"
                        ],
                        [
                          0.5555555555555556,
                          "#d8576b"
                        ],
                        [
                          0.6666666666666666,
                          "#ed7953"
                        ],
                        [
                          0.7777777777777778,
                          "#fb9f3a"
                        ],
                        [
                          0.8888888888888888,
                          "#fdca26"
                        ],
                        [
                          1,
                          "#f0f921"
                        ]
                      ],
                      "sequentialminus": [
                        [
                          0,
                          "#0d0887"
                        ],
                        [
                          0.1111111111111111,
                          "#46039f"
                        ],
                        [
                          0.2222222222222222,
                          "#7201a8"
                        ],
                        [
                          0.3333333333333333,
                          "#9c179e"
                        ],
                        [
                          0.4444444444444444,
                          "#bd3786"
                        ],
                        [
                          0.5555555555555556,
                          "#d8576b"
                        ],
                        [
                          0.6666666666666666,
                          "#ed7953"
                        ],
                        [
                          0.7777777777777778,
                          "#fb9f3a"
                        ],
                        [
                          0.8888888888888888,
                          "#fdca26"
                        ],
                        [
                          1,
                          "#f0f921"
                        ]
                      ]
                    },
                    "colorway": [
                      "#636efa",
                      "#EF553B",
                      "#00cc96",
                      "#ab63fa",
                      "#FFA15A",
                      "#19d3f3",
                      "#FF6692",
                      "#B6E880",
                      "#FF97FF",
                      "#FECB52"
                    ],
                    "font": {
                      "color": "#2a3f5f"
                    },
                    "geo": {
                      "bgcolor": "white",
                      "lakecolor": "white",
                      "landcolor": "#E5ECF6",
                      "showlakes": true,
                      "showland": true,
                      "subunitcolor": "white"
                    },
                    "hoverlabel": {
                      "align": "left"
                    },
                    "hovermode": "closest",
                    "mapbox": {
                      "style": "light"
                    },
                    "paper_bgcolor": "white",
                    "plot_bgcolor": "#E5ECF6",
                    "polar": {
                      "angularaxis": {
                        "gridcolor": "white",
                        "linecolor": "white",
                        "ticks": ""
                      },
                      "bgcolor": "#E5ECF6",
                      "radialaxis": {
                        "gridcolor": "white",
                        "linecolor": "white",
                        "ticks": ""
                      }
                    },
                    "scene": {
                      "xaxis": {
                        "backgroundcolor": "#E5ECF6",
                        "gridcolor": "white",
                        "gridwidth": 2,
                        "linecolor": "white",
                        "showbackground": true,
                        "ticks": "",
                        "zerolinecolor": "white"
                      },
                      "yaxis": {
                        "backgroundcolor": "#E5ECF6",
                        "gridcolor": "white",
                        "gridwidth": 2,
                        "linecolor": "white",
                        "showbackground": true,
                        "ticks": "",
                        "zerolinecolor": "white"
                      },
                      "zaxis": {
                        "backgroundcolor": "#E5ECF6",
                        "gridcolor": "white",
                        "gridwidth": 2,
                        "linecolor": "white",
                        "showbackground": true,
                        "ticks": "",
                        "zerolinecolor": "white"
                      }
                    },
                    "shapedefaults": {
                      "line": {
                        "color": "#2a3f5f"
                      }
                    },
                    "ternary": {
                      "aaxis": {
                        "gridcolor": "white",
                        "linecolor": "white",
                        "ticks": ""
                      },
                      "baxis": {
                        "gridcolor": "white",
                        "linecolor": "white",
                        "ticks": ""
                      },
                      "bgcolor": "#E5ECF6",
                      "caxis": {
                        "gridcolor": "white",
                        "linecolor": "white",
                        "ticks": ""
                      }
                    },
                    "title": {
                      "x": 0.05
                    },
                    "xaxis": {
                      "automargin": true,
                      "gridcolor": "white",
                      "linecolor": "white",
                      "ticks": "",
                      "title": {
                        "standoff": 15
                      },
                      "zerolinecolor": "white",
                      "zerolinewidth": 2
                    },
                    "yaxis": {
                      "automargin": true,
                      "gridcolor": "white",
                      "linecolor": "white",
                      "ticks": "",
                      "title": {
                        "standoff": 15
                      },
                      "zerolinecolor": "white",
                      "zerolinewidth": 2
                    }
                  }
                },
                "title": {
                  "text": "Parallel Coordinate Plot"
                }
              }
            }
          },
          "metadata": {},
          "output_type": "display_data"
        }
      ],
      "source": [
        "from optuna.visualization import plot_parallel_coordinate\n",
        "\n",
        "# grafico coordenadas paralelas\n",
        "plot_parallel_coordinate(study)"
      ]
    },
    {
      "cell_type": "markdown",
      "metadata": {},
      "source": [
        "3. Gráfico de importancia de hiperparámetros"
      ]
    },
    {
      "cell_type": "code",
      "execution_count": 208,
      "metadata": {},
      "outputs": [
        {
          "data": {
            "application/vnd.plotly.v1+json": {
              "config": {
                "plotlyServerURL": "https://plot.ly"
              },
              "data": [
                {
                  "cliponaxis": false,
                  "hovertemplate": [
                    "reg_alpha (FloatDistribution): 5.8852746984337814e-05<extra></extra>",
                    "max_depth (IntDistribution): 0.0017255103237180825<extra></extra>",
                    "max_leaves (IntDistribution): 0.0039385798591268<extra></extra>",
                    "min_child_weight (IntDistribution): 0.004881879464608058<extra></extra>",
                    "n_estimators (IntDistribution): 0.006634504905186252<extra></extra>",
                    "reg_lambda (FloatDistribution): 0.0164794359344729<extra></extra>",
                    "learning_rate (FloatDistribution): 0.1147313512529047<extra></extra>",
                    "min_frequency (FloatDistribution): 0.8515498855129988<extra></extra>"
                  ],
                  "name": "Objective Value",
                  "orientation": "h",
                  "text": [
                    "<0.01",
                    "<0.01",
                    "<0.01",
                    "<0.01",
                    "<0.01",
                    "0.02",
                    "0.11",
                    "0.85"
                  ],
                  "textposition": "outside",
                  "type": "bar",
                  "x": [
                    0.000058852746984337814,
                    0.0017255103237180825,
                    0.0039385798591268,
                    0.004881879464608058,
                    0.006634504905186252,
                    0.0164794359344729,
                    0.1147313512529047,
                    0.8515498855129988
                  ],
                  "y": [
                    "reg_alpha",
                    "max_depth",
                    "max_leaves",
                    "min_child_weight",
                    "n_estimators",
                    "reg_lambda",
                    "learning_rate",
                    "min_frequency"
                  ]
                }
              ],
              "layout": {
                "template": {
                  "data": {
                    "bar": [
                      {
                        "error_x": {
                          "color": "#2a3f5f"
                        },
                        "error_y": {
                          "color": "#2a3f5f"
                        },
                        "marker": {
                          "line": {
                            "color": "#E5ECF6",
                            "width": 0.5
                          },
                          "pattern": {
                            "fillmode": "overlay",
                            "size": 10,
                            "solidity": 0.2
                          }
                        },
                        "type": "bar"
                      }
                    ],
                    "barpolar": [
                      {
                        "marker": {
                          "line": {
                            "color": "#E5ECF6",
                            "width": 0.5
                          },
                          "pattern": {
                            "fillmode": "overlay",
                            "size": 10,
                            "solidity": 0.2
                          }
                        },
                        "type": "barpolar"
                      }
                    ],
                    "carpet": [
                      {
                        "aaxis": {
                          "endlinecolor": "#2a3f5f",
                          "gridcolor": "white",
                          "linecolor": "white",
                          "minorgridcolor": "white",
                          "startlinecolor": "#2a3f5f"
                        },
                        "baxis": {
                          "endlinecolor": "#2a3f5f",
                          "gridcolor": "white",
                          "linecolor": "white",
                          "minorgridcolor": "white",
                          "startlinecolor": "#2a3f5f"
                        },
                        "type": "carpet"
                      }
                    ],
                    "choropleth": [
                      {
                        "colorbar": {
                          "outlinewidth": 0,
                          "ticks": ""
                        },
                        "type": "choropleth"
                      }
                    ],
                    "contour": [
                      {
                        "colorbar": {
                          "outlinewidth": 0,
                          "ticks": ""
                        },
                        "colorscale": [
                          [
                            0,
                            "#0d0887"
                          ],
                          [
                            0.1111111111111111,
                            "#46039f"
                          ],
                          [
                            0.2222222222222222,
                            "#7201a8"
                          ],
                          [
                            0.3333333333333333,
                            "#9c179e"
                          ],
                          [
                            0.4444444444444444,
                            "#bd3786"
                          ],
                          [
                            0.5555555555555556,
                            "#d8576b"
                          ],
                          [
                            0.6666666666666666,
                            "#ed7953"
                          ],
                          [
                            0.7777777777777778,
                            "#fb9f3a"
                          ],
                          [
                            0.8888888888888888,
                            "#fdca26"
                          ],
                          [
                            1,
                            "#f0f921"
                          ]
                        ],
                        "type": "contour"
                      }
                    ],
                    "contourcarpet": [
                      {
                        "colorbar": {
                          "outlinewidth": 0,
                          "ticks": ""
                        },
                        "type": "contourcarpet"
                      }
                    ],
                    "heatmap": [
                      {
                        "colorbar": {
                          "outlinewidth": 0,
                          "ticks": ""
                        },
                        "colorscale": [
                          [
                            0,
                            "#0d0887"
                          ],
                          [
                            0.1111111111111111,
                            "#46039f"
                          ],
                          [
                            0.2222222222222222,
                            "#7201a8"
                          ],
                          [
                            0.3333333333333333,
                            "#9c179e"
                          ],
                          [
                            0.4444444444444444,
                            "#bd3786"
                          ],
                          [
                            0.5555555555555556,
                            "#d8576b"
                          ],
                          [
                            0.6666666666666666,
                            "#ed7953"
                          ],
                          [
                            0.7777777777777778,
                            "#fb9f3a"
                          ],
                          [
                            0.8888888888888888,
                            "#fdca26"
                          ],
                          [
                            1,
                            "#f0f921"
                          ]
                        ],
                        "type": "heatmap"
                      }
                    ],
                    "heatmapgl": [
                      {
                        "colorbar": {
                          "outlinewidth": 0,
                          "ticks": ""
                        },
                        "colorscale": [
                          [
                            0,
                            "#0d0887"
                          ],
                          [
                            0.1111111111111111,
                            "#46039f"
                          ],
                          [
                            0.2222222222222222,
                            "#7201a8"
                          ],
                          [
                            0.3333333333333333,
                            "#9c179e"
                          ],
                          [
                            0.4444444444444444,
                            "#bd3786"
                          ],
                          [
                            0.5555555555555556,
                            "#d8576b"
                          ],
                          [
                            0.6666666666666666,
                            "#ed7953"
                          ],
                          [
                            0.7777777777777778,
                            "#fb9f3a"
                          ],
                          [
                            0.8888888888888888,
                            "#fdca26"
                          ],
                          [
                            1,
                            "#f0f921"
                          ]
                        ],
                        "type": "heatmapgl"
                      }
                    ],
                    "histogram": [
                      {
                        "marker": {
                          "pattern": {
                            "fillmode": "overlay",
                            "size": 10,
                            "solidity": 0.2
                          }
                        },
                        "type": "histogram"
                      }
                    ],
                    "histogram2d": [
                      {
                        "colorbar": {
                          "outlinewidth": 0,
                          "ticks": ""
                        },
                        "colorscale": [
                          [
                            0,
                            "#0d0887"
                          ],
                          [
                            0.1111111111111111,
                            "#46039f"
                          ],
                          [
                            0.2222222222222222,
                            "#7201a8"
                          ],
                          [
                            0.3333333333333333,
                            "#9c179e"
                          ],
                          [
                            0.4444444444444444,
                            "#bd3786"
                          ],
                          [
                            0.5555555555555556,
                            "#d8576b"
                          ],
                          [
                            0.6666666666666666,
                            "#ed7953"
                          ],
                          [
                            0.7777777777777778,
                            "#fb9f3a"
                          ],
                          [
                            0.8888888888888888,
                            "#fdca26"
                          ],
                          [
                            1,
                            "#f0f921"
                          ]
                        ],
                        "type": "histogram2d"
                      }
                    ],
                    "histogram2dcontour": [
                      {
                        "colorbar": {
                          "outlinewidth": 0,
                          "ticks": ""
                        },
                        "colorscale": [
                          [
                            0,
                            "#0d0887"
                          ],
                          [
                            0.1111111111111111,
                            "#46039f"
                          ],
                          [
                            0.2222222222222222,
                            "#7201a8"
                          ],
                          [
                            0.3333333333333333,
                            "#9c179e"
                          ],
                          [
                            0.4444444444444444,
                            "#bd3786"
                          ],
                          [
                            0.5555555555555556,
                            "#d8576b"
                          ],
                          [
                            0.6666666666666666,
                            "#ed7953"
                          ],
                          [
                            0.7777777777777778,
                            "#fb9f3a"
                          ],
                          [
                            0.8888888888888888,
                            "#fdca26"
                          ],
                          [
                            1,
                            "#f0f921"
                          ]
                        ],
                        "type": "histogram2dcontour"
                      }
                    ],
                    "mesh3d": [
                      {
                        "colorbar": {
                          "outlinewidth": 0,
                          "ticks": ""
                        },
                        "type": "mesh3d"
                      }
                    ],
                    "parcoords": [
                      {
                        "line": {
                          "colorbar": {
                            "outlinewidth": 0,
                            "ticks": ""
                          }
                        },
                        "type": "parcoords"
                      }
                    ],
                    "pie": [
                      {
                        "automargin": true,
                        "type": "pie"
                      }
                    ],
                    "scatter": [
                      {
                        "fillpattern": {
                          "fillmode": "overlay",
                          "size": 10,
                          "solidity": 0.2
                        },
                        "type": "scatter"
                      }
                    ],
                    "scatter3d": [
                      {
                        "line": {
                          "colorbar": {
                            "outlinewidth": 0,
                            "ticks": ""
                          }
                        },
                        "marker": {
                          "colorbar": {
                            "outlinewidth": 0,
                            "ticks": ""
                          }
                        },
                        "type": "scatter3d"
                      }
                    ],
                    "scattercarpet": [
                      {
                        "marker": {
                          "colorbar": {
                            "outlinewidth": 0,
                            "ticks": ""
                          }
                        },
                        "type": "scattercarpet"
                      }
                    ],
                    "scattergeo": [
                      {
                        "marker": {
                          "colorbar": {
                            "outlinewidth": 0,
                            "ticks": ""
                          }
                        },
                        "type": "scattergeo"
                      }
                    ],
                    "scattergl": [
                      {
                        "marker": {
                          "colorbar": {
                            "outlinewidth": 0,
                            "ticks": ""
                          }
                        },
                        "type": "scattergl"
                      }
                    ],
                    "scattermapbox": [
                      {
                        "marker": {
                          "colorbar": {
                            "outlinewidth": 0,
                            "ticks": ""
                          }
                        },
                        "type": "scattermapbox"
                      }
                    ],
                    "scatterpolar": [
                      {
                        "marker": {
                          "colorbar": {
                            "outlinewidth": 0,
                            "ticks": ""
                          }
                        },
                        "type": "scatterpolar"
                      }
                    ],
                    "scatterpolargl": [
                      {
                        "marker": {
                          "colorbar": {
                            "outlinewidth": 0,
                            "ticks": ""
                          }
                        },
                        "type": "scatterpolargl"
                      }
                    ],
                    "scatterternary": [
                      {
                        "marker": {
                          "colorbar": {
                            "outlinewidth": 0,
                            "ticks": ""
                          }
                        },
                        "type": "scatterternary"
                      }
                    ],
                    "surface": [
                      {
                        "colorbar": {
                          "outlinewidth": 0,
                          "ticks": ""
                        },
                        "colorscale": [
                          [
                            0,
                            "#0d0887"
                          ],
                          [
                            0.1111111111111111,
                            "#46039f"
                          ],
                          [
                            0.2222222222222222,
                            "#7201a8"
                          ],
                          [
                            0.3333333333333333,
                            "#9c179e"
                          ],
                          [
                            0.4444444444444444,
                            "#bd3786"
                          ],
                          [
                            0.5555555555555556,
                            "#d8576b"
                          ],
                          [
                            0.6666666666666666,
                            "#ed7953"
                          ],
                          [
                            0.7777777777777778,
                            "#fb9f3a"
                          ],
                          [
                            0.8888888888888888,
                            "#fdca26"
                          ],
                          [
                            1,
                            "#f0f921"
                          ]
                        ],
                        "type": "surface"
                      }
                    ],
                    "table": [
                      {
                        "cells": {
                          "fill": {
                            "color": "#EBF0F8"
                          },
                          "line": {
                            "color": "white"
                          }
                        },
                        "header": {
                          "fill": {
                            "color": "#C8D4E3"
                          },
                          "line": {
                            "color": "white"
                          }
                        },
                        "type": "table"
                      }
                    ]
                  },
                  "layout": {
                    "annotationdefaults": {
                      "arrowcolor": "#2a3f5f",
                      "arrowhead": 0,
                      "arrowwidth": 1
                    },
                    "autotypenumbers": "strict",
                    "coloraxis": {
                      "colorbar": {
                        "outlinewidth": 0,
                        "ticks": ""
                      }
                    },
                    "colorscale": {
                      "diverging": [
                        [
                          0,
                          "#8e0152"
                        ],
                        [
                          0.1,
                          "#c51b7d"
                        ],
                        [
                          0.2,
                          "#de77ae"
                        ],
                        [
                          0.3,
                          "#f1b6da"
                        ],
                        [
                          0.4,
                          "#fde0ef"
                        ],
                        [
                          0.5,
                          "#f7f7f7"
                        ],
                        [
                          0.6,
                          "#e6f5d0"
                        ],
                        [
                          0.7,
                          "#b8e186"
                        ],
                        [
                          0.8,
                          "#7fbc41"
                        ],
                        [
                          0.9,
                          "#4d9221"
                        ],
                        [
                          1,
                          "#276419"
                        ]
                      ],
                      "sequential": [
                        [
                          0,
                          "#0d0887"
                        ],
                        [
                          0.1111111111111111,
                          "#46039f"
                        ],
                        [
                          0.2222222222222222,
                          "#7201a8"
                        ],
                        [
                          0.3333333333333333,
                          "#9c179e"
                        ],
                        [
                          0.4444444444444444,
                          "#bd3786"
                        ],
                        [
                          0.5555555555555556,
                          "#d8576b"
                        ],
                        [
                          0.6666666666666666,
                          "#ed7953"
                        ],
                        [
                          0.7777777777777778,
                          "#fb9f3a"
                        ],
                        [
                          0.8888888888888888,
                          "#fdca26"
                        ],
                        [
                          1,
                          "#f0f921"
                        ]
                      ],
                      "sequentialminus": [
                        [
                          0,
                          "#0d0887"
                        ],
                        [
                          0.1111111111111111,
                          "#46039f"
                        ],
                        [
                          0.2222222222222222,
                          "#7201a8"
                        ],
                        [
                          0.3333333333333333,
                          "#9c179e"
                        ],
                        [
                          0.4444444444444444,
                          "#bd3786"
                        ],
                        [
                          0.5555555555555556,
                          "#d8576b"
                        ],
                        [
                          0.6666666666666666,
                          "#ed7953"
                        ],
                        [
                          0.7777777777777778,
                          "#fb9f3a"
                        ],
                        [
                          0.8888888888888888,
                          "#fdca26"
                        ],
                        [
                          1,
                          "#f0f921"
                        ]
                      ]
                    },
                    "colorway": [
                      "#636efa",
                      "#EF553B",
                      "#00cc96",
                      "#ab63fa",
                      "#FFA15A",
                      "#19d3f3",
                      "#FF6692",
                      "#B6E880",
                      "#FF97FF",
                      "#FECB52"
                    ],
                    "font": {
                      "color": "#2a3f5f"
                    },
                    "geo": {
                      "bgcolor": "white",
                      "lakecolor": "white",
                      "landcolor": "#E5ECF6",
                      "showlakes": true,
                      "showland": true,
                      "subunitcolor": "white"
                    },
                    "hoverlabel": {
                      "align": "left"
                    },
                    "hovermode": "closest",
                    "mapbox": {
                      "style": "light"
                    },
                    "paper_bgcolor": "white",
                    "plot_bgcolor": "#E5ECF6",
                    "polar": {
                      "angularaxis": {
                        "gridcolor": "white",
                        "linecolor": "white",
                        "ticks": ""
                      },
                      "bgcolor": "#E5ECF6",
                      "radialaxis": {
                        "gridcolor": "white",
                        "linecolor": "white",
                        "ticks": ""
                      }
                    },
                    "scene": {
                      "xaxis": {
                        "backgroundcolor": "#E5ECF6",
                        "gridcolor": "white",
                        "gridwidth": 2,
                        "linecolor": "white",
                        "showbackground": true,
                        "ticks": "",
                        "zerolinecolor": "white"
                      },
                      "yaxis": {
                        "backgroundcolor": "#E5ECF6",
                        "gridcolor": "white",
                        "gridwidth": 2,
                        "linecolor": "white",
                        "showbackground": true,
                        "ticks": "",
                        "zerolinecolor": "white"
                      },
                      "zaxis": {
                        "backgroundcolor": "#E5ECF6",
                        "gridcolor": "white",
                        "gridwidth": 2,
                        "linecolor": "white",
                        "showbackground": true,
                        "ticks": "",
                        "zerolinecolor": "white"
                      }
                    },
                    "shapedefaults": {
                      "line": {
                        "color": "#2a3f5f"
                      }
                    },
                    "ternary": {
                      "aaxis": {
                        "gridcolor": "white",
                        "linecolor": "white",
                        "ticks": ""
                      },
                      "baxis": {
                        "gridcolor": "white",
                        "linecolor": "white",
                        "ticks": ""
                      },
                      "bgcolor": "#E5ECF6",
                      "caxis": {
                        "gridcolor": "white",
                        "linecolor": "white",
                        "ticks": ""
                      }
                    },
                    "title": {
                      "x": 0.05
                    },
                    "xaxis": {
                      "automargin": true,
                      "gridcolor": "white",
                      "linecolor": "white",
                      "ticks": "",
                      "title": {
                        "standoff": 15
                      },
                      "zerolinecolor": "white",
                      "zerolinewidth": 2
                    },
                    "yaxis": {
                      "automargin": true,
                      "gridcolor": "white",
                      "linecolor": "white",
                      "ticks": "",
                      "title": {
                        "standoff": 15
                      },
                      "zerolinecolor": "white",
                      "zerolinewidth": 2
                    }
                  }
                },
                "title": {
                  "text": "Hyperparameter Importances"
                },
                "xaxis": {
                  "title": {
                    "text": "Hyperparameter Importance"
                  }
                },
                "yaxis": {
                  "title": {
                    "text": "Hyperparameter"
                  }
                }
              }
            }
          },
          "metadata": {},
          "output_type": "display_data"
        }
      ],
      "source": [
        "from optuna.visualization import plot_param_importances\n",
        "\n",
        "# grafico importancia\n",
        "plot_param_importances(study)"
      ]
    },
    {
      "cell_type": "markdown",
      "metadata": {
        "cell_id": "ac8a20f445d045a3becf1a518d410a7d",
        "deepnote_cell_type": "markdown",
        "id": "EoW32TA9I5wA"
      },
      "source": [
        "## 6. Síntesis de resultados (3 puntos)\n",
        "\n",
        "Finalmente:\n",
        "\n",
        "1. Genere una tabla resumen del MAE en el conjunto de validación obtenido en los 5 modelos entrenados desde Baseline hasta XGBoost con Constraints, Optuna y Prunning. [1 punto]\n",
        "2. Compare los resultados de la tabla y responda, ¿qué modelo obtiene el mejor rendimiento? [0.5 puntos]\n",
        "3. Cargue el mejor modelo, prediga sobre el conjunto de **test** y reporte su MAE. [0.5 puntos]\n",
        "4. ¿Existen diferencias con respecto a las métricas obtenidas en el conjunto de validación? ¿Porqué puede ocurrir esto? [1 punto]"
      ]
    },
    {
      "cell_type": "markdown",
      "metadata": {},
      "source": [
        "1. Tabla resumen de MAE"
      ]
    },
    {
      "cell_type": "code",
      "execution_count": 211,
      "metadata": {
        "id": "jq5C6cDnJg9h"
      },
      "outputs": [
        {
          "data": {
            "text/html": [
              "<div>\n",
              "<style scoped>\n",
              "    .dataframe tbody tr th:only-of-type {\n",
              "        vertical-align: middle;\n",
              "    }\n",
              "\n",
              "    .dataframe tbody tr th {\n",
              "        vertical-align: top;\n",
              "    }\n",
              "\n",
              "    .dataframe thead th {\n",
              "        text-align: right;\n",
              "    }\n",
              "</style>\n",
              "<table border=\"1\" class=\"dataframe\">\n",
              "  <thead>\n",
              "    <tr style=\"text-align: right;\">\n",
              "      <th></th>\n",
              "      <th>Model</th>\n",
              "      <th>MAE Val</th>\n",
              "    </tr>\n",
              "  </thead>\n",
              "  <tbody>\n",
              "    <tr>\n",
              "      <th>0</th>\n",
              "      <td>Model dummy</td>\n",
              "      <td>13302.642271</td>\n",
              "    </tr>\n",
              "    <tr>\n",
              "      <th>1</th>\n",
              "      <td>Model XGBRegressor</td>\n",
              "      <td>2432.184800</td>\n",
              "    </tr>\n",
              "    <tr>\n",
              "      <th>2</th>\n",
              "      <td>Model XGB Monotonic</td>\n",
              "      <td>2485.907126</td>\n",
              "    </tr>\n",
              "    <tr>\n",
              "      <th>3</th>\n",
              "      <td>Model Optuna</td>\n",
              "      <td>1909.053332</td>\n",
              "    </tr>\n",
              "    <tr>\n",
              "      <th>4</th>\n",
              "      <td>Model Pruning</td>\n",
              "      <td>1940.521020</td>\n",
              "    </tr>\n",
              "  </tbody>\n",
              "</table>\n",
              "</div>"
            ],
            "text/plain": [
              "                 Model       MAE Val\n",
              "0          Model dummy  13302.642271\n",
              "1   Model XGBRegressor   2432.184800\n",
              "2  Model XGB Monotonic   2485.907126\n",
              "3         Model Optuna   1909.053332\n",
              "4        Model Pruning   1940.521020"
            ]
          },
          "execution_count": 211,
          "metadata": {},
          "output_type": "execute_result"
        }
      ],
      "source": [
        "mae_values = {\n",
        "    'Model': ['Model dummy', 'Model XGBRegressor', 'Model XGB Monotonic', 'Model Optuna', 'Model Pruning' ],  # nombres de los modelos\n",
        "    'MAE Val': [mae_dummy, mae_xgb_regressor, mae_xgb_monotonic, best_mae_optuna, best_mae_prunning],  # valores de MAE para el conjunto de entrenamiento\n",
        "}\n",
        "\n",
        "# Crear el DataFrame resumen\n",
        "df_mae_summary = pd.DataFrame(mae_values)\n",
        "df_mae_summary"
      ]
    },
    {
      "cell_type": "markdown",
      "metadata": {},
      "source": [
        "2. Comparar resultados\n",
        "\n",
        "Se observa que el 4to modelo que usa Optuna es aquel que tiene menor MAE de 1909 y le sigue el modelo Pruning con 1940."
      ]
    },
    {
      "cell_type": "markdown",
      "metadata": {
        "cell_id": "5c4654d12037494fbd385b4dc6bd1059",
        "deepnote_cell_type": "markdown",
        "id": "E_19tgBEI5wA"
      },
      "source": [
        "# Conclusión\n",
        "Eso ha sido todo para el lab de hoy, recuerden que el laboratorio tiene un plazo de entrega de una semana. Cualquier duda del laboratorio, no duden en contactarnos por mail o U-cursos.\n",
        "\n",
        "<p align=\"center\">\n",
        "  <img src=\"https://media.tenor.com/8CT1AXElF_cAAAAC/gojo-satoru.gif\">\n",
        "</p>"
      ]
    },
    {
      "cell_type": "markdown",
      "metadata": {
        "cell_id": "5025de06759f4903a26916c80323bf25",
        "deepnote_cell_type": "markdown",
        "id": "Kq2cFix1I5wA"
      },
      "source": []
    },
    {
      "cell_type": "markdown",
      "metadata": {
        "created_in_deepnote_cell": true,
        "deepnote_cell_type": "markdown",
        "id": "rAp9UxwiI5wA"
      },
      "source": [
        "<a style='text-decoration:none;line-height:16px;display:flex;color:#5B5B62;padding:10px;justify-content:end;' href='https://deepnote.com?utm_source=created-in-deepnote-cell&projectId=87110296-876e-426f-b91d-aaf681223468' target=\"_blank\">\n",
        "<img alt='Created in deepnote.com' style='display:inline;max-height:16px;margin:0px;margin-right:7.5px;' src='data:image/svg+xml;base64,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' > </img>\n",
        "Created in <span style='font-weight:600;margin-left:4px;'>Deepnote</span></a>"
      ]
    }
  ],
  "metadata": {
    "colab": {
      "provenance": []
    },
    "deepnote": {},
    "deepnote_execution_queue": [],
    "deepnote_notebook_id": "f63d38450a6b464c9bb6385cf11db4d9",
    "deepnote_persisted_session": {
      "createdAt": "2023-11-09T16:18:30.203Z"
    },
    "kernelspec": {
      "display_name": "Python 3",
      "language": "python",
      "name": "python3"
    },
    "language_info": {
      "codemirror_mode": {
        "name": "ipython",
        "version": 3
      },
      "file_extension": ".py",
      "mimetype": "text/x-python",
      "name": "python",
      "nbconvert_exporter": "python",
      "pygments_lexer": "ipython3",
      "version": "3.9.6"
    }
  },
  "nbformat": 4,
  "nbformat_minor": 0
}
