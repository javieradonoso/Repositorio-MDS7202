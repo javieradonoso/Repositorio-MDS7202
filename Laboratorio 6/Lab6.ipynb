{
  "cells": [
    {
      "cell_type": "markdown",
      "metadata": {
        "cell_id": "ac9155b9f5e04400957a6f8bb3f6610c",
        "deepnote_cell_type": "markdown",
        "id": "2v2D1coL7I8i"
      },
      "source": [
        "<h1><center>Laboratorio 6: La solicitud de Sergio 🤗</center></h1>\n",
        "\n",
        "<center><strong>MDS7202: Laboratorio de Programación Científica para Ciencia de Datos - Primavera 2024</strong></center>"
      ]
    },
    {
      "cell_type": "markdown",
      "metadata": {
        "cell_id": "d3d6f6d405c54dbe985a5f4b3e4f9120",
        "deepnote_cell_type": "markdown",
        "id": "YxdTmIPD7L_x"
      },
      "source": [
        "### Cuerpo Docente:\n",
        "\n",
        "- Profesores: Ignacio Meza, Sebastián Tinoco\n",
        "- Auxiliar: Eduardo Moya\n",
        "- Ayudantes: Nicolás Ojeda, Melanie Peña, Valentina Rojas"
      ]
    },
    {
      "cell_type": "markdown",
      "metadata": {
        "cell_id": "851a7788e8214942863cbd4099064ab2",
        "deepnote_cell_type": "markdown",
        "id": "Y2Gyrj-x7N2L"
      },
      "source": [
        "### Equipo: SUPER IMPORTANTE - notebooks sin nombre no serán revisados\n",
        "\n",
        "\n",
        "- Nombre de alumno 1: Belén Órdenes\n",
        "- Nombre de alumno 2: Javiera Donoso"
      ]
    },
    {
      "cell_type": "markdown",
      "metadata": {
        "cell_id": "f23a189afdec4e198683308db70e43b7",
        "deepnote_cell_type": "markdown",
        "id": "jQ9skYc57Pxi"
      },
      "source": [
        "### **Link de repositorio de GitHub:** [Repositorio](https://github.com/javieradonoso/Repositorio-MDS7202)"
      ]
    },
    {
      "cell_type": "markdown",
      "metadata": {
        "cell_id": "b5318f41cda64d4290a7a548956ed725",
        "deepnote_cell_type": "markdown",
        "id": "1M4PoEWm7S80"
      },
      "source": [
        "## Temas a tratar\n",
        "- Aplicar Pandas para obtener características de un DataFrame.\n",
        "- Aplicar Pipelines y Column Transformers.\n",
        "- Utilizar diferentes algoritmos de cluster y ver el desempeño.\n",
        "\n",
        "## Reglas:\n",
        "\n",
        "- **Grupos de 2 personas**\n",
        "- Cualquier duda fuera del horario de clases al foro. Mensajes al equipo docente serán respondidos por este medio.\n",
        "- Prohibidas las copias.\n",
        "- Pueden usar cualquer matrial del curso que estimen conveniente.\n",
        "- Código que no se pueda ejecutar, no será revisado.\n",
        "\n",
        "### Objetivos principales del laboratorio\n",
        "- Comprender cómo aplicar pipelines de Scikit-Learn para generar clusters.\n",
        "- Familiarizarse con plotly.\n",
        "\n",
        "El laboratorio deberá ser desarrollado sin el uso indiscriminado de iteradores nativos de python (aka \"for\", \"while\"). La idea es que aprendan a exprimir al máximo las funciones optimizadas que nos entrega `numpy`, las cuales vale mencionar, son bastante más eficientes que los iteradores nativos sobre arreglos (*o tensores*)."
      ]
    },
    {
      "cell_type": "markdown",
      "metadata": {
        "cell_id": "858df483d9e64780a21674afed1d34b8",
        "deepnote_cell_type": "markdown",
        "id": "SuMbiyQZG2Cc"
      },
      "source": [
        "## Descripción del laboratorio"
      ]
    },
    {
      "cell_type": "markdown",
      "metadata": {
        "cell_id": "0303baa17d4546feae8c9b88c58470bf",
        "deepnote_cell_type": "markdown",
        "id": "2o0MPuk8rqCz"
      },
      "source": [
        "En el corazón de las operaciones de Aerolínea Lucero, Sergio, el gerente de análisis de datos, reunió a un talentoso equipo de jóvenes científicos de datos para un desafío crucial: segmentar la base de datos de los clientes. “Nuestro objetivo es descubrir patrones en el comportamiento de los pasajeros que nos permitan personalizar servicios y optimizar nuestras campañas de marketing,” explicó Sergio, mientras desplegaba un amplio rango de datos que incluían desde hábitos de compra hasta opiniones sobre los vuelos.\n",
        "\n",
        "Sergio encargó a los científicos de datos la tarea de aplicar técnicas avanzadas de clustering para identificar distintos segmentos de clientes, como los viajeros frecuentes y aquellos que eligen la aerolínea para celebrar ocasiones especiales. La meta principal era entender profundamente cómo estos grupos perciben la calidad y satisfacción de los servicios ofrecidos por la aerolínea.\n",
        "\n",
        "A través de un enfoque meticuloso y colaborativo, los científicos de datos se abocaron a la tarea, buscando transformar los datos brutos en valiosos insights que permitirían a Aerolínea Lucero no solo mejorar su servicio, sino también fortalecer las relaciones con sus clientes mediante una oferta más personalizada y efectiva."
      ]
    },
    {
      "cell_type": "markdown",
      "metadata": {
        "cell_id": "e78cb41b144041af98928ab26dcfdaa9",
        "deepnote_cell_type": "markdown",
        "id": "hs4KKWF1Hdpo"
      },
      "source": [
        "## Importamos librerias utiles 😸"
      ]
    },
    {
      "cell_type": "code",
      "execution_count": null,
      "metadata": {
        "cell_id": "95a5533cfd6d49cfb9afc111c44d224f",
        "deepnote_cell_type": "code",
        "deepnote_to_be_reexecuted": false,
        "execution_millis": 15,
        "execution_start": 1714107106552,
        "id": "a4YpMafirqC0",
        "source_hash": null
      },
      "outputs": [],
      "source": [
        "import numpy as np\n",
        "import pandas as pd\n",
        "\n",
        "from sklearn import datasets\n",
        "\n",
        "import plotly.express as px\n",
        "import plotly.graph_objects as go\n",
        "from plotly.subplots import make_subplots"
      ]
    },
    {
      "cell_type": "markdown",
      "metadata": {
        "cell_id": "acbeab32db6146678e75448dddf43da8",
        "deepnote_cell_type": "markdown",
        "id": "UQOXod4gHhSq"
      },
      "source": [
        "## 1. Estudio de Performance 📈 [10 Puntos]\n",
        "\n"
      ]
    },
    {
      "cell_type": "markdown",
      "metadata": {
        "cell_id": "704b56b978254ad3ae12cdbf58f4832d",
        "deepnote_cell_type": "markdown",
        "id": "Gn5u5ICkrqC2"
      },
      "source": [
        "<center>\n",
        "<img src=\"https://user-images.githubusercontent.com/57133330/188281408-c67df9ee-fd1f-4b37-833b-f02848f1ce02.gif\" width=300>"
      ]
    },
    {
      "cell_type": "markdown",
      "metadata": {
        "cell_id": "d35fbdcc5ef045d6a2822622f0714179",
        "deepnote_cell_type": "markdown",
        "id": "y4Z0jTjtrqC2"
      },
      "source": [
        "Don Sergio les ha encomendado su primera tarea: analizar diversas técnicas de clustering. Su objetivo es entender detalladamente cómo funcionan estos métodos en términos de segmentación y eficiencia en tiempo de ejecución.\n",
        "\n",
        "Analice y compare el desempeño, tiempo de ejecución y visualizaciones de cuatro algoritmos de clustering (k-means, DBSCAN, Ward y GMM) aplicados a tres conjuntos de datos, incrementando progresivamente su tamaño. Utilice Plotly para las gráficas y discuta los resultados tanto cualitativa como cuantitativamente.\n",
        "\n",
        "Uno de los requisitos establecidos por Sergio es que el análisis se lleve a cabo utilizando Plotly; de no ser así, se considerará incorrecto. Para facilitar este proceso, se ha proporcionado un código de Plotly que puede servir como base para realizar las gráficas. Apóyese en el código entregado para efectuar el análisis y tome como referencia la siguiente imagen para realizar los gráficos:\n",
        "\n",
        "<img src='https://gitlab.com/imezadelajara/datos_clase_7_mds7202/-/raw/main/misc_images/Screenshot_2024-04-26_at_9.10.44_AM.png' width=800 />\n",
        "\n",
        "En el gráfico se visualizan en dos dimensiones los diferentes tipos de datos proporcionados en `datasets`. Cada columna corresponde a un modelo de clustering diferente, mientras que cada fila representa un conjunto de datos distinto. Cada uno de los gráficos incluye el tiempo en segundos que tarda el análisis y la métrica Silhouette obtenida."
      ]
    },
    {
      "cell_type": "markdown",
      "metadata": {
        "cell_id": "37580aab6cef4238a8ce42c50a6d35de",
        "deepnote_cell_type": "markdown",
        "id": "maCUNAvZrqC2"
      },
      "source": [
        "Para ser más específicos, usted debe cumplir los siguientes objetivos:\n",
        "1. Generar una función que permita replicar el gráfico expuesto en la imagen (no importa que los colores calcen). [4 puntos]\n",
        "2. Ejecuta la función para un `n_samples` igual a 1000, 5000, 10000. [2 puntos]\n",
        "3. Analice y compare el desempeño, tiempo de ejecución y visualizaciones de cuatro algoritmos de clustering utilizando las 3 configuraciones dadas en `n_samples`. [4 puntos]\n",
        "\n",
        "\n",
        "> ❗ Tiene libertad absoluta de escoger los hiper parámetros de los cluster, sin embargo, se recomienda verificar el dominio de las variables para realizar la segmentación.\n",
        "\n",
        "> ❗ Recuerde que es obligatorio el uso de plotly.\n"
      ]
    },
    {
      "cell_type": "code",
      "execution_count": null,
      "metadata": {
        "cell_id": "7f7c25e366754595b13fc2e8116f65a0",
        "deepnote_cell_type": "code",
        "deepnote_to_be_reexecuted": false,
        "execution_millis": 78,
        "execution_start": 1714107108441,
        "id": "i0IZPGPOrqC3",
        "source_hash": null
      },
      "outputs": [],
      "source": [
        "\"\"\"\n",
        "En la siguiente celda se crean los datos ficticios a usar en la sección 1 del lab.\n",
        "❗No realice cambios a esta celda a excepción de n_samples❗\n",
        "\"\"\"\n",
        "\n",
        "# Datos a utilizar\n",
        "\n",
        "# Configuracion\n",
        "n_samples = 5000 # Este parámetro si lo pueden modificar\n",
        "\n",
        "def create_data(n_samples):\n",
        "    # Lunas\n",
        "    moons = datasets.make_moons(n_samples=n_samples, noise=0.05, random_state=30)\n",
        "    # Blobs\n",
        "    blobs = datasets.make_blobs(n_samples=n_samples, random_state=172)\n",
        "    # Datos desiguales\n",
        "    transformation = [[0.6, -0.6], [-0.4, 0.8]]\n",
        "    mutated = (np.dot(blobs[0], transformation), blobs[1])\n",
        "\n",
        "    # Generamos Dataset\n",
        "    dataset = {\n",
        "        'moons':{\n",
        "            'x': moons[0], 'classes': moons[1], 'n_cluster': 2\n",
        "        },\n",
        "        'blobs':{\n",
        "            'x': blobs[0], 'classes': blobs[1], 'n_cluster': 3\n",
        "        },\n",
        "        'mutated':{\n",
        "            'x': mutated[0], 'classes': mutated[1], 'n_cluster': 3\n",
        "        }\n",
        "    }\n",
        "    return dataset\n",
        "\n",
        "data_sets = create_data(n_samples)"
      ]
    },
    {
      "cell_type": "markdown",
      "metadata": {
        "id": "y51s6f_UtIkc"
      },
      "source": [
        "**Respuestas:**"
      ]
    },
    {
      "cell_type": "code",
      "execution_count": null,
      "metadata": {
        "id": "omNqo50J6rWs"
      },
      "outputs": [],
      "source": [
        "import plotly.graph_objs as go\n",
        "from plotly.subplots import make_subplots\n",
        "\n",
        "# 1. Generar una función que permita replicar el gráfico expuesto en la imagen\n",
        "\n",
        "def plot_scatter(x, y, color):\n",
        "    # Crear el trazo de dispersión\n",
        "    trace = go.Scatter(\n",
        "        x=x,\n",
        "        y=y,\n",
        "        mode='markers',\n",
        "        marker=dict(\n",
        "            size=8,\n",
        "            color=color,  # corresponde a una variable por el cual colorear\n",
        "            showscale=False  # esconde la escala de color\n",
        "        )\n",
        "    )\n",
        "    return trace\n"
      ]
    },
    {
      "cell_type": "code",
      "execution_count": null,
      "metadata": {
        "id": "rWatIS-m703J"
      },
      "outputs": [],
      "source": [
        "# Guardaremos los datos con los siguientes nombres\n",
        "x_data_m = data_sets['moons']['x'][:, 0]\n",
        "y_data_m = data_sets['moons']['x'][:, 1]\n",
        "x_data_b = data_sets['blobs']['x'][:, 0]\n",
        "y_data_b = data_sets['blobs']['x'][:, 1]\n",
        "x_data_mu = data_sets['mutated']['x'][:, 0]\n",
        "y_data_mu = data_sets['mutated']['x'][:, 1]"
      ]
    },
    {
      "cell_type": "code",
      "execution_count": null,
      "metadata": {
        "id": "3ck5kvm18B78"
      },
      "outputs": [],
      "source": [
        "import time\n",
        "\n",
        "# Función para calcular los tiempos de ejecución y el silhouette score\n",
        "def times_algorithm(algorithm, data):\n",
        "    start_time = time.time()\n",
        "    clusters = algorithm.fit_predict(data)\n",
        "    execution_time = time.time() - start_time\n",
        "    silhouette = silhouette_score(data, clusters)\n",
        "    return clusters, execution_time, silhouette"
      ]
    },
    {
      "cell_type": "code",
      "execution_count": null,
      "metadata": {
        "id": "_xKh5UUa8EoC"
      },
      "outputs": [],
      "source": [
        "# KMeans\n",
        "from sklearn.cluster import KMeans\n",
        "from sklearn.metrics import silhouette_score\n",
        "\n",
        "# algoritmo\n",
        "kmeans_m = KMeans(n_clusters=2, random_state=42)\n",
        "kmeans_b = KMeans(n_clusters=3, random_state=42)\n",
        "kmeans_mu = KMeans(n_clusters=3, random_state=42)\n",
        "\n",
        "# clusters (.fit_predict)\n",
        "cluster_kmeans_m = kmeans_m.fit_predict(np.column_stack((x_data_m, y_data_m)))\n",
        "cluster_kmeans_b = kmeans_b.fit_predict(np.column_stack((x_data_b, y_data_b)))\n",
        "cluster_kmeans_mu = kmeans_mu.fit_predict(np.column_stack((x_data_mu, y_data_mu)))\n",
        "\n",
        "# tiempo\n",
        "time_kmeans_m = round(times_algorithm(kmeans_m, np.column_stack((x_data_m, y_data_m)))[1],2)\n",
        "time_kmeans_b = round(times_algorithm(kmeans_b, np.column_stack((x_data_m, y_data_m)))[1],2)\n",
        "time_kmeans_mu = round(times_algorithm(kmeans_mu, np.column_stack((x_data_m, y_data_m)))[1],2)\n",
        "\n",
        "# Silhouette\n",
        "sil_kmeans_m = round(times_algorithm(kmeans_m, np.column_stack((x_data_m, y_data_m)))[2],2)\n",
        "sil_kmeans_b = round(times_algorithm(kmeans_b, np.column_stack((x_data_m, y_data_m)))[2],2)\n",
        "sil_kmeans_mu = round(times_algorithm(kmeans_mu, np.column_stack((x_data_m, y_data_m)))[2],2)"
      ]
    },
    {
      "cell_type": "code",
      "execution_count": null,
      "metadata": {
        "id": "eThzoB9A8GYY"
      },
      "outputs": [],
      "source": [
        "# GMM\n",
        "from sklearn.mixture import GaussianMixture\n",
        "\n",
        "# algoritmo\n",
        "gmm_m = GaussianMixture(n_components = 2, random_state=42)\n",
        "gmm_b = GaussianMixture(n_components = 3, random_state=42)\n",
        "gmm_mu = GaussianMixture(n_components = 3, random_state=42)\n",
        "\n",
        "# clusters (.fit_predict)\n",
        "cluster_gmm_m = gmm_m.fit_predict(np.column_stack((x_data_m, y_data_m)))\n",
        "cluster_gmm_b = gmm_b.fit_predict(np.column_stack((x_data_b, y_data_b)))\n",
        "cluster_gmm_mu = gmm_mu.fit_predict(np.column_stack((x_data_mu, y_data_mu)))\n",
        "\n",
        "# tiempo\n",
        "time_gmm_m = round(times_algorithm(gmm_m, np.column_stack((x_data_m, y_data_m)))[1],2)\n",
        "time_gmm_b = round(times_algorithm(gmm_b, np.column_stack((x_data_m, y_data_m)))[1],2)\n",
        "time_gmm_mu = round(times_algorithm(gmm_mu, np.column_stack((x_data_m, y_data_m)))[1],2)\n",
        "\n",
        "# Silhouette\n",
        "sil_gmm_m = round(times_algorithm(gmm_m, np.column_stack((x_data_m, y_data_m)))[2],2)\n",
        "sil_gmm_b = round(times_algorithm(gmm_b, np.column_stack((x_data_m, y_data_m)))[2],2)\n",
        "sil_gmm_mu = round(times_algorithm(gmm_mu, np.column_stack((x_data_m, y_data_m)))[2],2)"
      ]
    },
    {
      "cell_type": "code",
      "execution_count": null,
      "metadata": {
        "id": "vV5ObGkg8HNN"
      },
      "outputs": [],
      "source": [
        "# WARD\n",
        "from sklearn.cluster import AgglomerativeClustering\n",
        "\n",
        "# algoritmo\n",
        "ward_m = AgglomerativeClustering(n_clusters=2, linkage=\"ward\")\n",
        "ward_b = AgglomerativeClustering(n_clusters=3, linkage=\"ward\")\n",
        "ward_mu = AgglomerativeClustering(n_clusters=4, linkage=\"ward\")\n",
        "\n",
        "# clusters (.fit_predict)\n",
        "cluster_ward_m = ward_m.fit_predict(np.column_stack((x_data_m, y_data_m)))\n",
        "cluster_ward_b = ward_b.fit_predict(np.column_stack((x_data_b, y_data_b)))\n",
        "cluster_ward_mu = ward_mu.fit_predict(np.column_stack((x_data_mu, y_data_mu)))\n",
        "\n",
        "# tiempo\n",
        "time_ward_m = round(times_algorithm(ward_m, np.column_stack((x_data_m, y_data_m)))[1],2)\n",
        "time_ward_b = round(times_algorithm(ward_b, np.column_stack((x_data_m, y_data_m)))[1],2)\n",
        "time_ward_mu = round(times_algorithm(ward_mu, np.column_stack((x_data_m, y_data_m)))[1],2)\n",
        "\n",
        "# Silhouette\n",
        "sil_ward_m = round(times_algorithm(ward_m, np.column_stack((x_data_m, y_data_m)))[2],2)\n",
        "sil_ward_b = round(times_algorithm(ward_b, np.column_stack((x_data_m, y_data_m)))[2],2)\n",
        "sil_ward_mu = round(times_algorithm(ward_mu, np.column_stack((x_data_m, y_data_m)))[2],2)"
      ]
    },
    {
      "cell_type": "code",
      "execution_count": null,
      "metadata": {
        "id": "wqMoFVFY80AJ"
      },
      "outputs": [],
      "source": [
        "# DBSCAN\n",
        "from sklearn.cluster import DBSCAN\n",
        "\n",
        "# algoritmo\n",
        "dbscan_m = DBSCAN(eps=0.07, min_samples=7)\n",
        "dbscan_b = DBSCAN(eps=0.1, min_samples=10)\n",
        "dbscan_mu = DBSCAN(eps=0.2, min_samples=20)\n",
        "\n",
        "# clusters (.fit_predict)\n",
        "cluster_dbscan_m = dbscan_m.fit_predict(np.column_stack((x_data_m, y_data_m)))\n",
        "cluster_dbscan_b = dbscan_b.fit_predict(np.column_stack((x_data_b, y_data_b)))\n",
        "cluster_dbscan_mu = dbscan_mu.fit_predict(np.column_stack((x_data_mu, y_data_mu)))\n",
        "\n",
        "# tiempo\n",
        "time_dbscan_m = round(times_algorithm(dbscan_m, np.column_stack((x_data_m, y_data_m)))[1],2)\n",
        "time_dbscan_b = round(times_algorithm(dbscan_b, np.column_stack((x_data_m, y_data_m)))[1],2)\n",
        "time_dbscan_mu = round(times_algorithm(dbscan_mu, np.column_stack((x_data_m, y_data_m)))[1],2)\n",
        "\n",
        "# Silhouette\n",
        "sil_dbscan_m = round(times_algorithm(dbscan_m, np.column_stack((x_data_m, y_data_m)))[2],2)\n",
        "sil_dbscan_b = round(times_algorithm(dbscan_b, np.column_stack((x_data_m, y_data_m)))[2],2)\n",
        "sil_dbscan_mu = round(times_algorithm(dbscan_mu, np.column_stack((x_data_m, y_data_m)))[2],2)"
      ]
    },
    {
      "cell_type": "code",
      "execution_count": null,
      "metadata": {
        "colab": {
          "base_uri": "https://localhost:8080/",
          "height": 717
        },
        "id": "Iy53IpUr8vE9",
        "outputId": "c7504027-9342-49cd-8cce-dcbeadac9034"
      },
      "outputs": [],
      "source": [
        "# Crear múltiples subplots con plotly\n",
        "fig = make_subplots(rows=3, cols=4,\n",
        "                    subplot_titles=(f\"(1) t: {time_kmeans_m}[s], s: {sil_kmeans_m}\",\n",
        "                                    f\"(2) t: {time_gmm_m}[s], s: {sil_gmm_m}\",\n",
        "                                    f\"(3) t: {time_ward_m}[s], s: {sil_ward_m}\",\n",
        "                                    f\"(4) t: {time_kmeans_m}[s], s: {sil_kmeans_m}\",\n",
        "                                    f\"(5) t: {time_dbscan_b}[s], s: {sil_dbscan_b}\",\n",
        "                                    f\"(6) t: {time_gmm_b}[s], s: {sil_gmm_b}\",\n",
        "                                    f\"(7) t: {time_ward_b}[s], s: {sil_ward_b}\",\n",
        "                                    f\"(8) t: {time_kmeans_b}[s], s: {sil_kmeans_b}\",\n",
        "                                    f\"(9) t: {time_dbscan_mu}[s], s: {sil_dbscan_mu}\",\n",
        "                                    f\"(10) t: {time_gmm_mu}[s], s: {sil_gmm_mu}\",\n",
        "                                    f\"(11) t: {time_ward_mu}[s], s: {sil_ward_mu}\",\n",
        "                                    f\"(12) t: {time_dbscan_mu}[s], s: {sil_dbscan_mu}\")\n",
        "                    )\n",
        "fig.update_annotations(font_size=12)  # Cambia 12 por el tamaño de letra que prefieras\n",
        "\n",
        "fig.add_trace(\n",
        "    plot_scatter(\n",
        "        x=x_data_m,\n",
        "        y=y_data_m,\n",
        "        color=cluster_kmeans_m\n",
        "    ),\n",
        "    row=1, col=1\n",
        ")\n",
        "\n",
        "fig.add_trace(\n",
        "    plot_scatter(\n",
        "        x=x_data_b,\n",
        "        y=y_data_b,\n",
        "        color= cluster_kmeans_b\n",
        "    ),\n",
        "    row=2, col=1\n",
        ")\n",
        "\n",
        "fig.add_trace(\n",
        "    plot_scatter(\n",
        "        x=x_data_mu,\n",
        "        y=y_data_mu,\n",
        "        color=cluster_kmeans_mu\n",
        "    ),\n",
        "    row=3, col=1\n",
        ")\n",
        "\n",
        "fig.add_trace(\n",
        "    plot_scatter(\n",
        "        x=x_data_m,\n",
        "        y=y_data_m,\n",
        "        color=cluster_gmm_m\n",
        "    ),\n",
        "    row=1, col=2\n",
        ")\n",
        "\n",
        "fig.add_trace(\n",
        "    plot_scatter(\n",
        "        x=x_data_b,\n",
        "        y=y_data_b,\n",
        "        color=cluster_gmm_b\n",
        "    ),\n",
        "    row=2, col=2\n",
        ")\n",
        "\n",
        "fig.add_trace(\n",
        "    plot_scatter(\n",
        "        x=x_data_mu,\n",
        "        y=y_data_mu,\n",
        "        color=cluster_gmm_mu\n",
        "    ),\n",
        "    row=3, col=2\n",
        ")\n",
        "\n",
        "fig.add_trace(\n",
        "    plot_scatter(\n",
        "        x=x_data_m,\n",
        "        y=y_data_m,\n",
        "        color=cluster_ward_m\n",
        "    ),\n",
        "    row=1, col=3\n",
        ")\n",
        "\n",
        "fig.add_trace(\n",
        "    plot_scatter(\n",
        "        x=x_data_b,\n",
        "        y=y_data_b,\n",
        "        color=cluster_ward_b\n",
        "    ),\n",
        "    row=2, col=3\n",
        ")\n",
        "\n",
        "fig.add_trace(\n",
        "    plot_scatter(\n",
        "        x=x_data_mu,\n",
        "        y=y_data_mu,\n",
        "        color=cluster_ward_mu\n",
        "    ),\n",
        "    row=3, col=3\n",
        ")\n",
        "\n",
        "fig.add_trace(\n",
        "    plot_scatter(\n",
        "        x=x_data_m,\n",
        "        y=y_data_m,\n",
        "        color=cluster_dbscan_m\n",
        "    ),\n",
        "    row=1, col=4\n",
        ")\n",
        "\n",
        "fig.add_trace(\n",
        "    plot_scatter(\n",
        "        x=x_data_b,\n",
        "        y=y_data_b,\n",
        "        color=cluster_dbscan_b\n",
        "    ),\n",
        "    row=2, col=4\n",
        ")\n",
        "\n",
        "fig.add_trace(\n",
        "    plot_scatter(\n",
        "        x=x_data_mu,\n",
        "        y=y_data_mu,\n",
        "        color=cluster_dbscan_mu\n",
        "    ),\n",
        "    row=3, col=4\n",
        ")\n",
        "\n",
        "# Añadir los títulos de columna\n",
        "column_titles = [\"KMeans\", \"GMM\", \"WARD\", \"DBSCAN\"]\n",
        "for i, title in enumerate(column_titles):\n",
        "    fig.add_annotation(\n",
        "        x=0.125 + i * 0.25,  # Ajustar la posición según la columna\n",
        "        y=1.1,  # Colocar un poco más arriba del gráfico principal\n",
        "        text=title,\n",
        "        showarrow=False,\n",
        "        xref=\"paper\",\n",
        "        yref=\"paper\",\n",
        "        font=dict(size=16, color=\"black\")\n",
        "    )\n",
        "\n",
        "# Actualizar el layout con los nuevos títulos\n",
        "fig.update_layout(\n",
        "    showlegend=False,\n",
        "    template='simple_white',\n",
        "    title_text=\"Comparación de tiempos de ejecución por técnica\",\n",
        "    title_x=0.5,\n",
        "    height=700,\n",
        "    width=1000\n",
        ")\n",
        "\n",
        "\n",
        "# Mostrar la figura\n",
        "fig.show()\n"
      ]
    },
    {
      "cell_type": "markdown",
      "metadata": {
        "cell_id": "13c5cb8067d9415f83b3d497954a437a",
        "deepnote_cell_type": "markdown",
        "id": "3mCbZc86rqC6"
      },
      "source": [
        "## 2. Análisis de Satisfacción de Vuelos. [10 puntos]"
      ]
    },
    {
      "cell_type": "markdown",
      "metadata": {
        "cell_id": "fd6e991646b44f50a4b13f01d1542415",
        "deepnote_cell_type": "markdown",
        "id": "JI33m5jbrqC6"
      },
      "source": [
        "<center>\n",
        "<img src=\"https://i.gifer.com/2Hci.gif\" width=400 />"
      ]
    },
    {
      "cell_type": "markdown",
      "metadata": {
        "cell_id": "5742dfbd5a2e43778ff250436bab1005",
        "deepnote_cell_type": "markdown",
        "id": "h5k24znirqC7"
      },
      "source": [
        "Habiendo entendido cómo funcionan los modelos de aprendizaje no supervisado, *Don Sergio* le encomienda estudiar la satisfacción de pasajeros al haber tomado un vuelo en alguna de sus aerolineas. Para esto, el magnate le dispone del dataset `aerolineas_licer.parquet`, el cual contiene el grado de satisfacción de los clientes frente a diferentes aspectos del vuelo. Las características del vuelo se definen a continuación:\n",
        "\n",
        "- *Gender*: Género de los pasajeros (Femenino, Masculino)\n",
        "- *Customer Type*: Tipo de cliente (Cliente habitual, cliente no habitual)\n",
        "- *Age*: Edad actual de los pasajeros\n",
        "- *Type of Travel*: Propósito del vuelo de los pasajeros (Viaje personal, Viaje de negocios)\n",
        "- *Class*: Clase de viaje en el avión de los pasajeros (Business, Eco, Eco Plus)\n",
        "- *Flight distance*: Distancia del vuelo de este viaje\n",
        "- *Inflight wifi service*: Nivel de satisfacción del servicio de wifi durante el vuelo (0:No Aplicable; 1-5)\n",
        "- *Departure/Arrival time convenient*: Nivel de satisfacción con la conveniencia del horario de salida/llegada\n",
        "- *Ease of Online booking*: Nivel de satisfacción con la facilidad de reserva en línea\n",
        "- *Gate location*: Nivel de satisfacción con la ubicación de la puerta\n",
        "- *Food and drink*: Nivel de satisfacción con la comida y la bebida\n",
        "- *Online boarding*: Nivel de satisfacción con el embarque en línea\n",
        "- *Seat comfort*: Nivel de satisfacción con la comodidad del asiento\n",
        "- *Inflight entertainment*: Nivel de satisfacción con el entretenimiento durante el vuelo\n",
        "- *On-board service*: Nivel de satisfacción con el servicio a bordo\n",
        "- *Leg room service*: Nivel de satisfacción con el espacio para las piernas\n",
        "- *Baggage handling*: Nivel de satisfacción con el manejo del equipaje\n",
        "- *Check-in service*: Nivel de satisfacción con el servicio de check-in\n",
        "- *Inflight service*: Nivel de satisfacción con el servicio durante el vuelo\n",
        "- *Cleanliness*: Nivel de satisfacción con la limpieza\n",
        "- *Departure Delay in Minutes*: Minutos de retraso en la salida\n",
        "- *Arrival Delay in Minutes*: Minutos de retraso en la llegada"
      ]
    },
    {
      "cell_type": "markdown",
      "metadata": {
        "id": "sOoIFHpw5xCW"
      },
      "source": [
        "En consideración de lo anterior, realice las siguientes tareas:\n",
        "\n",
        "0. Ingeste el dataset a su ambiente de trabajo.\n",
        "\n",
        "1. Seleccione **sólo las variables numéricas del dataset**.  Explique qué éfectos podría causar el uso de variables categóricas en un algoritmo no supervisado. [2 punto]\n",
        "\n",
        "2. Realice una visualización de la distribución de cada variable y analice cada una de estas distribuciones. [2 punto]\n",
        "\n",
        "3. Basándose en los gráficos, evalúe la necesidad de escalar los datos y explique el motivo de su decisión. [2 puntos]\n",
        "\n",
        "4. Examine la correlación entre las variables mediante un correlograma. [2 puntos]\n",
        "\n",
        "5. De acuerdo con los resultados obtenidos en 5, reduzca la dimensionalidad del conjunto de datos a cuatro variables, justificando su elección respecto a las variables que decide eliminar. [2 puntos]"
      ]
    },
    {
      "cell_type": "markdown",
      "metadata": {
        "id": "tO6tcVBCtxxS"
      },
      "source": [
        "**Respuesta:**"
      ]
    },
    {
      "cell_type": "code",
      "execution_count": null,
      "metadata": {
        "colab": {
          "base_uri": "https://localhost:8080/",
          "height": 638
        },
        "id": "pzHTZ17xveU_",
        "outputId": "dad21175-ad2a-4c7b-ea86-c880e80b663b"
      },
      "outputs": [],
      "source": [
        "df = pd.read_parquet('aerolineas_lucer.parquet')\n",
        "df.head(10)"
      ]
    },
    {
      "cell_type": "code",
      "execution_count": null,
      "metadata": {
        "colab": {
          "base_uri": "https://localhost:8080/",
          "height": 649
        },
        "id": "AxwrNeELPYYN",
        "outputId": "21c10ff4-0aa7-4d72-ae20-12545da20a8b"
      },
      "outputs": [],
      "source": [
        "# 1. seleccionar solo variables numéricas\n",
        "df_num = df.select_dtypes(include='number')\n",
        "\n",
        "# Eliminar la columna 'id' del DataFrame df_num\n",
        "df_num = df_num.drop(columns=['id'], errors='ignore')\n",
        "\n",
        "#corroboramos type de cada variable numerica\n",
        "df_num.dtypes"
      ]
    },
    {
      "cell_type": "markdown",
      "metadata": {
        "id": "jvvqfeWLagvo"
      },
      "source": [
        "Las variables categóricas pueden tener varios efectos en un algoritmo no supervisado, desde influir en las medidas de distancia hasta afectar la interpretación de los resultados. Es importante prestar atención al manejo de estas variables para garantizar que el algoritmo funcione de manera adecuada y que los resultados sean interpretables y útiles."
      ]
    },
    {
      "cell_type": "code",
      "execution_count": null,
      "metadata": {
        "colab": {
          "base_uri": "https://localhost:8080/",
          "height": 1000
        },
        "id": "_USI3JrGQJEq",
        "outputId": "2f65d236-5dfb-4f47-e0cc-8e4bc2b7173b"
      },
      "outputs": [],
      "source": [
        "# 2. Visualización de la distribución de cada variable y analice cada una de estas distribuciones.\n",
        "\n",
        "# Histogramas variables numericas que no son de satisfaccion\n",
        "df_selected_num = df[[\"Age\", \"Flight Distance\", \"Departure Delay in Minutes\", \"Arrival Delay in Minutes\"]]\n",
        "for column in df_selected_num.columns:\n",
        "    fig = px.histogram(df_selected_num, x=column, title=f'Distribución de {column}')\n",
        "    fig.show()"
      ]
    },
    {
      "cell_type": "code",
      "execution_count": null,
      "metadata": {
        "colab": {
          "base_uri": "https://localhost:8080/",
          "height": 542
        },
        "id": "ELZ-95guP0eB",
        "outputId": "69e9a29b-623f-4410-9641-22cefd33cbf4"
      },
      "outputs": [],
      "source": [
        "# Variables de satisfacción (rango 1 al 5)\n",
        "\n",
        "# Seleccionar las columnas cuyo valor máximo es 5\n",
        "columns_with_max_5 = df_num.columns[df_num.max() == 5]\n",
        "df_filtered = df_num[columns_with_max_5]\n",
        "df_to_hists = df_filtered.melt(var_name=\"variable\", value_name=\"valor\")\n",
        "\n",
        "# Crear el gráfico de histogramas con facetas para cada variable\n",
        "fig = px.histogram(\n",
        "    df_to_hists,\n",
        "    x=\"valor\",\n",
        "    color=\"variable\",  # Usar diferentes colores para cada variable\n",
        "    facet_col=\"variable\",\n",
        "    facet_col_wrap=4,  # Ajustar el número de columnas de las facetas\n",
        "    title=\"Distribución de Variables Numéricas (de evaluación)\"\n",
        ")\n",
        "\n",
        "# Ajustar el layout del gráfico\n",
        "fig.update_layout(\n",
        "    showlegend=False,\n",
        ")\n",
        "\n",
        "# Mostrar el gráfico\n",
        "fig.show()\n"
      ]
    },
    {
      "cell_type": "markdown",
      "metadata": {
        "id": "Qlb3YJJ7VzPC"
      },
      "source": [
        "Evaluación de las distribuciones:\n",
        "- Age: Se observa que la edad se concentra entre los 23 y los 60 años.\n",
        "- Flight Distance: Distancias cortas de vuelos son las que predominan.\n",
        "- Inflight wifi service: Hay un servicio de wifi promedio. No es ni bueno ni malo.\n",
        "- Departure/Arrival time convenient: En general hay buena aprobación en el tiempo de despegue y aterrizaje.\n",
        "- Ease of Online booking: Similar al wifi, el servicio es promedio.\n",
        "- Gate location: La satisfacción de la ubicación del gate tiene media 3 pero se encuentra desplazada hacia el valor 5.\n",
        "- Food and drink: En general se evalúa bien la comida.\n",
        "- Online boarding: La distribución se muestra como una normal concentrada en el valor 4. Lo cual sugiere un nivel bastante satisfecho.\n",
        "- Seat comfort, Inflight entertainment, On-board service, Leg room service, Baggage handling, Checkin service, Inflight service, Cleanliness: Todas estas variables anteriores son similares a la distribución de Online Boarding.\n",
        "- Departure Delay in Minutes: La distribución se concentra en cero minutos, y tiene una cola larga con varios datos entre los 5-20 minutos, y llega hasta 1500.\n",
        "- Arrival Delay in Minutes: Similar al departure delay in minutes."
      ]
    },
    {
      "cell_type": "markdown",
      "metadata": {
        "id": "tRFXtc0JWAzh"
      },
      "source": [
        "3. Sobre escalamiento de variables\n",
        "\n",
        "Escalaríamos las variables de 'Flight Distance', 'Departure Delay in Minutes' y 'Arrival Delay in Minutes'. El motivo del escalamiento de estas variables es para que estas características contribuyan equitativamente en modelos de aprendizaje y algoritmos basados en distancias o magnitudes funcionen óptimamente."
      ]
    },
    {
      "cell_type": "code",
      "execution_count": null,
      "metadata": {
        "colab": {
          "base_uri": "https://localhost:8080/",
          "height": 817
        },
        "id": "enT2OaG3P3Z7",
        "outputId": "abdff7e3-f7cb-4824-dde3-1b28b080016f"
      },
      "outputs": [],
      "source": [
        "# 4. Mapa de correlación\n",
        "\n",
        "import plotly.graph_objs as go\n",
        "import plotly.offline as pyo\n",
        "\n",
        "# Calcula la matriz de correlación\n",
        "correlation_matrix = df_num.corr()\n",
        "\n",
        "# Crea el heatmap con Plotly\n",
        "heatmap = go.Heatmap(z=correlation_matrix.values,\n",
        "                     x=correlation_matrix.columns,\n",
        "                     y=correlation_matrix.columns)\n",
        "\n",
        "layout = go.Layout(title='Correlograma de las variables',\n",
        "                   height= 800,\n",
        "                   width= 1000,\n",
        "                   xaxis=dict(title='Variables'),\n",
        "                   yaxis=dict(title='Variables'))\n",
        "\n",
        "fig = go.Figure(data=[heatmap], layout=layout)\n",
        "\n",
        "import plotly.io as pio\n",
        "\n",
        "# Muestra el correlograma\n",
        "pio.show(fig)"
      ]
    },
    {
      "cell_type": "markdown",
      "metadata": {
        "id": "DGzQSLDbWM39"
      },
      "source": [
        "\n",
        "5. De acuerdo a los resultados obtenidos en el gráfico de correlación, en primer lugar se escogerán las variables\n",
        "\n",
        "- `Flight distance`: ya que, tiene correlación muy bajas entre el resto de las variables, entregando nueva información sin redundancia\n",
        "\n",
        "- `Departure/Arrival time convenient`: ya que puede ser una variable que nos ayude a tener un contexto general de otras variables que tienen correlación con está como `Gate location`.\n",
        "\n",
        "- `On-board service`: esta variable aporta información relevante sobre la experiencia del pasajero y no está altamente correlacionada con las otras variables escogidas.\n",
        "\n",
        "- `Seat comfort`: misma razón anterior, da información relevante del vuelo\n",
        "\n",
        "El resto de las variables las decidimos eliminar debido a que pueden tener correlaciones fuertes con más variables y también pueden tener aspectos de colinealidad con otras, seleccionando las que representan de mejor manera lo general de un vuelo."
      ]
    },
    {
      "cell_type": "markdown",
      "metadata": {
        "cell_id": "4b6c047d994f40ea9e78a36a777042e0",
        "deepnote_cell_type": "markdown",
        "id": "PNGfTgtkrqC9"
      },
      "source": [
        "## 3. Preprocesamiento 🎭. [10 puntos]"
      ]
    },
    {
      "cell_type": "markdown",
      "metadata": {
        "cell_id": "713b3f0e61dd4841bb5b38c730d344d5",
        "deepnote_cell_type": "markdown",
        "id": "6RZD0fMNrqC-"
      },
      "source": [
        "<center>\n",
        "<img src=\"https://i.pinimg.com/originals/1e/a8/0e/1ea80e7cea0d429146580c7e91c5b944.gif\" width=400>"
      ]
    },
    {
      "cell_type": "markdown",
      "metadata": {
        "cell_id": "98400c7b5fec4af193eec3601f53891e",
        "deepnote_cell_type": "markdown",
        "id": "J6d4VEOTrqC-"
      },
      "source": [
        "Tras quedar satisfecho con los resultados presentados en el punto 2, el dueño de la empresa ha solicitado que se preprocesen los datos mediante un `pipeline`. Es crucial que este proceso tenga en cuenta las observaciones derivadas de los análisis anteriores. Adicionalmente, ha expresado su interés en visualizar el conjunto de datos en un gráfico de dos o tres dimensiones.\n",
        "\n",
        "Basándose en los análisis realizados anteriormente:\n",
        "1. Cree un `pipeline` que incluya PCA, utilizando las consideraciones mencionadas previamente para proyectar los datos a dos dimensiones. [4 puntos]\n",
        "2. Grafique los resultados obtenidos y comente lo visualizado. [6 puntos]"
      ]
    },
    {
      "cell_type": "markdown",
      "metadata": {
        "id": "paDSaGoq0OUp"
      },
      "source": [
        "**Respuestas:**"
      ]
    },
    {
      "cell_type": "code",
      "execution_count": null,
      "metadata": {
        "id": "jkAg4km-c0j1"
      },
      "outputs": [],
      "source": [
        "from sklearn.pipeline import Pipeline\n",
        "from sklearn.preprocessing import StandardScaler\n",
        "from sklearn.decomposition import PCA\n",
        "import matplotlib.pyplot as plt"
      ]
    },
    {
      "cell_type": "code",
      "execution_count": null,
      "metadata": {
        "cell_id": "ad1e70818ad748638ca0927b07a76125",
        "deepnote_cell_type": "code",
        "id": "gBYG238wrqC-"
      },
      "outputs": [],
      "source": [
        "df2 = df_num[['Flight Distance', 'Departure/Arrival time convenient', 'On-board service', 'Seat comfort']]"
      ]
    },
    {
      "cell_type": "code",
      "execution_count": null,
      "metadata": {
        "colab": {
          "base_uri": "https://localhost:8080/",
          "height": 719
        },
        "id": "ipCEXvexcfNn",
        "outputId": "6b008cdb-e62a-4bcc-d61a-24707bc1b9ff"
      },
      "outputs": [],
      "source": [
        "# 1. Crear el pipeline con PCA\n",
        "pipeline = Pipeline([\n",
        "    # Estandarizar las variables numéricas\n",
        "    ('scaler', StandardScaler()),\n",
        "    # Aplicar PCA para reducir la dimensionalidad a dos dimensiones\n",
        "    ('pca', PCA(n_components=2))\n",
        "])\n",
        "\n",
        "# Aplicar el pipeline a los datos\n",
        "datos_procesados = pipeline.fit_transform(df2)\n",
        "\n",
        "# Graficar los resultados en dos dimensiones\n",
        "fig = plt.figure(figsize=(10, 8))\n",
        "ax = fig.add_subplot(111)\n",
        "\n",
        "# Graficar las dos componentes principales\n",
        "ax.scatter(datos_procesados[:, 0], datos_procesados[:, 1], alpha=0.5)\n",
        "ax.set_title('Proyección de datos en 2 dimensiones usando PCA')\n",
        "ax.set_xlabel('Componente principal 1')\n",
        "ax.set_ylabel('Componente principal 2')\n",
        "\n",
        "# Mostrar el gráfico\n",
        "plt.show()\n"
      ]
    },
    {
      "cell_type": "markdown",
      "metadata": {
        "id": "6noZESd1eZ3P"
      },
      "source": [
        "El gráfico de la proyección usando PCA muestra un patrón lineal claro con puntos alineados en múltiples diagonales. Esto sugiere una fuerte correlación entre las variables originales, lo que indica que las componentes principales pueden estar capturando relaciones lineales evidentes entre ellas. Además, la concentración de puntos en ciertas áreas refleja que la variabilidad del conjunto de datos no está completamente capturada en estas dos dimensiones, lo cual implica una posible pérdida de información.\n",
        "\n",
        "Además, se observa una clara separación de grupos en la proyección, lo cual sugiere que las variables seleccionadas no son suficientes para distinguir claramente diferentes categorías (si es que existen)."
      ]
    },
    {
      "cell_type": "markdown",
      "metadata": {
        "cell_id": "bd281470d3054764a63d857cfa7d52a6",
        "deepnote_cell_type": "text-cell-h2",
        "formattedRanges": [],
        "id": "7ENoOtIIrqC_"
      },
      "source": [
        "## 4. Outliers 🚫🙅‍♀️❌🙅‍♂️ [10 puntos]"
      ]
    },
    {
      "cell_type": "markdown",
      "metadata": {
        "cell_id": "db89e9c9f35c44abbd8991180226c0ea",
        "deepnote_cell_type": "markdown",
        "id": "fbGw6Sa-rqC_"
      },
      "source": [
        "<center>\n",
        "<img src=\"https://joachim-gassen.github.io/images/ani_sim_bad_leverage.gif\" width=250>"
      ]
    },
    {
      "cell_type": "markdown",
      "metadata": {
        "cell_id": "3e2f59fa12954641af7a854a4e203694",
        "deepnote_cell_type": "markdown",
        "id": "nl_ccu9brqDA"
      },
      "source": [
        "Con el objetivo de mantener la claridad en su análisis, Don Sergio le ha solicitado entrenar un modelo que identifique pasajeros con comportamientos altamente atípicos.\n",
        "\n",
        "1. Utilice `IsolationForest` para clasificar las anomalías del dataset (sin aplicar PCA), configurando el modelo para que sólo el 1% de los datos sean considerados anómalos. Asegúrese de integrar esta tarea dentro de un `pipeline`. [3 puntos]\n",
        "\n",
        "2. Visualice los resultados en el gráfico de dos dimensiones previamente creado. [3 puntos]\n",
        "\n",
        "3. ¿Cómo evaluaría el rendimiento de su modelo en la detección de anomalías? [4 puntos]"
      ]
    },
    {
      "cell_type": "markdown",
      "metadata": {
        "id": "b5cS1FR00NlF"
      },
      "source": [
        "**Respuestas:**"
      ]
    },
    {
      "cell_type": "code",
      "execution_count": null,
      "metadata": {
        "cell_id": "be86896911244aa89e3b5f3f00a286af",
        "colab": {
          "base_uri": "https://localhost:8080/",
          "height": 565
        },
        "deepnote_cell_type": "code",
        "id": "iaPZFmjyrqDA",
        "outputId": "afc69b48-9305-4f87-bea0-e33bcca9d5c1"
      },
      "outputs": [],
      "source": [
        "from sklearn.ensemble import IsolationForest\n",
        "\n",
        "# 1. Crear el pipeline\n",
        "pipeline_anomalias = Pipeline([\n",
        "    # Estandarizar las variables numéricas\n",
        "    ('scaler', StandardScaler()),\n",
        "    # Detección de anomalías utilizando Isolation Forest\n",
        "    ('isolation_forest', IsolationForest(contamination=0.01))\n",
        "])\n",
        "\n",
        "# 2. Entrenar el modelo en el conjunto de datos\n",
        "pipeline_anomalias.fit(df2)\n",
        "\n",
        "# 3. Identificar anomalías en el conjunto de datos\n",
        "anomalias = pipeline_anomalias.predict(df2)\n",
        "\n",
        "# 4. Visualizar los resultados en el gráfico de dos dimensiones\n",
        "plt.figure(figsize=(8, 6))\n",
        "plt.scatter(datos_procesados[:, 0], datos_procesados[:, 1], c=anomalias, cmap='viridis', alpha=0.5)\n",
        "plt.title('Detección de anomalías en el gráfico de dos dimensiones')\n",
        "plt.xlabel('Componente principal 1')\n",
        "plt.ylabel('Componente principal 2')\n",
        "plt.colorbar(label='Anomalía (1: Anormal, -1: Normal)')\n",
        "plt.grid(True)\n",
        "plt.show()"
      ]
    },
    {
      "cell_type": "markdown",
      "metadata": {
        "id": "e4-chmPof_aZ"
      },
      "source": [
        "Tenemos que para el 1% de los datos que fueron considerados anomalos de acuerdo al gráfico se observa que la gran mayoria de los datos son anomalos, por lo que el rendimiento de este modelo de detección de anomalias podría tener varios casos de falsos positivos o falsos negativos. Ahora para tener más noción del rendimiento del modelo se podrian aplicar métricas de desempeño para observar que tan bueno o malo fue el modelo de detección de anomalias."
      ]
    },
    {
      "cell_type": "markdown",
      "metadata": {
        "cell_id": "3871e2fe5bdd422dbdbfaebf75503ae3",
        "deepnote_cell_type": "markdown",
        "id": "zQFTklmVrqDB"
      },
      "source": [
        "## 5. Métricas de Desempeño 🚀 [10 puntos]"
      ]
    },
    {
      "cell_type": "markdown",
      "metadata": {
        "cell_id": "236333de6dd445c182aefcc507589325",
        "deepnote_cell_type": "markdown",
        "id": "YpNj4wbPrqDB"
      },
      "source": [
        "<center>\n",
        "<img src=\"https://giffiles.alphacoders.com/219/219081.gif\" width=300>"
      ]
    },
    {
      "cell_type": "markdown",
      "metadata": {
        "cell_id": "a7e1ceb91be94b1da2ab8be97dfac999",
        "deepnote_cell_type": "markdown",
        "id": "CR3hzRxrrqDB"
      },
      "source": [
        "Motivado por incrementar su fortuna, Don Sergio le solicita entrenar un modelo que le permita segmentar a los pasajeros en grupos distintos, con el objetivo de optimizar las diversas campañas de marketing diseñadas por su equipo. Para ello, le se pide realizar las siguientes tareas:\n",
        "\n",
        "1. Utilizar el modelo **Gaussian Mixture** y explore diferentes configuraciones de número de clústers, específicamente entre 3 y 8. Asegúrese de integrar esta operación dentro de un `pipeline`. [4 puntos]\n",
        "2. Explique cuál sería el criterio adecuado para seleccionar el número óptimo de clústers. **Justifique de forma estadistica y a traves de gráficos.** [6 puntos]\n",
        "\n",
        "> **HINT:** Se recomienda investigar sobre los criterios AIC y BIC para esta tarea."
      ]
    },
    {
      "cell_type": "markdown",
      "metadata": {
        "id": "Jt_T_zTg0MXB"
      },
      "source": [
        "**Respuestas:**"
      ]
    },
    {
      "cell_type": "code",
      "execution_count": null,
      "metadata": {
        "cell_id": "6d3d1bb3fda14321984466d9101a775a",
        "deepnote_cell_type": "code",
        "id": "5GeUb9J3rqDB"
      },
      "outputs": [],
      "source": [
        "from sklearn.mixture import GaussianMixture\n",
        "import warnings\n",
        "\n",
        "# Suprimir las advertencias de UserWarning\n",
        "warnings.filterwarnings(\"ignore\", category=UserWarning)\n",
        "\n",
        "# 1. Crear el pipeline con el modelo Gaussian Mixture\n",
        "pipeline_gmm = Pipeline([\n",
        "    # Estandarizar las variables numéricas\n",
        "    ('scaler', StandardScaler()),\n",
        "    # Modelo de mezclas gaussianas\n",
        "    ('gmm', GaussianMixture())\n",
        "])\n",
        "\n",
        "# Explorar diferentes configuraciones de número de clústeres\n",
        "num_clústeres = range(3, 9)     # clusters entre 3 al 8\n",
        "resultados_modelos = []\n",
        "\n",
        "for n in num_clústeres:\n",
        "    # Configurar el número de componentes del GMM\n",
        "    pipeline_gmm.set_params(gmm__n_components=n)\n",
        "\n",
        "    # Entrenar el modelo en el conjunto de datos\n",
        "    pipeline_gmm.fit(df2)\n",
        "\n",
        "    # Calcular AIC y BIC\n",
        "    aic = pipeline_gmm.named_steps['gmm'].aic(df2)\n",
        "    bic = pipeline_gmm.named_steps['gmm'].bic(df2)\n",
        "\n",
        "    # Guardar los resultados\n",
        "    resultados_modelos.append({'Número de clústeres': n, 'AIC': aic, 'BIC': bic})\n",
        "\n",
        "# Convertir los resultados a un DataFrame para facilitar su visualización\n",
        "resultados_df = pd.DataFrame(resultados_modelos)"
      ]
    },
    {
      "cell_type": "code",
      "execution_count": null,
      "metadata": {
        "colab": {
          "base_uri": "https://localhost:8080/",
          "height": 1000
        },
        "id": "W26G5OLFBJgZ",
        "outputId": "677ffa59-1384-44fd-9538-961ffc0ba0bb"
      },
      "outputs": [],
      "source": [
        "# Visualizar los resultados del criterio AIC\n",
        "plt.figure(figsize=(9, 6))\n",
        "plt.plot(resultados_df['Número de clústeres'], resultados_df['AIC'], marker='o', color='blue', label='AIC')\n",
        "plt.title('Criterio AIC para selección de número de clústeres')\n",
        "plt.xlabel('Número de clústeres')\n",
        "plt.ylabel('Valor')\n",
        "plt.legend()\n",
        "plt.grid(True)\n",
        "plt.show()\n",
        "\n",
        "# Visualizar los resultados del criterio BIC\n",
        "plt.figure(figsize=(9, 6))\n",
        "plt.plot(resultados_df['Número de clústeres'], resultados_df['BIC'], marker='o', color='orange', label='BIC')\n",
        "plt.title('Criterio BIC para selección de número de clústeres')\n",
        "plt.xlabel('Número de clústeres')\n",
        "plt.ylabel('Valor')\n",
        "plt.legend()\n",
        "plt.grid(True)\n",
        "plt.show()"
      ]
    },
    {
      "cell_type": "markdown",
      "metadata": {
        "id": "k5OZX6PUB-U-"
      },
      "source": [
        "2. Selección mejor clúster: El criterio para escoger la cantidad de cluster será aquel que minimice tanto el valor del AIC como el BIC, podemos ver que para el valor de 3 clusters es cuando el valor para AIC y BIC se encuentran en el mínimo y además las curvas para estás metricas son las mismas, por lo que, se escogeran 3 clusters"
      ]
    },
    {
      "cell_type": "markdown",
      "metadata": {
        "cell_id": "dd342e336254418ba766b29dce16b267",
        "deepnote_cell_type": "markdown",
        "id": "P9CERnaerqDC"
      },
      "source": [
        "## 6. Análisis de resultados 📊 [10 puntos]"
      ]
    },
    {
      "cell_type": "markdown",
      "metadata": {
        "cell_id": "953b5ad01a704b50b899db7176d1b7b2",
        "deepnote_cell_type": "markdown",
        "id": "I1yNa111rqDC"
      },
      "source": [
        "<center>\n",
        "<img src=\"https://i.gifer.com/7wTk.gif\" width=300>"
      ]
    },
    {
      "cell_type": "markdown",
      "metadata": {
        "cell_id": "fd90e2f135404353ac0b5ab844936ca7",
        "deepnote_cell_type": "markdown",
        "id": "dg0Qx4RZrqDC"
      },
      "source": [
        "Una vez identificado el número óptimo de clústers, se le pide realizar lo siguiente:\n",
        "\n",
        "1. Utilizar la proyección en dos dimensiones para visualizar cada clúster claramente. [2 puntos]\n",
        "\n",
        "2. ¿Es posible distinguir claramente entre los clústers generados? [2 puntos]\n",
        "\n",
        "3. Proporcionar una descripción breve de cada clúster utilizando estadísticas descriptivas básicas, como la media y la desviación estándar, para resumir las características de las variables utilizadas en estos algoritmos. [2 puntos]\n",
        "\n",
        "4. Proceda a visualizar los clústers en tres dimensiones para una perspectiva más detallada. [2 puntos]\n",
        "\n",
        "5. ¿Cómo afecta esto a sus conclusiones anteriores? [2 puntos]"
      ]
    },
    {
      "cell_type": "markdown",
      "metadata": {
        "id": "CRN0zZip0IMB"
      },
      "source": [
        "**Respuestas:**"
      ]
    },
    {
      "cell_type": "code",
      "execution_count": null,
      "metadata": {
        "cell_id": "9abf4dbc643e40cebe99fcb1ff3ff413",
        "colab": {
          "base_uri": "https://localhost:8080/",
          "height": 641
        },
        "deepnote_cell_type": "code",
        "id": "XmZrz15GrqDC",
        "outputId": "0c32294c-453b-4a33-adfb-86b2e4732a3b"
      },
      "outputs": [],
      "source": [
        "# 1. Proyectar clusters en 2D\n",
        "\n",
        "# Ajustar el modelo de mezclas gaussianas con el número óptimo de clústeres\n",
        "n_optimo = 3\n",
        "pipeline_gmm.set_params(gmm__n_components=n_optimo)\n",
        "pipeline_gmm.fit(df2)\n",
        "\n",
        "# Obtener las etiquetas de clúster asignadas a cada observación\n",
        "etiquetas = pipeline_gmm.predict(df2)\n",
        "\n",
        "# Proyección en dos dimensiones\n",
        "plt.figure(figsize=(9, 7))\n",
        "plt.scatter(datos_procesados[:, 0], datos_procesados[:, 1], c=etiquetas, cmap='viridis', alpha=0.5)\n",
        "plt.title('Clústers en dos dimensiones')\n",
        "plt.xlabel('Componente principal 1')\n",
        "plt.ylabel('Componente principal 2')\n",
        "plt.colorbar(label='Clúster')\n",
        "plt.grid(True)\n",
        "plt.show()\n"
      ]
    },
    {
      "cell_type": "markdown",
      "metadata": {
        "id": "UMknSGplDfg3"
      },
      "source": [
        "2. Se observa que se pueden distinguir claramente los clusters en los extremos de la densidad de datos, sin embargo, no es claro en el centro donde estos se mezclan y no es claro diferenciarlos"
      ]
    },
    {
      "cell_type": "code",
      "execution_count": null,
      "metadata": {
        "colab": {
          "base_uri": "https://localhost:8080/",
          "height": 206
        },
        "id": "Z6YG5bBVD2iR",
        "outputId": "1f616f6f-7235-4127-c66a-c678b9fcb70d"
      },
      "outputs": [],
      "source": [
        "# Agregar las etiquetas de clúster al DataFrame original\n",
        "df_con_etiquetas = df2.copy()\n",
        "df_con_etiquetas['Cluster'] = etiquetas\n",
        "\n",
        "# Calcular estadísticas descriptivas para cada clúster (media y desviación estándar)\n",
        "descripcion_clusters = df_con_etiquetas.groupby('Cluster').agg(['mean', 'std'])\n",
        "\n",
        "# Agregar el conteo de datos de cada clúster\n",
        "conteo_clusters = df_con_etiquetas['Cluster'].value_counts().sort_index()\n",
        "descripcion_clusters['Count'] = conteo_clusters\n",
        "\n",
        "# Mostrar la descripción\n",
        "descripcion_clusters"
      ]
    },
    {
      "cell_type": "markdown",
      "metadata": {
        "id": "jWaFEtPwEFYA"
      },
      "source": [
        "Conclusiones de clústers:\n",
        "- `Clúster 0`: representa pasajeros en vuelos de larga distancia (por el promedio muy alto en `Flight Distance`). Su variabilidad es muy alta en la distancia (std=791,6), lo que sugiere una considerable variabilidad en la longitud de los vuelos dentro de este grupo. Este grupo también parece encontrar los horarios de vuelo más convenientes (`Departure/Arrival time convenient`) que el Clúster 1, pero menos convenientes que el Clúster 2. Estos pasajeros reportan mayor satisfacción en `Seat comfort` (media de 3.77) y `On-board service` (media de 3.58), con desviaciones estándar relativamente bajas (alrededor de 1.2).\n",
        "\n",
        "- `Clúster 1`: Estos están asociados con vuelos de corta distancia, al igual que el `clúster 2` (tienen media en `Flight Distance` entre 500 y 600) y desviaciones estándar más bajas (alrededor de 300) que el `clúster 0`, lo cual sugiere mayor uniformidad en las distancias de vuelo. En cuanto a `On-board service` y `Seat comfort`, los `clústeres 1 y 2` tienen promedios menores (alrededor de 3.2 a 3.3) y desviaciones estándar ligeramente más altas que el `Clúster 0`, lo cual implica una mayor variabilidad en la percepción del servicio y la comodidad de los asientos.\n",
        "\n",
        "- `Clúster 2`: al igual que el anterior, esta asosciado a vuelos de corta distancia y tiene aspectos similares en `On-board service` y `Seat comfort`,En este caso se destaca por encontrar los horarios más convenientes (promedio de `Departure/Arrival time convenient` alto de 4.46), aunque tiene una desviación estándar relativamente alta, lo que indica que hay diversidad de opiniones sobre la conveniencia de los horarios.\n",
        "\n",
        "Observamos que los 3 clúster tienen cantidad similar de datos, por lo que no se presenta un desbalance importante entre ellos,"
      ]
    },
    {
      "cell_type": "code",
      "execution_count": null,
      "metadata": {
        "colab": {
          "base_uri": "https://localhost:8080/",
          "height": 675
        },
        "id": "fszuELuoITqW",
        "outputId": "84b22c64-039e-4eae-faaf-bdc874bb6ed1"
      },
      "outputs": [],
      "source": [
        "# 4. Visualizar los clústers en tres dimensiones para una perspectiva más detallada\n",
        "from matplotlib.lines import Line2D\n",
        "\n",
        "# se crea Pipeline con PCA de 3 componentes\n",
        "pipeline_3d = Pipeline([\n",
        "    # Estandarizar las variables numéricas\n",
        "    ('scaler', StandardScaler()),\n",
        "    # Aplicar PCA para reducir la dimensionalidad a dos dimensiones\n",
        "    ('pca', PCA(n_components=3))\n",
        "])\n",
        "\n",
        "# Aplicar el pipeline a los datos\n",
        "datos_procesados_3d = pipeline_3d.fit_transform(df2)\n",
        "\n",
        "# Crear el gráfico en tres dimensiones\n",
        "fig = plt.figure(figsize=(10, 8))\n",
        "ax = fig.add_subplot(111, projection='3d')\n",
        "\n",
        "# Definir los colores para cada clúster\n",
        "scatter = ax.scatter(datos_procesados_3d[:, 0], datos_procesados_3d[:, 1], datos_procesados_3d[:, 2],\n",
        "                     c=etiquetas, cmap='viridis', alpha=0.5)\n",
        "\n",
        "# Agregar título y etiquetas a los ejes\n",
        "ax.set_title('Clústers en tres dimensiones')\n",
        "ax.set_xlabel('Componente principal 1')\n",
        "ax.set_ylabel('Componente principal 2')\n",
        "ax.set_zlabel('Componente principal 3')\n",
        "\n",
        "# Crear la leyenda\n",
        "unique_labels = set(etiquetas)\n",
        "legend_elements = [Line2D([0], [0], marker='o', color='w', label=f'Clúster {label}',\n",
        "                          markerfacecolor=scatter.cmap(scatter.norm(label)), markersize=10)\n",
        "                   for label in unique_labels]\n",
        "\n",
        "ax.legend(handles=legend_elements, loc='upper right', title=\"Clústers\")\n",
        "\n",
        "# Mostrar el gráfico\n",
        "plt.show()\n"
      ]
    },
    {
      "cell_type": "markdown",
      "metadata": {
        "id": "pkB091UPJKrS"
      },
      "source": [
        "5. Nuevas conclusiones:\n",
        "\n",
        "Con el Gráfico de 3 dimensiones se pueden observar mejor los clúster que si estan separados, son distinguibles, no se superponen (al menos no de manera importante), por lo tanto se puede decir que si existen 3 tipos de pasajeros que fueron bien clasificados."
      ]
    }
  ],
  "metadata": {
    "colab": {
      "provenance": []
    },
    "deepnote_execution_queue": [],
    "deepnote_notebook_id": "7cb425aec99b4079954fd707109c42c3",
    "deepnote_persisted_session": {
      "createdAt": "2024-04-26T06:15:51.197Z"
    },
    "kernelspec": {
      "display_name": "Python 3",
      "name": "python3"
    },
    "language_info": {
      "codemirror_mode": {
        "name": "ipython",
        "version": 3
      },
      "file_extension": ".py",
      "mimetype": "text/x-python",
      "name": "python",
      "nbconvert_exporter": "python",
      "pygments_lexer": "ipython3",
      "version": "3.12.2"
    }
  },
  "nbformat": 4,
  "nbformat_minor": 0
}
